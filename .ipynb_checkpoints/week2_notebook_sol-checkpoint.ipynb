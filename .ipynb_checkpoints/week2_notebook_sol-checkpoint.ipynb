{
 "cells": [
  {
   "cell_type": "code",
   "execution_count": 5,
   "id": "1fd448f9",
   "metadata": {
    "ExecuteTime": {
     "end_time": "2022-10-03T18:56:12.650270Z",
     "start_time": "2022-10-03T18:56:08.462793Z"
    }
   },
   "outputs": [
    {
     "name": "stdout",
     "output_type": "stream",
     "text": [
      "What is your rate?10\n",
      "What were your hours?45\n",
      "475.0\n"
     ]
    }
   ],
   "source": [
    "rate = float(input(\"What is your rate?\"))\n",
    "hours = float(input(\"What were your hours?\"))\n",
    "\n",
    "if hours > 40:\n",
    "    pay = 40*rate + (hours-40)*rate*1.5\n",
    "else:\n",
    "    pay = rate*hours\n",
    "print(pay)"
   ]
  },
  {
   "cell_type": "code",
   "execution_count": 6,
   "id": "294f21b4",
   "metadata": {
    "ExecuteTime": {
     "end_time": "2022-10-03T18:59:15.939020Z",
     "start_time": "2022-10-03T18:59:09.998289Z"
    }
   },
   "outputs": [
    {
     "name": "stdout",
     "output_type": "stream",
     "text": [
      "What is your rate?10\n",
      "What were your hours?Sam\n",
      "Error, please enter numeric input\n"
     ]
    }
   ],
   "source": [
    "try:\n",
    "    rate = float(input(\"What is your rate?\"))\n",
    "    hours = float(input(\"What were your hours?\"))\n",
    "\n",
    "    if hours > 40:\n",
    "        pay = 40*rate + (hours-40)*rate*1.5\n",
    "    else:\n",
    "        pay = rate*hours\n",
    "    print(pay)\n",
    "except:\n",
    "    print('Error, please enter numeric input')"
   ]
  },
  {
   "cell_type": "code",
   "execution_count": 13,
   "id": "4605189d",
   "metadata": {
    "ExecuteTime": {
     "end_time": "2022-10-03T19:09:19.926459Z",
     "start_time": "2022-10-03T19:09:17.087825Z"
    }
   },
   "outputs": [
    {
     "name": "stdout",
     "output_type": "stream",
     "text": [
      "Please input a score0.75\n",
      "C\n",
      "D\n"
     ]
    }
   ],
   "source": [
    "try:\n",
    "    score = float(input(\"Please input a score\"))\n",
    "    if score >= 0 and score <= 1:\n",
    "        if score >= 0.9:\n",
    "            print(\"A\")\n",
    "        elif score >= 0.8:\n",
    "            print(\"B\")\n",
    "        elif score >= 0.7:\n",
    "            print(\"C\")\n",
    "        elif score >= 0.6:\n",
    "            print(\"D\")\n",
    "        else:\n",
    "            print(\"F\")\n",
    "    else:\n",
    "        print(\"The score is out of range\")\n",
    "except:\n",
    "    print(\"Error, please enter numeric input\")\n",
    "    "
   ]
  },
  {
   "cell_type": "code",
   "execution_count": null,
   "id": "5dfec677",
   "metadata": {},
   "outputs": [],
   "source": [
    "if score <= 0.6:\n",
    "    print(\"F\")\n",
    "elif socre <= 0.7:\n",
    "    print(\"D\")"
   ]
  }
 ],
 "metadata": {
  "kernelspec": {
   "display_name": "Python 3 (ipykernel)",
   "language": "python",
   "name": "python3"
  },
  "language_info": {
   "codemirror_mode": {
    "name": "ipython",
    "version": 3
   },
   "file_extension": ".py",
   "mimetype": "text/x-python",
   "name": "python",
   "nbconvert_exporter": "python",
   "pygments_lexer": "ipython3",
   "version": "3.9.13"
  },
  "toc": {
   "base_numbering": 1,
   "nav_menu": {},
   "number_sections": true,
   "sideBar": true,
   "skip_h1_title": true,
   "title_cell": "Table of Contents",
   "title_sidebar": "Contents",
   "toc_cell": false,
   "toc_position": {},
   "toc_section_display": true,
   "toc_window_display": true
  }
 },
 "nbformat": 4,
 "nbformat_minor": 5
}
