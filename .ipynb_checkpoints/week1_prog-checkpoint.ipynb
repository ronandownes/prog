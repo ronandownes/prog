{
 "cells": [
  {
   "cell_type": "markdown",
   "id": "03b2566b",
   "metadata": {},
   "source": [
    "## Heading 1\n",
    "$$\\frac{3}{2}$$\n",
    "\n"
   ]
  },
  {
   "cell_type": "code",
   "execution_count": 1,
   "id": "5476a8d4",
   "metadata": {
    "ExecuteTime": {
     "end_time": "2022-09-23T16:25:13.154697Z",
     "start_time": "2022-09-23T16:25:13.147691Z"
    }
   },
   "outputs": [],
   "source": [
    "sam = 6\n"
   ]
  },
  {
   "cell_type": "code",
   "execution_count": 2,
   "id": "128922e5",
   "metadata": {
    "ExecuteTime": {
     "end_time": "2022-09-23T16:25:13.170712Z",
     "start_time": "2022-09-23T16:25:13.155699Z"
    }
   },
   "outputs": [],
   "source": [
    "a = 2"
   ]
  },
  {
   "cell_type": "code",
   "execution_count": 3,
   "id": "8ef92c1b",
   "metadata": {
    "ExecuteTime": {
     "end_time": "2022-09-23T16:25:13.186726Z",
     "start_time": "2022-09-23T16:25:13.171713Z"
    }
   },
   "outputs": [
    {
     "name": "stdout",
     "output_type": "stream",
     "text": [
      "6\n"
     ]
    }
   ],
   "source": [
    "print(sam)\n"
   ]
  },
  {
   "cell_type": "code",
   "execution_count": null,
   "id": "1c3822ad",
   "metadata": {
    "ExecuteTime": {
     "end_time": "2022-09-19T19:40:33.434916Z",
     "start_time": "2022-09-19T19:40:33.419903Z"
    }
   },
   "outputs": [],
   "source": []
  },
  {
   "cell_type": "code",
   "execution_count": 4,
   "id": "5398ec00",
   "metadata": {
    "ExecuteTime": {
     "end_time": "2022-09-23T16:25:13.202740Z",
     "start_time": "2022-09-23T16:25:13.188728Z"
    }
   },
   "outputs": [
    {
     "data": {
      "text/plain": [
       "2"
      ]
     },
     "execution_count": 4,
     "metadata": {},
     "output_type": "execute_result"
    }
   ],
   "source": [
    "2"
   ]
  },
  {
   "cell_type": "code",
   "execution_count": 5,
   "id": "b89e9b7a",
   "metadata": {
    "ExecuteTime": {
     "end_time": "2022-09-23T16:25:13.218755Z",
     "start_time": "2022-09-23T16:25:13.203742Z"
    }
   },
   "outputs": [
    {
     "data": {
      "text/plain": [
       "int"
      ]
     },
     "execution_count": 5,
     "metadata": {},
     "output_type": "execute_result"
    }
   ],
   "source": [
    "type(2)"
   ]
  },
  {
   "cell_type": "code",
   "execution_count": 6,
   "id": "5d98fc4f",
   "metadata": {
    "ExecuteTime": {
     "end_time": "2022-09-23T16:25:13.234770Z",
     "start_time": "2022-09-23T16:25:13.219756Z"
    }
   },
   "outputs": [
    {
     "data": {
      "text/plain": [
       "float"
      ]
     },
     "execution_count": 6,
     "metadata": {},
     "output_type": "execute_result"
    }
   ],
   "source": [
    "type(2.0)"
   ]
  },
  {
   "cell_type": "markdown",
   "id": "57cf949d",
   "metadata": {},
   "source": [
    "Float = floating point number ie decimal"
   ]
  },
  {
   "cell_type": "code",
   "execution_count": 7,
   "id": "3c799842",
   "metadata": {
    "ExecuteTime": {
     "end_time": "2022-09-23T16:25:13.250785Z",
     "start_time": "2022-09-23T16:25:13.235771Z"
    }
   },
   "outputs": [
    {
     "data": {
      "text/plain": [
       "int"
      ]
     },
     "execution_count": 7,
     "metadata": {},
     "output_type": "execute_result"
    }
   ],
   "source": [
    "type(a)"
   ]
  },
  {
   "cell_type": "code",
   "execution_count": 8,
   "id": "b248909e",
   "metadata": {
    "ExecuteTime": {
     "end_time": "2022-09-23T16:25:13.266800Z",
     "start_time": "2022-09-23T16:25:13.251786Z"
    }
   },
   "outputs": [],
   "source": [
    "b = \"Hi everyone!\""
   ]
  },
  {
   "cell_type": "code",
   "execution_count": 9,
   "id": "eb76eb6b",
   "metadata": {
    "ExecuteTime": {
     "end_time": "2022-09-23T16:25:13.282059Z",
     "start_time": "2022-09-23T16:25:13.267800Z"
    }
   },
   "outputs": [
    {
     "data": {
      "text/plain": [
       "str"
      ]
     },
     "execution_count": 9,
     "metadata": {},
     "output_type": "execute_result"
    }
   ],
   "source": [
    "type(b)"
   ]
  },
  {
   "cell_type": "code",
   "execution_count": 10,
   "id": "3c694812",
   "metadata": {
    "ExecuteTime": {
     "end_time": "2022-09-23T16:25:13.297487Z",
     "start_time": "2022-09-23T16:25:13.284062Z"
    }
   },
   "outputs": [],
   "source": [
    "c = 'Good Evening!'"
   ]
  },
  {
   "cell_type": "code",
   "execution_count": 11,
   "id": "7555b569",
   "metadata": {
    "ExecuteTime": {
     "end_time": "2022-09-23T16:25:13.313491Z",
     "start_time": "2022-09-23T16:25:13.298488Z"
    }
   },
   "outputs": [],
   "source": [
    "d = '''Sam says\"Hi\" '''"
   ]
  },
  {
   "cell_type": "code",
   "execution_count": 12,
   "id": "da2bf347",
   "metadata": {
    "ExecuteTime": {
     "end_time": "2022-09-23T16:25:13.328831Z",
     "start_time": "2022-09-23T16:25:13.314493Z"
    }
   },
   "outputs": [
    {
     "data": {
      "text/plain": [
       "'Sam says\"Hi\" '"
      ]
     },
     "execution_count": 12,
     "metadata": {},
     "output_type": "execute_result"
    }
   ],
   "source": [
    "d"
   ]
  },
  {
   "cell_type": "markdown",
   "id": "6a493190",
   "metadata": {},
   "source": [
    "## Multiline strings\n",
    "Note that the triple quotes (either single or double) allow multiline strings in Python, which means the string can span multiple lines."
   ]
  },
  {
   "cell_type": "code",
   "execution_count": 14,
   "id": "76012063",
   "metadata": {
    "scrolled": true
   },
   "outputs": [
    {
     "data": {
      "text/plain": [
       "'Ronan can \"do this\" and \\'this\\'and loads of \"stuff\" '"
      ]
     },
     "execution_count": 14,
     "metadata": {},
     "output_type": "execute_result"
    }
   ],
   "source": [
    "e='''Ronan can \"do this\" and 'this'and loads of \"stuff\" '''\n",
    "e"
   ]
  },
  {
   "cell_type": "code",
   "execution_count": 15,
   "id": "75166289",
   "metadata": {
    "ExecuteTime": {
     "end_time": "2022-09-23T16:25:13.344171Z",
     "start_time": "2022-09-23T16:25:13.329833Z"
    }
   },
   "outputs": [
    {
     "data": {
      "text/plain": [
       "str"
      ]
     },
     "execution_count": 15,
     "metadata": {},
     "output_type": "execute_result"
    }
   ],
   "source": [
    "type(d)"
   ]
  },
  {
   "cell_type": "code",
   "execution_count": 16,
   "id": "705918f7",
   "metadata": {},
   "outputs": [
    {
     "data": {
      "text/plain": [
       "str"
      ]
     },
     "execution_count": 16,
     "metadata": {},
     "output_type": "execute_result"
    }
   ],
   "source": [
    "type(e)"
   ]
  },
  {
   "cell_type": "code",
   "execution_count": 14,
   "id": "3708897f",
   "metadata": {
    "ExecuteTime": {
     "end_time": "2022-09-23T16:25:13.359514Z",
     "start_time": "2022-09-23T16:25:13.345173Z"
    }
   },
   "outputs": [],
   "source": [
    "e = \"4\""
   ]
  },
  {
   "cell_type": "code",
   "execution_count": 15,
   "id": "bbd1f938",
   "metadata": {
    "ExecuteTime": {
     "end_time": "2022-09-23T16:25:13.374531Z",
     "start_time": "2022-09-23T16:25:13.360517Z"
    }
   },
   "outputs": [
    {
     "data": {
      "text/plain": [
       "str"
      ]
     },
     "execution_count": 15,
     "metadata": {},
     "output_type": "execute_result"
    }
   ],
   "source": [
    "type(e)"
   ]
  },
  {
   "cell_type": "code",
   "execution_count": 16,
   "id": "ac6f5265",
   "metadata": {
    "ExecuteTime": {
     "end_time": "2022-09-23T16:25:13.390163Z",
     "start_time": "2022-09-23T16:25:13.375533Z"
    }
   },
   "outputs": [
    {
     "data": {
      "text/plain": [
       "5"
      ]
     },
     "execution_count": 16,
     "metadata": {},
     "output_type": "execute_result"
    }
   ],
   "source": [
    "2+3"
   ]
  },
  {
   "cell_type": "code",
   "execution_count": 17,
   "id": "995ec137",
   "metadata": {
    "ExecuteTime": {
     "end_time": "2022-09-23T16:25:13.405482Z",
     "start_time": "2022-09-23T16:25:13.391165Z"
    }
   },
   "outputs": [
    {
     "data": {
      "text/plain": [
       "4"
      ]
     },
     "execution_count": 17,
     "metadata": {},
     "output_type": "execute_result"
    }
   ],
   "source": [
    "10-6"
   ]
  },
  {
   "cell_type": "code",
   "execution_count": 18,
   "id": "a868e458",
   "metadata": {
    "ExecuteTime": {
     "end_time": "2022-09-23T16:25:13.421214Z",
     "start_time": "2022-09-23T16:25:13.406484Z"
    }
   },
   "outputs": [
    {
     "data": {
      "text/plain": [
       "60"
      ]
     },
     "execution_count": 18,
     "metadata": {},
     "output_type": "execute_result"
    }
   ],
   "source": [
    "12*5"
   ]
  },
  {
   "cell_type": "code",
   "execution_count": 19,
   "id": "5630f5d4",
   "metadata": {
    "ExecuteTime": {
     "end_time": "2022-09-23T16:25:13.436538Z",
     "start_time": "2022-09-23T16:25:13.422215Z"
    }
   },
   "outputs": [
    {
     "data": {
      "text/plain": [
       "6.0"
      ]
     },
     "execution_count": 19,
     "metadata": {},
     "output_type": "execute_result"
    }
   ],
   "source": [
    "48/8"
   ]
  },
  {
   "cell_type": "code",
   "execution_count": 20,
   "id": "0c404f30",
   "metadata": {
    "ExecuteTime": {
     "end_time": "2022-09-23T16:25:13.451878Z",
     "start_time": "2022-09-23T16:25:13.437540Z"
    }
   },
   "outputs": [
    {
     "data": {
      "text/plain": [
       "'4'"
      ]
     },
     "execution_count": 20,
     "metadata": {},
     "output_type": "execute_result"
    }
   ],
   "source": [
    "e"
   ]
  },
  {
   "cell_type": "code",
   "execution_count": 21,
   "id": "c3b28a18",
   "metadata": {
    "ExecuteTime": {
     "end_time": "2022-09-23T16:25:13.466754Z",
     "start_time": "2022-09-23T16:25:13.452882Z"
    }
   },
   "outputs": [
    {
     "data": {
      "text/plain": [
       "int"
      ]
     },
     "execution_count": 21,
     "metadata": {},
     "output_type": "execute_result"
    }
   ],
   "source": [
    "type( int(e) )"
   ]
  },
  {
   "cell_type": "code",
   "execution_count": 22,
   "id": "dade2980",
   "metadata": {
    "ExecuteTime": {
     "end_time": "2022-09-23T16:25:13.482245Z",
     "start_time": "2022-09-23T16:25:13.467756Z"
    }
   },
   "outputs": [
    {
     "data": {
      "text/plain": [
       "4"
      ]
     },
     "execution_count": 22,
     "metadata": {},
     "output_type": "execute_result"
    }
   ],
   "source": [
    "int(e)"
   ]
  },
  {
   "cell_type": "code",
   "execution_count": 23,
   "id": "2cff19ea",
   "metadata": {
    "ExecuteTime": {
     "end_time": "2022-09-23T16:25:13.497263Z",
     "start_time": "2022-09-23T16:25:13.483248Z"
    }
   },
   "outputs": [
    {
     "data": {
      "text/plain": [
       "6"
      ]
     },
     "execution_count": 23,
     "metadata": {},
     "output_type": "execute_result"
    }
   ],
   "source": [
    "int(55/8)"
   ]
  },
  {
   "cell_type": "code",
   "execution_count": 24,
   "id": "9a7c0699",
   "metadata": {
    "ExecuteTime": {
     "end_time": "2022-09-23T16:25:13.512403Z",
     "start_time": "2022-09-23T16:25:13.498266Z"
    }
   },
   "outputs": [
    {
     "data": {
      "text/plain": [
       "6.875"
      ]
     },
     "execution_count": 24,
     "metadata": {},
     "output_type": "execute_result"
    }
   ],
   "source": [
    "55/8"
   ]
  },
  {
   "cell_type": "code",
   "execution_count": 25,
   "id": "b624cb82",
   "metadata": {
    "ExecuteTime": {
     "end_time": "2022-09-23T16:25:13.527903Z",
     "start_time": "2022-09-23T16:25:13.513403Z"
    }
   },
   "outputs": [
    {
     "data": {
      "text/plain": [
       "'4'"
      ]
     },
     "execution_count": 25,
     "metadata": {},
     "output_type": "execute_result"
    }
   ],
   "source": [
    "e"
   ]
  },
  {
   "cell_type": "code",
   "execution_count": 26,
   "id": "a586171c",
   "metadata": {
    "ExecuteTime": {
     "end_time": "2022-09-23T16:25:13.543769Z",
     "start_time": "2022-09-23T16:25:13.528904Z"
    }
   },
   "outputs": [],
   "source": [
    "e = int(e)"
   ]
  },
  {
   "cell_type": "code",
   "execution_count": 27,
   "id": "bd5d2689",
   "metadata": {
    "ExecuteTime": {
     "end_time": "2022-09-23T16:25:13.559887Z",
     "start_time": "2022-09-23T16:25:13.544770Z"
    }
   },
   "outputs": [
    {
     "data": {
      "text/plain": [
       "4"
      ]
     },
     "execution_count": 27,
     "metadata": {},
     "output_type": "execute_result"
    }
   ],
   "source": [
    "e"
   ]
  },
  {
   "cell_type": "code",
   "execution_count": 28,
   "id": "d2c210cb",
   "metadata": {
    "ExecuteTime": {
     "end_time": "2022-09-23T16:25:13.575522Z",
     "start_time": "2022-09-23T16:25:13.562890Z"
    }
   },
   "outputs": [
    {
     "data": {
      "text/plain": [
       "int"
      ]
     },
     "execution_count": 28,
     "metadata": {},
     "output_type": "execute_result"
    }
   ],
   "source": [
    "type(e)"
   ]
  },
  {
   "cell_type": "code",
   "execution_count": 29,
   "id": "185dffa9",
   "metadata": {
    "ExecuteTime": {
     "end_time": "2022-09-23T16:25:13.590649Z",
     "start_time": "2022-09-23T16:25:13.576525Z"
    }
   },
   "outputs": [
    {
     "data": {
      "text/plain": [
       "9"
      ]
     },
     "execution_count": 29,
     "metadata": {},
     "output_type": "execute_result"
    }
   ],
   "source": [
    "3**2"
   ]
  },
  {
   "cell_type": "markdown",
   "id": "92e63653",
   "metadata": {},
   "source": [
    "$$3^2$$"
   ]
  },
  {
   "cell_type": "code",
   "execution_count": 30,
   "id": "265cc40b",
   "metadata": {
    "ExecuteTime": {
     "end_time": "2022-09-23T16:25:13.605951Z",
     "start_time": "2022-09-23T16:25:13.592652Z"
    }
   },
   "outputs": [
    {
     "data": {
      "text/plain": [
       "1024"
      ]
     },
     "execution_count": 30,
     "metadata": {},
     "output_type": "execute_result"
    }
   ],
   "source": [
    "2**10"
   ]
  },
  {
   "cell_type": "code",
   "execution_count": 31,
   "id": "d3f1d713",
   "metadata": {
    "ExecuteTime": {
     "end_time": "2022-09-23T16:25:13.621765Z",
     "start_time": "2022-09-23T16:25:13.607662Z"
    }
   },
   "outputs": [
    {
     "data": {
      "text/plain": [
       "3.0"
      ]
     },
     "execution_count": 31,
     "metadata": {},
     "output_type": "execute_result"
    }
   ],
   "source": [
    "9**0.5"
   ]
  },
  {
   "cell_type": "code",
   "execution_count": 32,
   "id": "175aae0f",
   "metadata": {
    "ExecuteTime": {
     "end_time": "2022-09-23T16:25:13.637609Z",
     "start_time": "2022-09-23T16:25:13.622767Z"
    }
   },
   "outputs": [
    {
     "data": {
      "text/plain": [
       "2"
      ]
     },
     "execution_count": 32,
     "metadata": {},
     "output_type": "execute_result"
    }
   ],
   "source": [
    "5 % 3"
   ]
  },
  {
   "cell_type": "code",
   "execution_count": 33,
   "id": "65526f2b",
   "metadata": {
    "ExecuteTime": {
     "end_time": "2022-09-23T16:25:13.652957Z",
     "start_time": "2022-09-23T16:25:13.638611Z"
    }
   },
   "outputs": [],
   "source": [
    "e = '4'"
   ]
  },
  {
   "cell_type": "code",
   "execution_count": 34,
   "id": "770f20f4",
   "metadata": {
    "ExecuteTime": {
     "end_time": "2022-09-23T16:25:13.668764Z",
     "start_time": "2022-09-23T16:25:13.653959Z"
    }
   },
   "outputs": [
    {
     "data": {
      "text/plain": [
       "False"
      ]
     },
     "execution_count": 34,
     "metadata": {},
     "output_type": "execute_result"
    }
   ],
   "source": [
    "e == 4"
   ]
  },
  {
   "cell_type": "code",
   "execution_count": 35,
   "id": "261965aa",
   "metadata": {
    "ExecuteTime": {
     "end_time": "2022-09-23T16:25:13.684764Z",
     "start_time": "2022-09-23T16:25:13.669765Z"
    }
   },
   "outputs": [
    {
     "data": {
      "text/plain": [
       "True"
      ]
     },
     "execution_count": 35,
     "metadata": {},
     "output_type": "execute_result"
    }
   ],
   "source": [
    "e == '4'"
   ]
  },
  {
   "cell_type": "markdown",
   "id": "2e56ff63",
   "metadata": {},
   "source": [
    "Booleans: True and False"
   ]
  },
  {
   "cell_type": "code",
   "execution_count": 36,
   "id": "78909b11",
   "metadata": {
    "ExecuteTime": {
     "end_time": "2022-09-23T16:25:19.287165Z",
     "start_time": "2022-09-23T16:25:13.685765Z"
    }
   },
   "outputs": [
    {
     "name": "stdout",
     "output_type": "stream",
     "text": [
      "Do you have a pet?Dog\n"
     ]
    }
   ],
   "source": [
    "pet = input(\"Do you have a pet?\")"
   ]
  },
  {
   "cell_type": "code",
   "execution_count": 37,
   "id": "05d20f21",
   "metadata": {
    "ExecuteTime": {
     "end_time": "2022-09-23T16:25:19.303294Z",
     "start_time": "2022-09-23T16:25:19.288167Z"
    }
   },
   "outputs": [
    {
     "data": {
      "text/plain": [
       "'Dog'"
      ]
     },
     "execution_count": 37,
     "metadata": {},
     "output_type": "execute_result"
    }
   ],
   "source": [
    "pet"
   ]
  },
  {
   "cell_type": "code",
   "execution_count": 38,
   "id": "df1b99a5",
   "metadata": {
    "ExecuteTime": {
     "end_time": "2022-09-23T16:25:19.318665Z",
     "start_time": "2022-09-23T16:25:19.304287Z"
    }
   },
   "outputs": [
    {
     "data": {
      "text/plain": [
       "20"
      ]
     },
     "execution_count": 38,
     "metadata": {},
     "output_type": "execute_result"
    }
   ],
   "source": [
    "4*5"
   ]
  },
  {
   "cell_type": "code",
   "execution_count": 39,
   "id": "d5f3cf2a",
   "metadata": {
    "ExecuteTime": {
     "end_time": "2022-09-23T16:25:19.333991Z",
     "start_time": "2022-09-23T16:25:19.319667Z"
    }
   },
   "outputs": [
    {
     "data": {
      "text/plain": [
       "'44444'"
      ]
     },
     "execution_count": 39,
     "metadata": {},
     "output_type": "execute_result"
    }
   ],
   "source": [
    "'4'*5"
   ]
  },
  {
   "cell_type": "code",
   "execution_count": 40,
   "id": "16d86a12",
   "metadata": {
    "ExecuteTime": {
     "end_time": "2022-09-23T16:25:19.349834Z",
     "start_time": "2022-09-23T16:25:19.334993Z"
    }
   },
   "outputs": [
    {
     "data": {
      "text/plain": [
       "'Good Evening!'"
      ]
     },
     "execution_count": 40,
     "metadata": {},
     "output_type": "execute_result"
    }
   ],
   "source": [
    "c"
   ]
  },
  {
   "cell_type": "code",
   "execution_count": 41,
   "id": "0b858fed",
   "metadata": {
    "ExecuteTime": {
     "end_time": "2022-09-23T16:25:19.365556Z",
     "start_time": "2022-09-23T16:25:19.350835Z"
    }
   },
   "outputs": [],
   "source": [
    "c = \"hi everyone\""
   ]
  },
  {
   "cell_type": "code",
   "execution_count": 42,
   "id": "15951a47",
   "metadata": {
    "ExecuteTime": {
     "end_time": "2022-09-23T16:25:19.380571Z",
     "start_time": "2022-09-23T16:25:19.366558Z"
    }
   },
   "outputs": [
    {
     "data": {
      "text/plain": [
       "'hi everyonehi everyonehi everyone'"
      ]
     },
     "execution_count": 42,
     "metadata": {},
     "output_type": "execute_result"
    }
   ],
   "source": [
    "c*3"
   ]
  },
  {
   "cell_type": "code",
   "execution_count": 43,
   "id": "2a94f14b",
   "metadata": {
    "ExecuteTime": {
     "end_time": "2022-09-23T16:25:19.396585Z",
     "start_time": "2022-09-23T16:25:19.381572Z"
    }
   },
   "outputs": [
    {
     "data": {
      "text/plain": [
       "int"
      ]
     },
     "execution_count": 43,
     "metadata": {},
     "output_type": "execute_result"
    }
   ],
   "source": [
    ">>> type('Hello, World!')\n",
    "\n",
    ">>> type(17)\n",
    "\n"
   ]
  },
  {
   "cell_type": "markdown",
   "id": "20274741",
   "metadata": {},
   "source": [
    "Email: sweiss@cct.ie"
   ]
  },
  {
   "cell_type": "code",
   "execution_count": null,
   "id": "de588901",
   "metadata": {},
   "outputs": [],
   "source": []
  }
 ],
 "metadata": {
  "kernelspec": {
   "display_name": "Python 3 (ipykernel)",
   "language": "python",
   "name": "python3"
  },
  "language_info": {
   "codemirror_mode": {
    "name": "ipython",
    "version": 3
   },
   "file_extension": ".py",
   "mimetype": "text/x-python",
   "name": "python",
   "nbconvert_exporter": "python",
   "pygments_lexer": "ipython3",
   "version": "3.9.13"
  },
  "toc": {
   "base_numbering": 1,
   "nav_menu": {},
   "number_sections": true,
   "sideBar": true,
   "skip_h1_title": true,
   "title_cell": "Table of Contents",
   "title_sidebar": "Contents",
   "toc_cell": false,
   "toc_position": {},
   "toc_section_display": true,
   "toc_window_display": false
  }
 },
 "nbformat": 4,
 "nbformat_minor": 5
}
