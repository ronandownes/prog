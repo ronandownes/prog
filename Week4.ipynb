{
 "cells": [
  {
   "cell_type": "markdown",
   "id": "befa821f",
   "metadata": {},
   "source": [
    "# Functions\n",
    "print(\"Hello\")\n",
    "\n",
    "print() - function\n",
    "\n",
    "\"Hello\" - argument"
   ]
  },
  {
   "cell_type": "code",
   "execution_count": 1,
   "id": "3d124d96",
   "metadata": {
    "ExecuteTime": {
     "end_time": "2022-10-10T18:47:25.532576Z",
     "start_time": "2022-10-10T18:47:25.520564Z"
    }
   },
   "outputs": [
    {
     "name": "stdout",
     "output_type": "stream",
     "text": [
      "Hello\n"
     ]
    }
   ],
   "source": [
    "print(\"Hello\")"
   ]
  },
  {
   "cell_type": "code",
   "execution_count": 5,
   "id": "188770eb",
   "metadata": {
    "ExecuteTime": {
     "end_time": "2022-10-10T19:30:01.630839Z",
     "start_time": "2022-10-10T19:30:01.248493Z"
    }
   },
   "outputs": [],
   "source": [
    "import pandas as pd\n"
   ]
  },
  {
   "cell_type": "code",
   "execution_count": null,
   "id": "1fa86a6d",
   "metadata": {},
   "outputs": [],
   "source": [
    "# pd.read_csv(\"file.csv\",\n",
    "# skiprows=range(15))"
   ]
  },
  {
   "cell_type": "code",
   "execution_count": 3,
   "id": "ba064c6b",
   "metadata": {
    "ExecuteTime": {
     "end_time": "2022-10-10T18:49:04.381860Z",
     "start_time": "2022-10-10T18:49:04.367848Z"
    }
   },
   "outputs": [
    {
     "data": {
      "text/plain": [
       "5"
      ]
     },
     "execution_count": 3,
     "metadata": {},
     "output_type": "execute_result"
    }
   ],
   "source": [
    "len(\"Hello\")"
   ]
  },
  {
   "cell_type": "code",
   "execution_count": 4,
   "id": "504e51a1",
   "metadata": {
    "ExecuteTime": {
     "end_time": "2022-10-10T18:49:14.068384Z",
     "start_time": "2022-10-10T18:49:12.928348Z"
    }
   },
   "outputs": [
    {
     "name": "stdout",
     "output_type": "stream",
     "text": [
      "Please input somethingdasfa\n"
     ]
    },
    {
     "data": {
      "text/plain": [
       "'dasfa'"
      ]
     },
     "execution_count": 4,
     "metadata": {},
     "output_type": "execute_result"
    }
   ],
   "source": [
    "input(\"Please input something\")"
   ]
  },
  {
   "cell_type": "code",
   "execution_count": 5,
   "id": "847a9ed7",
   "metadata": {
    "ExecuteTime": {
     "end_time": "2022-10-10T18:49:32.666529Z",
     "start_time": "2022-10-10T18:49:32.656520Z"
    }
   },
   "outputs": [],
   "source": [
    "list1 = [1, 2, 3]"
   ]
  },
  {
   "cell_type": "code",
   "execution_count": 6,
   "id": "a257b3e6",
   "metadata": {
    "ExecuteTime": {
     "end_time": "2022-10-10T18:49:40.270619Z",
     "start_time": "2022-10-10T18:49:40.256607Z"
    }
   },
   "outputs": [],
   "source": [
    "list1.append(4)"
   ]
  },
  {
   "cell_type": "code",
   "execution_count": 7,
   "id": "753460f5",
   "metadata": {
    "ExecuteTime": {
     "end_time": "2022-10-10T18:49:42.248417Z",
     "start_time": "2022-10-10T18:49:42.240409Z"
    }
   },
   "outputs": [
    {
     "data": {
      "text/plain": [
       "[1, 2, 3, 4]"
      ]
     },
     "execution_count": 7,
     "metadata": {},
     "output_type": "execute_result"
    }
   ],
   "source": [
    "list1"
   ]
  },
  {
   "cell_type": "markdown",
   "id": "574accdf",
   "metadata": {},
   "source": [
    "## Method\n",
    "Method is a function attached to an object"
   ]
  },
  {
   "cell_type": "code",
   "execution_count": 8,
   "id": "292cad9e",
   "metadata": {
    "ExecuteTime": {
     "end_time": "2022-10-10T18:57:33.022968Z",
     "start_time": "2022-10-10T18:57:33.014959Z"
    }
   },
   "outputs": [],
   "source": [
    "def testFunction():\n",
    "    print(\"Hello Class!\")\n",
    "    print(\"Happy Monday\")"
   ]
  },
  {
   "cell_type": "code",
   "execution_count": 9,
   "id": "1f0920b5",
   "metadata": {
    "ExecuteTime": {
     "end_time": "2022-10-10T18:57:56.749892Z",
     "start_time": "2022-10-10T18:57:56.735878Z"
    }
   },
   "outputs": [
    {
     "name": "stdout",
     "output_type": "stream",
     "text": [
      "Hello Class!\n",
      "Happy Monday\n"
     ]
    }
   ],
   "source": [
    "testFunction() # Calling the function"
   ]
  },
  {
   "cell_type": "code",
   "execution_count": 10,
   "id": "2c7a79a8",
   "metadata": {
    "ExecuteTime": {
     "end_time": "2022-10-10T18:58:09.106192Z",
     "start_time": "2022-10-10T18:58:09.089178Z"
    }
   },
   "outputs": [
    {
     "name": "stdout",
     "output_type": "stream",
     "text": [
      "Hello Class!\n",
      "Happy Monday\n"
     ]
    }
   ],
   "source": [
    "testFunction()"
   ]
  },
  {
   "cell_type": "code",
   "execution_count": 11,
   "id": "c2dde0bf",
   "metadata": {
    "ExecuteTime": {
     "end_time": "2022-10-10T18:59:20.913212Z",
     "start_time": "2022-10-10T18:59:20.897197Z"
    }
   },
   "outputs": [],
   "source": [
    "def test_function_2():\n",
    "    print(\"Snake case\")"
   ]
  },
  {
   "cell_type": "code",
   "execution_count": 12,
   "id": "8fe2e881",
   "metadata": {
    "ExecuteTime": {
     "end_time": "2022-10-10T18:59:40.558675Z",
     "start_time": "2022-10-10T18:59:40.545664Z"
    }
   },
   "outputs": [
    {
     "name": "stdout",
     "output_type": "stream",
     "text": [
      "Snake case\n"
     ]
    }
   ],
   "source": [
    "test_function_2()"
   ]
  },
  {
   "cell_type": "code",
   "execution_count": 13,
   "id": "dfde1658",
   "metadata": {
    "ExecuteTime": {
     "end_time": "2022-10-10T19:00:14.229842Z",
     "start_time": "2022-10-10T19:00:14.216831Z"
    }
   },
   "outputs": [],
   "source": [
    "def TestFunction3():\n",
    "    print(\"Start with cap\")"
   ]
  },
  {
   "cell_type": "code",
   "execution_count": 14,
   "id": "aa08d6f5",
   "metadata": {
    "ExecuteTime": {
     "end_time": "2022-10-10T19:00:18.336575Z",
     "start_time": "2022-10-10T19:00:18.320561Z"
    }
   },
   "outputs": [
    {
     "name": "stdout",
     "output_type": "stream",
     "text": [
      "Start with cap\n"
     ]
    }
   ],
   "source": [
    "TestFunction3()"
   ]
  },
  {
   "cell_type": "code",
   "execution_count": 15,
   "id": "0c4a6f61",
   "metadata": {
    "ExecuteTime": {
     "end_time": "2022-10-10T19:03:44.189244Z",
     "start_time": "2022-10-10T19:03:44.177233Z"
    }
   },
   "outputs": [],
   "source": [
    "def functionWithArgs(num1, num2):\n",
    "    print(num1**num2 + num1 - num2)"
   ]
  },
  {
   "cell_type": "code",
   "execution_count": 16,
   "id": "d8be55ca",
   "metadata": {
    "ExecuteTime": {
     "end_time": "2022-10-10T19:03:55.800030Z",
     "start_time": "2022-10-10T19:03:55.376645Z"
    }
   },
   "outputs": [
    {
     "ename": "TypeError",
     "evalue": "functionWithArgs() missing 2 required positional arguments: 'num1' and 'num2'",
     "output_type": "error",
     "traceback": [
      "\u001b[1;31m---------------------------------------------------------------------------\u001b[0m",
      "\u001b[1;31mTypeError\u001b[0m                                 Traceback (most recent call last)",
      "Input \u001b[1;32mIn [16]\u001b[0m, in \u001b[0;36m<cell line: 1>\u001b[1;34m()\u001b[0m\n\u001b[1;32m----> 1\u001b[0m \u001b[43mfunctionWithArgs\u001b[49m\u001b[43m(\u001b[49m\u001b[43m)\u001b[49m\n",
      "\u001b[1;31mTypeError\u001b[0m: functionWithArgs() missing 2 required positional arguments: 'num1' and 'num2'"
     ]
    }
   ],
   "source": [
    "functionWithArgs()"
   ]
  },
  {
   "cell_type": "markdown",
   "id": "dda01331",
   "metadata": {},
   "source": [
    "2**3 + 2 -3 = 7"
   ]
  },
  {
   "cell_type": "code",
   "execution_count": 17,
   "id": "18b2ac7c",
   "metadata": {
    "ExecuteTime": {
     "end_time": "2022-10-10T19:04:08.233066Z",
     "start_time": "2022-10-10T19:04:08.224058Z"
    }
   },
   "outputs": [
    {
     "name": "stdout",
     "output_type": "stream",
     "text": [
      "7\n"
     ]
    }
   ],
   "source": [
    "functionWithArgs(2, 3)"
   ]
  },
  {
   "cell_type": "code",
   "execution_count": 18,
   "id": "bb00971c",
   "metadata": {
    "ExecuteTime": {
     "end_time": "2022-10-10T19:05:23.394966Z",
     "start_time": "2022-10-10T19:05:23.368942Z"
    }
   },
   "outputs": [
    {
     "ename": "NameError",
     "evalue": "name 'num1' is not defined",
     "output_type": "error",
     "traceback": [
      "\u001b[1;31m---------------------------------------------------------------------------\u001b[0m",
      "\u001b[1;31mNameError\u001b[0m                                 Traceback (most recent call last)",
      "Input \u001b[1;32mIn [18]\u001b[0m, in \u001b[0;36m<cell line: 1>\u001b[1;34m()\u001b[0m\n\u001b[1;32m----> 1\u001b[0m \u001b[43mnum1\u001b[49m\n",
      "\u001b[1;31mNameError\u001b[0m: name 'num1' is not defined"
     ]
    }
   ],
   "source": [
    "num1"
   ]
  },
  {
   "cell_type": "code",
   "execution_count": 19,
   "id": "883afc27",
   "metadata": {
    "ExecuteTime": {
     "end_time": "2022-10-10T19:09:26.300696Z",
     "start_time": "2022-10-10T19:09:26.289686Z"
    }
   },
   "outputs": [
    {
     "name": "stdout",
     "output_type": "stream",
     "text": [
      "4\n"
     ]
    }
   ],
   "source": [
    "x = 3\n",
    "x = 4\n",
    "print(x)"
   ]
  },
  {
   "cell_type": "code",
   "execution_count": 75,
   "id": "442486a0",
   "metadata": {
    "ExecuteTime": {
     "end_time": "2022-10-10T20:27:30.721426Z",
     "start_time": "2022-10-10T20:27:30.708415Z"
    }
   },
   "outputs": [],
   "source": [
    "def functionWithArgs(num1, num2):\n",
    "    print(num1 + num2)"
   ]
  },
  {
   "cell_type": "code",
   "execution_count": 21,
   "id": "40d3b3bc",
   "metadata": {
    "ExecuteTime": {
     "end_time": "2022-10-10T19:09:54.161740Z",
     "start_time": "2022-10-10T19:09:54.145726Z"
    }
   },
   "outputs": [
    {
     "name": "stdout",
     "output_type": "stream",
     "text": [
      "14\n"
     ]
    }
   ],
   "source": [
    "functionWithArgs(4, 10)"
   ]
  },
  {
   "cell_type": "code",
   "execution_count": 22,
   "id": "1bac6515",
   "metadata": {
    "ExecuteTime": {
     "end_time": "2022-10-10T19:10:37.256779Z",
     "start_time": "2022-10-10T19:10:37.248772Z"
    }
   },
   "outputs": [
    {
     "name": "stdout",
     "output_type": "stream",
     "text": [
      "14\n"
     ]
    }
   ],
   "source": [
    "a = functionWithArgs(4, 10)"
   ]
  },
  {
   "cell_type": "code",
   "execution_count": 23,
   "id": "c39c2569",
   "metadata": {
    "ExecuteTime": {
     "end_time": "2022-10-10T19:10:52.341748Z",
     "start_time": "2022-10-10T19:10:52.337745Z"
    }
   },
   "outputs": [
    {
     "name": "stdout",
     "output_type": "stream",
     "text": [
      "None\n"
     ]
    }
   ],
   "source": [
    "print(a)"
   ]
  },
  {
   "cell_type": "code",
   "execution_count": 24,
   "id": "4e2dca4b",
   "metadata": {
    "ExecuteTime": {
     "end_time": "2022-10-10T19:12:01.375251Z",
     "start_time": "2022-10-10T19:12:01.362239Z"
    }
   },
   "outputs": [],
   "source": [
    "def functionWithArgs(num1, num2):\n",
    "    return(num1 + num2)"
   ]
  },
  {
   "cell_type": "code",
   "execution_count": 25,
   "id": "4a801e25",
   "metadata": {
    "ExecuteTime": {
     "end_time": "2022-10-10T19:12:08.839295Z",
     "start_time": "2022-10-10T19:12:08.834291Z"
    }
   },
   "outputs": [
    {
     "name": "stdout",
     "output_type": "stream",
     "text": [
      "14\n"
     ]
    }
   ],
   "source": [
    "a = functionWithArgs(4, 10)\n",
    "print(a)"
   ]
  },
  {
   "cell_type": "code",
   "execution_count": 26,
   "id": "97d1979a",
   "metadata": {
    "ExecuteTime": {
     "end_time": "2022-10-10T19:12:12.790887Z",
     "start_time": "2022-10-10T19:12:12.785882Z"
    }
   },
   "outputs": [
    {
     "name": "stdout",
     "output_type": "stream",
     "text": [
      "14\n"
     ]
    }
   ],
   "source": [
    "print(a)"
   ]
  },
  {
   "cell_type": "code",
   "execution_count": 27,
   "id": "8f2e9ad1",
   "metadata": {
    "ExecuteTime": {
     "end_time": "2022-10-10T19:12:27.294238Z",
     "start_time": "2022-10-10T19:12:27.282226Z"
    }
   },
   "outputs": [
    {
     "data": {
      "text/plain": [
       "int"
      ]
     },
     "execution_count": 27,
     "metadata": {},
     "output_type": "execute_result"
    }
   ],
   "source": [
    "type(a)"
   ]
  },
  {
   "cell_type": "code",
   "execution_count": 28,
   "id": "658ae9d8",
   "metadata": {
    "ExecuteTime": {
     "end_time": "2022-10-10T19:12:52.903209Z",
     "start_time": "2022-10-10T19:12:52.898204Z"
    }
   },
   "outputs": [],
   "source": [
    "def functionWithArgs(num1, num2):\n",
    "    return(num1 + num2)\n",
    "    print(\"Hi\")"
   ]
  },
  {
   "cell_type": "code",
   "execution_count": 35,
   "id": "5e9b3190",
   "metadata": {
    "ExecuteTime": {
     "end_time": "2022-10-10T19:17:25.262504Z",
     "start_time": "2022-10-10T19:17:25.250493Z"
    }
   },
   "outputs": [],
   "source": [
    "a = functionWithArgs(6, 10)"
   ]
  },
  {
   "cell_type": "code",
   "execution_count": 31,
   "id": "b4aafbde",
   "metadata": {
    "ExecuteTime": {
     "end_time": "2022-10-10T19:15:35.884890Z",
     "start_time": "2022-10-10T19:15:35.874881Z"
    }
   },
   "outputs": [
    {
     "data": {
      "text/plain": [
       "16"
      ]
     },
     "execution_count": 31,
     "metadata": {},
     "output_type": "execute_result"
    }
   ],
   "source": [
    "a"
   ]
  },
  {
   "cell_type": "code",
   "execution_count": 33,
   "id": "a5b98834",
   "metadata": {
    "ExecuteTime": {
     "end_time": "2022-10-10T19:16:13.703640Z",
     "start_time": "2022-10-10T19:16:13.697636Z"
    }
   },
   "outputs": [
    {
     "data": {
      "text/plain": [
       "16"
      ]
     },
     "execution_count": 33,
     "metadata": {},
     "output_type": "execute_result"
    }
   ],
   "source": [
    "functionWithArgs(6, 10)"
   ]
  },
  {
   "cell_type": "markdown",
   "id": "e21fc878",
   "metadata": {},
   "source": [
    "# Module import"
   ]
  },
  {
   "cell_type": "code",
   "execution_count": 4,
   "id": "aca05172",
   "metadata": {
    "ExecuteTime": {
     "end_time": "2022-10-10T19:25:44.214559Z",
     "start_time": "2022-10-10T19:25:44.208553Z"
    }
   },
   "outputs": [],
   "source": [
    "import math"
   ]
  },
  {
   "cell_type": "code",
   "execution_count": 38,
   "id": "cc1759ae",
   "metadata": {
    "ExecuteTime": {
     "end_time": "2022-10-10T19:18:54.359343Z",
     "start_time": "2022-10-10T19:18:54.355340Z"
    }
   },
   "outputs": [
    {
     "data": {
      "text/plain": [
       "3.141592653589793"
      ]
     },
     "execution_count": 38,
     "metadata": {},
     "output_type": "execute_result"
    }
   ],
   "source": [
    "math.pi"
   ]
  },
  {
   "cell_type": "code",
   "execution_count": 39,
   "id": "37c6608b",
   "metadata": {
    "ExecuteTime": {
     "end_time": "2022-10-10T19:19:07.760277Z",
     "start_time": "2022-10-10T19:19:07.746265Z"
    }
   },
   "outputs": [
    {
     "data": {
      "text/plain": [
       "1.2246467991473532e-16"
      ]
     },
     "execution_count": 39,
     "metadata": {},
     "output_type": "execute_result"
    }
   ],
   "source": [
    "math.sin(math.pi)"
   ]
  },
  {
   "cell_type": "code",
   "execution_count": 40,
   "id": "23b203b5",
   "metadata": {
    "ExecuteTime": {
     "end_time": "2022-10-10T19:19:17.676352Z",
     "start_time": "2022-10-10T19:19:17.666344Z"
    }
   },
   "outputs": [
    {
     "data": {
      "text/plain": [
       "-1.0"
      ]
     },
     "execution_count": 40,
     "metadata": {},
     "output_type": "execute_result"
    }
   ],
   "source": [
    "math.cos(math.pi)"
   ]
  },
  {
   "cell_type": "code",
   "execution_count": 41,
   "id": "76f71deb",
   "metadata": {
    "ExecuteTime": {
     "end_time": "2022-10-10T19:20:38.680349Z",
     "start_time": "2022-10-10T19:20:38.675344Z"
    }
   },
   "outputs": [
    {
     "data": {
      "text/plain": [
       "False"
      ]
     },
     "execution_count": 41,
     "metadata": {},
     "output_type": "execute_result"
    }
   ],
   "source": [
    "math.sin(math.pi) == 0"
   ]
  },
  {
   "cell_type": "code",
   "execution_count": 2,
   "id": "2d1f44d1",
   "metadata": {
    "ExecuteTime": {
     "end_time": "2022-10-10T19:24:00.814037Z",
     "start_time": "2022-10-10T19:24:00.800025Z"
    }
   },
   "outputs": [],
   "source": [
    "import random"
   ]
  },
  {
   "cell_type": "code",
   "execution_count": 3,
   "id": "2f1345d8",
   "metadata": {
    "ExecuteTime": {
     "end_time": "2022-10-10T19:24:01.240561Z",
     "start_time": "2022-10-10T19:24:01.231554Z"
    },
    "scrolled": true
   },
   "outputs": [
    {
     "data": {
      "text/plain": [
       "0.8760540785612033"
      ]
     },
     "execution_count": 3,
     "metadata": {},
     "output_type": "execute_result"
    }
   ],
   "source": [
    "random.random()"
   ]
  },
  {
   "cell_type": "code",
   "execution_count": 6,
   "id": "93f2a63f",
   "metadata": {
    "ExecuteTime": {
     "end_time": "2022-10-10T19:32:12.278853Z",
     "start_time": "2022-10-10T19:32:12.272848Z"
    }
   },
   "outputs": [],
   "source": [
    "#def newFunction(num1, num2, *args, **kwargs)"
   ]
  },
  {
   "cell_type": "markdown",
   "id": "7118e8b2",
   "metadata": {},
   "source": [
    "# Built-in Functions"
   ]
  },
  {
   "cell_type": "code",
   "execution_count": 7,
   "id": "5d77598c",
   "metadata": {
    "ExecuteTime": {
     "end_time": "2022-10-10T19:51:13.402507Z",
     "start_time": "2022-10-10T19:51:13.391497Z"
    }
   },
   "outputs": [
    {
     "data": {
      "text/plain": [
       "'32'"
      ]
     },
     "execution_count": 7,
     "metadata": {},
     "output_type": "execute_result"
    }
   ],
   "source": [
    "'32'"
   ]
  },
  {
   "cell_type": "code",
   "execution_count": 8,
   "id": "edadaf31",
   "metadata": {
    "ExecuteTime": {
     "end_time": "2022-10-10T19:51:20.297523Z",
     "start_time": "2022-10-10T19:51:20.285513Z"
    }
   },
   "outputs": [
    {
     "data": {
      "text/plain": [
       "str"
      ]
     },
     "execution_count": 8,
     "metadata": {},
     "output_type": "execute_result"
    }
   ],
   "source": [
    "type('32')"
   ]
  },
  {
   "cell_type": "code",
   "execution_count": 9,
   "id": "c4887851",
   "metadata": {
    "ExecuteTime": {
     "end_time": "2022-10-10T19:51:31.725573Z",
     "start_time": "2022-10-10T19:51:31.711560Z"
    }
   },
   "outputs": [
    {
     "data": {
      "text/plain": [
       "int"
      ]
     },
     "execution_count": 9,
     "metadata": {},
     "output_type": "execute_result"
    }
   ],
   "source": [
    "type(int('32'))"
   ]
  },
  {
   "cell_type": "code",
   "execution_count": 10,
   "id": "282c50c7",
   "metadata": {
    "ExecuteTime": {
     "end_time": "2022-10-10T19:51:38.855823Z",
     "start_time": "2022-10-10T19:51:38.847816Z"
    }
   },
   "outputs": [
    {
     "data": {
      "text/plain": [
       "float"
      ]
     },
     "execution_count": 10,
     "metadata": {},
     "output_type": "execute_result"
    }
   ],
   "source": [
    "type(float('32'))"
   ]
  },
  {
   "cell_type": "code",
   "execution_count": 11,
   "id": "744f1d56",
   "metadata": {
    "ExecuteTime": {
     "end_time": "2022-10-10T19:51:44.174657Z",
     "start_time": "2022-10-10T19:51:44.159644Z"
    }
   },
   "outputs": [
    {
     "data": {
      "text/plain": [
       "32.0"
      ]
     },
     "execution_count": 11,
     "metadata": {},
     "output_type": "execute_result"
    }
   ],
   "source": [
    "float('32')"
   ]
  },
  {
   "cell_type": "code",
   "execution_count": 12,
   "id": "f902221d",
   "metadata": {
    "ExecuteTime": {
     "end_time": "2022-10-10T19:52:25.802371Z",
     "start_time": "2022-10-10T19:52:25.791360Z"
    }
   },
   "outputs": [
    {
     "data": {
      "text/plain": [
       "32"
      ]
     },
     "execution_count": 12,
     "metadata": {},
     "output_type": "execute_result"
    }
   ],
   "source": [
    "int(32.0)"
   ]
  },
  {
   "cell_type": "code",
   "execution_count": 13,
   "id": "295dc249",
   "metadata": {
    "ExecuteTime": {
     "end_time": "2022-10-10T19:52:57.318298Z",
     "start_time": "2022-10-10T19:52:57.312292Z"
    }
   },
   "outputs": [
    {
     "data": {
      "text/plain": [
       "'2'"
      ]
     },
     "execution_count": 13,
     "metadata": {},
     "output_type": "execute_result"
    }
   ],
   "source": [
    "str(2)"
   ]
  },
  {
   "cell_type": "code",
   "execution_count": 14,
   "id": "0ab5a52b",
   "metadata": {
    "ExecuteTime": {
     "end_time": "2022-10-10T19:53:29.414414Z",
     "start_time": "2022-10-10T19:53:29.408409Z"
    }
   },
   "outputs": [
    {
     "data": {
      "text/plain": [
       "'2'"
      ]
     },
     "execution_count": 14,
     "metadata": {},
     "output_type": "execute_result"
    }
   ],
   "source": [
    "_"
   ]
  },
  {
   "cell_type": "code",
   "execution_count": 16,
   "id": "d186fc84",
   "metadata": {
    "ExecuteTime": {
     "end_time": "2022-10-10T19:54:07.770900Z",
     "start_time": "2022-10-10T19:54:07.761892Z"
    }
   },
   "outputs": [
    {
     "data": {
      "text/plain": [
       "'Sam'"
      ]
     },
     "execution_count": 16,
     "metadata": {},
     "output_type": "execute_result"
    }
   ],
   "source": [
    "str(\"Sam\")"
   ]
  },
  {
   "cell_type": "code",
   "execution_count": 17,
   "id": "47d30c26",
   "metadata": {
    "ExecuteTime": {
     "end_time": "2022-10-10T19:54:29.167199Z",
     "start_time": "2022-10-10T19:54:29.152185Z"
    }
   },
   "outputs": [
    {
     "data": {
      "text/plain": [
       "'Sam'"
      ]
     },
     "execution_count": 17,
     "metadata": {},
     "output_type": "execute_result"
    }
   ],
   "source": [
    "_"
   ]
  },
  {
   "cell_type": "code",
   "execution_count": 18,
   "id": "e570c030",
   "metadata": {
    "ExecuteTime": {
     "end_time": "2022-10-10T19:55:04.220782Z",
     "start_time": "2022-10-10T19:55:04.207770Z"
    }
   },
   "outputs": [
    {
     "data": {
      "text/plain": [
       "'My number is: 32'"
      ]
     },
     "execution_count": 18,
     "metadata": {},
     "output_type": "execute_result"
    }
   ],
   "source": [
    "\"My number is: \" + str(32)"
   ]
  },
  {
   "cell_type": "code",
   "execution_count": 21,
   "id": "e593acf5",
   "metadata": {
    "ExecuteTime": {
     "end_time": "2022-10-10T19:56:51.930685Z",
     "start_time": "2022-10-10T19:56:51.921676Z"
    }
   },
   "outputs": [
    {
     "data": {
      "text/plain": [
       "7"
      ]
     },
     "execution_count": 21,
     "metadata": {},
     "output_type": "execute_result"
    }
   ],
   "source": [
    "max([2, 5, 7])"
   ]
  },
  {
   "cell_type": "code",
   "execution_count": 22,
   "id": "2db0c5e9",
   "metadata": {
    "ExecuteTime": {
     "end_time": "2022-10-10T19:57:27.714354Z",
     "start_time": "2022-10-10T19:57:27.696338Z"
    }
   },
   "outputs": [
    {
     "data": {
      "text/plain": [
       "'m'"
      ]
     },
     "execution_count": 22,
     "metadata": {},
     "output_type": "execute_result"
    }
   ],
   "source": [
    "max(\"Sam\")"
   ]
  },
  {
   "cell_type": "code",
   "execution_count": 23,
   "id": "7d15907a",
   "metadata": {
    "ExecuteTime": {
     "end_time": "2022-10-10T19:57:46.969807Z",
     "start_time": "2022-10-10T19:57:46.961801Z"
    }
   },
   "outputs": [
    {
     "data": {
      "text/plain": [
       "'s'"
      ]
     },
     "execution_count": 23,
     "metadata": {},
     "output_type": "execute_result"
    }
   ],
   "source": [
    "max(\"sam\")"
   ]
  },
  {
   "cell_type": "code",
   "execution_count": 24,
   "id": "71c51042",
   "metadata": {
    "ExecuteTime": {
     "end_time": "2022-10-10T19:58:02.060796Z",
     "start_time": "2022-10-10T19:58:02.048783Z"
    }
   },
   "outputs": [
    {
     "data": {
      "text/plain": [
       "'S'"
      ]
     },
     "execution_count": 24,
     "metadata": {},
     "output_type": "execute_result"
    }
   ],
   "source": [
    "max(\"SAM\")"
   ]
  },
  {
   "cell_type": "code",
   "execution_count": 25,
   "id": "8093850e",
   "metadata": {
    "ExecuteTime": {
     "end_time": "2022-10-10T19:58:34.362050Z",
     "start_time": "2022-10-10T19:58:34.353042Z"
    }
   },
   "outputs": [
    {
     "data": {
      "text/plain": [
       "'S'"
      ]
     },
     "execution_count": 25,
     "metadata": {},
     "output_type": "execute_result"
    }
   ],
   "source": [
    "min(\"Sam\")"
   ]
  },
  {
   "cell_type": "code",
   "execution_count": 26,
   "id": "4d0dd3ea",
   "metadata": {
    "ExecuteTime": {
     "end_time": "2022-10-10T19:59:38.384558Z",
     "start_time": "2022-10-10T19:59:38.368544Z"
    }
   },
   "outputs": [
    {
     "data": {
      "text/plain": [
       "' '"
      ]
     },
     "execution_count": 26,
     "metadata": {},
     "output_type": "execute_result"
    }
   ],
   "source": [
    "min(\"Hello World\")"
   ]
  },
  {
   "cell_type": "code",
   "execution_count": 29,
   "id": "4478b2a1",
   "metadata": {
    "ExecuteTime": {
     "end_time": "2022-10-10T20:00:12.397810Z",
     "start_time": "2022-10-10T20:00:12.385800Z"
    }
   },
   "outputs": [
    {
     "data": {
      "text/plain": [
       "'r'"
      ]
     },
     "execution_count": 29,
     "metadata": {},
     "output_type": "execute_result"
    }
   ],
   "source": [
    "max(\"Hello World!\")"
   ]
  },
  {
   "cell_type": "code",
   "execution_count": 37,
   "id": "6843f204",
   "metadata": {
    "ExecuteTime": {
     "end_time": "2022-10-10T20:01:57.817591Z",
     "start_time": "2022-10-10T20:01:57.809584Z"
    }
   },
   "outputs": [
    {
     "data": {
      "text/plain": [
       "'D'"
      ]
     },
     "execution_count": 37,
     "metadata": {},
     "output_type": "execute_result"
    }
   ],
   "source": [
    "chr(68)"
   ]
  },
  {
   "cell_type": "code",
   "execution_count": 38,
   "id": "2484d968",
   "metadata": {
    "ExecuteTime": {
     "end_time": "2022-10-10T20:02:07.223543Z",
     "start_time": "2022-10-10T20:02:07.217538Z"
    }
   },
   "outputs": [
    {
     "data": {
      "text/plain": [
       "'E'"
      ]
     },
     "execution_count": 38,
     "metadata": {},
     "output_type": "execute_result"
    }
   ],
   "source": [
    "chr(69)"
   ]
  },
  {
   "cell_type": "code",
   "execution_count": 40,
   "id": "c6e264fc",
   "metadata": {
    "ExecuteTime": {
     "end_time": "2022-10-10T20:02:22.317825Z",
     "start_time": "2022-10-10T20:02:22.303812Z"
    }
   },
   "outputs": [
    {
     "data": {
      "text/plain": [
       "'e'"
      ]
     },
     "execution_count": 40,
     "metadata": {},
     "output_type": "execute_result"
    }
   ],
   "source": [
    "chr(69+32)"
   ]
  },
  {
   "cell_type": "markdown",
   "id": "e0ab76f8",
   "metadata": {},
   "source": [
    "## Encoding\n",
    "utf-8"
   ]
  },
  {
   "cell_type": "code",
   "execution_count": 43,
   "id": "ce510472",
   "metadata": {
    "ExecuteTime": {
     "end_time": "2022-10-10T20:05:22.709386Z",
     "start_time": "2022-10-10T20:05:22.705382Z"
    }
   },
   "outputs": [
    {
     "data": {
      "text/plain": [
       "['a', 'b', 'e', 'h']"
      ]
     },
     "execution_count": 43,
     "metadata": {},
     "output_type": "execute_result"
    }
   ],
   "source": [
    "sorted(\"ahbe\")"
   ]
  },
  {
   "cell_type": "code",
   "execution_count": 47,
   "id": "736014a4",
   "metadata": {
    "ExecuteTime": {
     "end_time": "2022-10-10T20:06:09.179308Z",
     "start_time": "2022-10-10T20:06:09.170300Z"
    }
   },
   "outputs": [
    {
     "data": {
      "text/plain": [
       "'aSAMbSAMeSAMh'"
      ]
     },
     "execution_count": 47,
     "metadata": {},
     "output_type": "execute_result"
    }
   ],
   "source": [
    "'SAM'.join(sorted(\"ahbe\"))"
   ]
  },
  {
   "cell_type": "code",
   "execution_count": 49,
   "id": "4519b6d6",
   "metadata": {
    "ExecuteTime": {
     "end_time": "2022-10-10T20:06:20.144272Z",
     "start_time": "2022-10-10T20:06:20.129258Z"
    }
   },
   "outputs": [
    {
     "data": {
      "text/plain": [
       "'abeh'"
      ]
     },
     "execution_count": 49,
     "metadata": {},
     "output_type": "execute_result"
    }
   ],
   "source": [
    "''.join(sorted(\"ahbe\"))"
   ]
  },
  {
   "cell_type": "code",
   "execution_count": 50,
   "id": "6c192274",
   "metadata": {
    "ExecuteTime": {
     "end_time": "2022-10-10T20:07:26.605229Z",
     "start_time": "2022-10-10T20:07:26.594219Z"
    }
   },
   "outputs": [
    {
     "data": {
      "text/plain": [
       "4.0"
      ]
     },
     "execution_count": 50,
     "metadata": {},
     "output_type": "execute_result"
    }
   ],
   "source": [
    "16**(1/2)"
   ]
  },
  {
   "cell_type": "code",
   "execution_count": 52,
   "id": "db869a4a",
   "metadata": {
    "ExecuteTime": {
     "end_time": "2022-10-10T20:07:37.232520Z",
     "start_time": "2022-10-10T20:07:37.218507Z"
    }
   },
   "outputs": [
    {
     "data": {
      "text/plain": [
       "3.9999999999999996"
      ]
     },
     "execution_count": 52,
     "metadata": {},
     "output_type": "execute_result"
    }
   ],
   "source": [
    "64**(1/3)"
   ]
  },
  {
   "cell_type": "code",
   "execution_count": 53,
   "id": "f77c25d7",
   "metadata": {
    "ExecuteTime": {
     "end_time": "2022-10-10T20:07:57.963986Z",
     "start_time": "2022-10-10T20:07:57.952975Z"
    }
   },
   "outputs": [
    {
     "data": {
      "text/plain": [
       "4.0"
      ]
     },
     "execution_count": 53,
     "metadata": {},
     "output_type": "execute_result"
    }
   ],
   "source": [
    "math.sqrt(16)"
   ]
  },
  {
   "cell_type": "code",
   "execution_count": 54,
   "id": "7561ba3b",
   "metadata": {
    "ExecuteTime": {
     "end_time": "2022-10-10T20:08:24.341659Z",
     "start_time": "2022-10-10T20:08:24.337655Z"
    }
   },
   "outputs": [
    {
     "data": {
      "text/plain": [
       "0.9361264855132924"
      ]
     },
     "execution_count": 54,
     "metadata": {},
     "output_type": "execute_result"
    }
   ],
   "source": [
    "random.random()"
   ]
  },
  {
   "cell_type": "code",
   "execution_count": 55,
   "id": "c0d0e64a",
   "metadata": {
    "ExecuteTime": {
     "end_time": "2022-10-10T20:11:21.514271Z",
     "start_time": "2022-10-10T20:11:21.506263Z"
    }
   },
   "outputs": [
    {
     "data": {
      "text/plain": [
       "7"
      ]
     },
     "execution_count": 55,
     "metadata": {},
     "output_type": "execute_result"
    }
   ],
   "source": [
    "random.randint(1, 10)"
   ]
  },
  {
   "cell_type": "code",
   "execution_count": 56,
   "id": "88f915ed",
   "metadata": {
    "ExecuteTime": {
     "end_time": "2022-10-10T20:12:21.115853Z",
     "start_time": "2022-10-10T20:12:21.105844Z"
    }
   },
   "outputs": [
    {
     "data": {
      "text/plain": [
       "'Ronan'"
      ]
     },
     "execution_count": 56,
     "metadata": {},
     "output_type": "execute_result"
    }
   ],
   "source": [
    "random.choice([\"Sam\", \"Ronan\", \"Imran\"])"
   ]
  },
  {
   "cell_type": "code",
   "execution_count": 57,
   "id": "9d2f76c0",
   "metadata": {
    "ExecuteTime": {
     "end_time": "2022-10-10T20:13:22.591782Z",
     "start_time": "2022-10-10T20:13:22.577770Z"
    }
   },
   "outputs": [],
   "source": [
    "def fibonacci(f1, f2):\n",
    "    return f1+f2"
   ]
  },
  {
   "cell_type": "code",
   "execution_count": 58,
   "id": "7bc06e7a",
   "metadata": {
    "ExecuteTime": {
     "end_time": "2022-10-10T20:13:31.078680Z",
     "start_time": "2022-10-10T20:13:31.073675Z"
    }
   },
   "outputs": [
    {
     "data": {
      "text/plain": [
       "2"
      ]
     },
     "execution_count": 58,
     "metadata": {},
     "output_type": "execute_result"
    }
   ],
   "source": [
    "fibonacci(1, 1)"
   ]
  },
  {
   "cell_type": "code",
   "execution_count": 90,
   "id": "62f4343c",
   "metadata": {
    "ExecuteTime": {
     "end_time": "2022-10-10T20:39:12.337276Z",
     "start_time": "2022-10-10T20:39:12.322263Z"
    }
   },
   "outputs": [],
   "source": [
    "def calculateFibonacci(num):\n",
    "    answer = [1, 1]\n",
    "\n",
    "    for fnum in range(2,num):\n",
    "        answer.append( fibonacci(answer[fnum-1], answer[fnum-2]) )\n",
    "    return answer"
   ]
  },
  {
   "cell_type": "markdown",
   "id": "87b873c3",
   "metadata": {
    "ExecuteTime": {
     "end_time": "2022-10-10T20:16:55.532599Z",
     "start_time": "2022-10-10T20:16:55.506576Z"
    }
   },
   "source": [
    "fn = fn-1 + fn-2"
   ]
  },
  {
   "cell_type": "code",
   "execution_count": 92,
   "id": "d9916636",
   "metadata": {
    "ExecuteTime": {
     "end_time": "2022-10-10T20:39:23.961637Z",
     "start_time": "2022-10-10T20:39:23.953630Z"
    }
   },
   "outputs": [
    {
     "data": {
      "text/plain": [
       "[1, 1, 2, 3, 5, 8, 13, 21, 34, 55]"
      ]
     },
     "execution_count": 92,
     "metadata": {},
     "output_type": "execute_result"
    }
   ],
   "source": [
    "calculateFibonacci(10)"
   ]
  },
  {
   "cell_type": "code",
   "execution_count": 65,
   "id": "f5009888",
   "metadata": {
    "ExecuteTime": {
     "end_time": "2022-10-10T20:18:17.305165Z",
     "start_time": "2022-10-10T20:18:17.298154Z"
    }
   },
   "outputs": [],
   "source": [
    "def function1(num):\n",
    "    answer = [1, 1]\n",
    "\n",
    "    for fnum in range(2,num-2):\n",
    "        answer.append(fibonacci(answer[fnum-1], answer[fnum-2]))\n",
    "    return answer"
   ]
  },
  {
   "cell_type": "code",
   "execution_count": 66,
   "id": "dec431b4",
   "metadata": {
    "ExecuteTime": {
     "end_time": "2022-10-10T20:18:22.605893Z",
     "start_time": "2022-10-10T20:18:22.594883Z"
    }
   },
   "outputs": [
    {
     "data": {
      "text/plain": [
       "[1, 1, 2, 3, 5, 8, 13, 21]"
      ]
     },
     "execution_count": 66,
     "metadata": {},
     "output_type": "execute_result"
    }
   ],
   "source": [
    "function1(10)"
   ]
  },
  {
   "cell_type": "code",
   "execution_count": 72,
   "id": "4bf1dde1",
   "metadata": {
    "ExecuteTime": {
     "end_time": "2022-10-10T20:25:48.067388Z",
     "start_time": "2022-10-10T20:25:48.052376Z"
    }
   },
   "outputs": [],
   "source": [
    "def innerFunction(num):\n",
    "    print(\"Inner\")\n",
    "    return num + num"
   ]
  },
  {
   "cell_type": "code",
   "execution_count": 73,
   "id": "d8a39639",
   "metadata": {
    "ExecuteTime": {
     "end_time": "2022-10-10T20:25:48.577852Z",
     "start_time": "2022-10-10T20:25:48.564841Z"
    }
   },
   "outputs": [],
   "source": [
    "def outerFunction(num):\n",
    "    print(\"Outer\")\n",
    "    return innerFunction(num) + innerFunction(num-1)"
   ]
  },
  {
   "cell_type": "code",
   "execution_count": 69,
   "id": "82f9976d",
   "metadata": {
    "ExecuteTime": {
     "end_time": "2022-10-10T20:23:05.364034Z",
     "start_time": "2022-10-10T20:23:05.347018Z"
    }
   },
   "outputs": [
    {
     "data": {
      "text/plain": [
       "8"
      ]
     },
     "execution_count": 69,
     "metadata": {},
     "output_type": "execute_result"
    }
   ],
   "source": [
    "innerFunction(4)"
   ]
  },
  {
   "cell_type": "code",
   "execution_count": 82,
   "id": "201a05ec",
   "metadata": {
    "ExecuteTime": {
     "end_time": "2022-10-10T20:29:22.672033Z",
     "start_time": "2022-10-10T20:29:22.663024Z"
    }
   },
   "outputs": [
    {
     "name": "stdout",
     "output_type": "stream",
     "text": [
      "Start\n",
      "Outer\n",
      "Inner\n",
      "Inner\n",
      "14\n",
      "Stop\n"
     ]
    }
   ],
   "source": [
    "print(\"Start\")\n",
    "print(outerFunction(4))\n",
    "print(\"Stop\")"
   ]
  },
  {
   "cell_type": "code",
   "execution_count": 77,
   "id": "d0391adf",
   "metadata": {
    "ExecuteTime": {
     "end_time": "2022-10-10T20:27:51.646498Z",
     "start_time": "2022-10-10T20:27:51.637491Z"
    }
   },
   "outputs": [
    {
     "name": "stdout",
     "output_type": "stream",
     "text": [
      "7\n"
     ]
    }
   ],
   "source": [
    "a = functionWithArgs(2, 5)"
   ]
  },
  {
   "cell_type": "code",
   "execution_count": 79,
   "id": "82628654",
   "metadata": {
    "ExecuteTime": {
     "end_time": "2022-10-10T20:28:02.206129Z",
     "start_time": "2022-10-10T20:28:02.197121Z"
    }
   },
   "outputs": [
    {
     "name": "stdout",
     "output_type": "stream",
     "text": [
      "None\n"
     ]
    }
   ],
   "source": [
    "print(a)"
   ]
  },
  {
   "cell_type": "code",
   "execution_count": 81,
   "id": "878ec2b6",
   "metadata": {
    "ExecuteTime": {
     "end_time": "2022-10-10T20:28:49.727969Z",
     "start_time": "2022-10-10T20:28:49.713956Z"
    }
   },
   "outputs": [],
   "source": [
    "# Java\n",
    "# public static void main()"
   ]
  },
  {
   "cell_type": "code",
   "execution_count": 84,
   "id": "5a5c018e",
   "metadata": {
    "ExecuteTime": {
     "end_time": "2022-10-10T20:37:57.141046Z",
     "start_time": "2022-10-10T20:37:57.138042Z"
    }
   },
   "outputs": [],
   "source": [
    "list2 = [\"Sam\", 2, 10.5]"
   ]
  },
  {
   "cell_type": "code",
   "execution_count": 85,
   "id": "5e045085",
   "metadata": {
    "ExecuteTime": {
     "end_time": "2022-10-10T20:38:04.675535Z",
     "start_time": "2022-10-10T20:38:04.657518Z"
    }
   },
   "outputs": [
    {
     "data": {
      "text/plain": [
       "2"
      ]
     },
     "execution_count": 85,
     "metadata": {},
     "output_type": "execute_result"
    }
   ],
   "source": [
    "list2[1]"
   ]
  },
  {
   "cell_type": "code",
   "execution_count": 86,
   "id": "18e09ecb",
   "metadata": {
    "ExecuteTime": {
     "end_time": "2022-10-10T20:38:13.678229Z",
     "start_time": "2022-10-10T20:38:13.666218Z"
    }
   },
   "outputs": [
    {
     "ename": "TypeError",
     "evalue": "list indices must be integers or slices, not float",
     "output_type": "error",
     "traceback": [
      "\u001b[1;31m---------------------------------------------------------------------------\u001b[0m",
      "\u001b[1;31mTypeError\u001b[0m                                 Traceback (most recent call last)",
      "Input \u001b[1;32mIn [86]\u001b[0m, in \u001b[0;36m<cell line: 1>\u001b[1;34m()\u001b[0m\n\u001b[1;32m----> 1\u001b[0m \u001b[43mlist2\u001b[49m\u001b[43m[\u001b[49m\u001b[38;5;241;43m1.0\u001b[39;49m\u001b[43m]\u001b[49m\n",
      "\u001b[1;31mTypeError\u001b[0m: list indices must be integers or slices, not float"
     ]
    }
   ],
   "source": [
    "list2[1.0]"
   ]
  },
  {
   "cell_type": "code",
   "execution_count": 87,
   "id": "c024fefe",
   "metadata": {
    "ExecuteTime": {
     "end_time": "2022-10-10T20:38:34.453304Z",
     "start_time": "2022-10-10T20:38:34.449300Z"
    }
   },
   "outputs": [
    {
     "data": {
      "text/plain": [
       "2"
      ]
     },
     "execution_count": 87,
     "metadata": {},
     "output_type": "execute_result"
    }
   ],
   "source": [
    "list2[int(1.0)]"
   ]
  },
  {
   "cell_type": "code",
   "execution_count": null,
   "id": "a571894d",
   "metadata": {},
   "outputs": [],
   "source": []
  }
 ],
 "metadata": {
  "kernelspec": {
   "display_name": "Python 3 (ipykernel)",
   "language": "python",
   "name": "python3"
  },
  "language_info": {
   "codemirror_mode": {
    "name": "ipython",
    "version": 3
   },
   "file_extension": ".py",
   "mimetype": "text/x-python",
   "name": "python",
   "nbconvert_exporter": "python",
   "pygments_lexer": "ipython3",
   "version": "3.9.12"
  }
 },
 "nbformat": 4,
 "nbformat_minor": 5
}
