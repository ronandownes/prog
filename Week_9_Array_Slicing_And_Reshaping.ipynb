{
 "cells": [
  {
   "cell_type": "code",
   "execution_count": null,
   "id": "01bfdb21",
   "metadata": {},
   "outputs": [],
   "source": [
    "#!pip install numpy"
   ]
  },
  {
   "cell_type": "code",
   "execution_count": 5,
   "id": "2659c18e",
   "metadata": {
    "ExecuteTime": {
     "end_time": "2022-11-14T20:01:42.205642Z",
     "start_time": "2022-11-14T20:01:42.198636Z"
    }
   },
   "outputs": [],
   "source": [
    "import numpy as np\n",
    "# Importing this because we will use it a lot\n",
    "from numpy import array\n",
    "from numpy import *"
   ]
  },
  {
   "cell_type": "code",
   "execution_count": 2,
   "id": "71c828a5",
   "metadata": {
    "ExecuteTime": {
     "end_time": "2022-11-14T20:00:33.742464Z",
     "start_time": "2022-11-14T20:00:33.734457Z"
    }
   },
   "outputs": [],
   "source": [
    "data = [11, 22, 33, 44, 55]"
   ]
  },
  {
   "cell_type": "code",
   "execution_count": 4,
   "id": "8860a58b",
   "metadata": {
    "ExecuteTime": {
     "end_time": "2022-11-14T20:00:44.826935Z",
     "start_time": "2022-11-14T20:00:44.821929Z"
    }
   },
   "outputs": [
    {
     "name": "stdout",
     "output_type": "stream",
     "text": [
      "[11, 22, 33, 44, 55]\n"
     ]
    }
   ],
   "source": [
    "print(data)"
   ]
  },
  {
   "cell_type": "code",
   "execution_count": 6,
   "id": "e69d24c8",
   "metadata": {
    "ExecuteTime": {
     "end_time": "2022-11-14T20:04:05.299434Z",
     "start_time": "2022-11-14T20:04:05.286422Z"
    }
   },
   "outputs": [
    {
     "data": {
      "text/plain": [
       "list"
      ]
     },
     "execution_count": 6,
     "metadata": {},
     "output_type": "execute_result"
    }
   ],
   "source": [
    "type(data)"
   ]
  },
  {
   "cell_type": "code",
   "execution_count": 7,
   "id": "7ea03f66",
   "metadata": {
    "ExecuteTime": {
     "end_time": "2022-11-14T20:04:25.672425Z",
     "start_time": "2022-11-14T20:04:25.654410Z"
    }
   },
   "outputs": [],
   "source": [
    "data = array(data)"
   ]
  },
  {
   "cell_type": "code",
   "execution_count": 8,
   "id": "dcc13c3f",
   "metadata": {
    "ExecuteTime": {
     "end_time": "2022-11-14T20:04:29.108545Z",
     "start_time": "2022-11-14T20:04:29.094532Z"
    }
   },
   "outputs": [
    {
     "name": "stdout",
     "output_type": "stream",
     "text": [
      "[11 22 33 44 55]\n"
     ]
    }
   ],
   "source": [
    "print(data)"
   ]
  },
  {
   "cell_type": "code",
   "execution_count": 9,
   "id": "8b1d937d",
   "metadata": {
    "ExecuteTime": {
     "end_time": "2022-11-14T20:04:43.708648Z",
     "start_time": "2022-11-14T20:04:43.702642Z"
    }
   },
   "outputs": [
    {
     "data": {
      "text/plain": [
       "numpy.ndarray"
      ]
     },
     "execution_count": 9,
     "metadata": {},
     "output_type": "execute_result"
    }
   ],
   "source": [
    "type(data)"
   ]
  },
  {
   "cell_type": "code",
   "execution_count": 10,
   "id": "7314999e",
   "metadata": {
    "ExecuteTime": {
     "end_time": "2022-11-14T20:06:20.968550Z",
     "start_time": "2022-11-14T20:06:20.966548Z"
    }
   },
   "outputs": [],
   "source": [
    "data = [[11, 22], [33, 44], [55, 66]]"
   ]
  },
  {
   "cell_type": "code",
   "execution_count": 11,
   "id": "72666c16",
   "metadata": {
    "ExecuteTime": {
     "end_time": "2022-11-14T20:07:48.709636Z",
     "start_time": "2022-11-14T20:07:48.694624Z"
    }
   },
   "outputs": [],
   "source": [
    "data = [[11, 22],\n",
    "        [33, 44],\n",
    "        [55, 66]]"
   ]
  },
  {
   "cell_type": "code",
   "execution_count": 12,
   "id": "4f6652b8",
   "metadata": {
    "ExecuteTime": {
     "end_time": "2022-11-14T20:08:17.831643Z",
     "start_time": "2022-11-14T20:08:17.814627Z"
    }
   },
   "outputs": [
    {
     "data": {
      "text/plain": [
       "[[11, 22], [33, 44], [55, 66]]"
      ]
     },
     "execution_count": 12,
     "metadata": {},
     "output_type": "execute_result"
    }
   ],
   "source": [
    "data"
   ]
  },
  {
   "cell_type": "code",
   "execution_count": 13,
   "id": "d960999e",
   "metadata": {
    "ExecuteTime": {
     "end_time": "2022-11-14T20:08:58.915770Z",
     "start_time": "2022-11-14T20:08:58.902759Z"
    }
   },
   "outputs": [
    {
     "data": {
      "text/plain": [
       "44"
      ]
     },
     "execution_count": 13,
     "metadata": {},
     "output_type": "execute_result"
    }
   ],
   "source": [
    "data[1][1]"
   ]
  },
  {
   "cell_type": "code",
   "execution_count": 14,
   "id": "33a08b6c",
   "metadata": {
    "ExecuteTime": {
     "end_time": "2022-11-14T20:09:04.027653Z",
     "start_time": "2022-11-14T20:09:04.022648Z"
    }
   },
   "outputs": [
    {
     "data": {
      "text/plain": [
       "[33, 44]"
      ]
     },
     "execution_count": 14,
     "metadata": {},
     "output_type": "execute_result"
    }
   ],
   "source": [
    "data[1]"
   ]
  },
  {
   "cell_type": "code",
   "execution_count": 15,
   "id": "25415c00",
   "metadata": {
    "ExecuteTime": {
     "end_time": "2022-11-14T20:10:24.755842Z",
     "start_time": "2022-11-14T20:10:24.742829Z"
    }
   },
   "outputs": [],
   "source": [
    "data = array(data)"
   ]
  },
  {
   "cell_type": "code",
   "execution_count": 16,
   "id": "e5963ca2",
   "metadata": {
    "ExecuteTime": {
     "end_time": "2022-11-14T20:10:26.774231Z",
     "start_time": "2022-11-14T20:10:26.758218Z"
    }
   },
   "outputs": [
    {
     "data": {
      "text/plain": [
       "array([[11, 22],\n",
       "       [33, 44],\n",
       "       [55, 66]])"
      ]
     },
     "execution_count": 16,
     "metadata": {},
     "output_type": "execute_result"
    }
   ],
   "source": [
    "data"
   ]
  },
  {
   "cell_type": "code",
   "execution_count": 17,
   "id": "e10dc8ba",
   "metadata": {
    "ExecuteTime": {
     "end_time": "2022-11-14T20:10:43.411469Z",
     "start_time": "2022-11-14T20:10:43.398457Z"
    }
   },
   "outputs": [
    {
     "data": {
      "text/plain": [
       "numpy.ndarray"
      ]
     },
     "execution_count": 17,
     "metadata": {},
     "output_type": "execute_result"
    }
   ],
   "source": [
    "type(data)"
   ]
  },
  {
   "cell_type": "code",
   "execution_count": 20,
   "id": "25a11966",
   "metadata": {
    "ExecuteTime": {
     "end_time": "2022-11-14T20:12:32.936114Z",
     "start_time": "2022-11-14T20:12:32.918097Z"
    }
   },
   "outputs": [
    {
     "data": {
      "text/plain": [
       "44"
      ]
     },
     "execution_count": 20,
     "metadata": {},
     "output_type": "execute_result"
    }
   ],
   "source": [
    "# (1, 1) called a 'tuple'\n",
    "data[(1, 1)]"
   ]
  },
  {
   "cell_type": "code",
   "execution_count": 21,
   "id": "200fb12a",
   "metadata": {
    "ExecuteTime": {
     "end_time": "2022-11-14T20:12:44.225862Z",
     "start_time": "2022-11-14T20:12:44.214852Z"
    }
   },
   "outputs": [
    {
     "data": {
      "text/plain": [
       "44"
      ]
     },
     "execution_count": 21,
     "metadata": {},
     "output_type": "execute_result"
    }
   ],
   "source": [
    "data[1][1]"
   ]
  },
  {
   "cell_type": "code",
   "execution_count": 22,
   "id": "11d009f4",
   "metadata": {
    "ExecuteTime": {
     "end_time": "2022-11-14T20:13:23.458936Z",
     "start_time": "2022-11-14T20:13:23.446925Z"
    }
   },
   "outputs": [
    {
     "data": {
      "text/plain": [
       "array([33, 44])"
      ]
     },
     "execution_count": 22,
     "metadata": {},
     "output_type": "execute_result"
    }
   ],
   "source": [
    "data[1]"
   ]
  },
  {
   "cell_type": "code",
   "execution_count": 23,
   "id": "bc669273",
   "metadata": {
    "ExecuteTime": {
     "end_time": "2022-11-14T20:13:32.427064Z",
     "start_time": "2022-11-14T20:13:32.422060Z"
    }
   },
   "outputs": [
    {
     "data": {
      "text/plain": [
       "array([[11, 22],\n",
       "       [33, 44],\n",
       "       [55, 66]])"
      ]
     },
     "execution_count": 23,
     "metadata": {},
     "output_type": "execute_result"
    }
   ],
   "source": [
    "data"
   ]
  },
  {
   "cell_type": "code",
   "execution_count": 24,
   "id": "ba8efda2",
   "metadata": {
    "ExecuteTime": {
     "end_time": "2022-11-14T20:13:35.859279Z",
     "start_time": "2022-11-14T20:13:35.846267Z"
    }
   },
   "outputs": [
    {
     "data": {
      "text/plain": [
       "array([11, 22])"
      ]
     },
     "execution_count": 24,
     "metadata": {},
     "output_type": "execute_result"
    }
   ],
   "source": [
    "data[0]"
   ]
  },
  {
   "cell_type": "code",
   "execution_count": 132,
   "id": "cfa4cda0",
   "metadata": {
    "ExecuteTime": {
     "end_time": "2022-11-14T21:46:44.428893Z",
     "start_time": "2022-11-14T21:46:44.424901Z"
    }
   },
   "outputs": [],
   "source": [
    "#data[4]"
   ]
  },
  {
   "cell_type": "code",
   "execution_count": 133,
   "id": "572450d4",
   "metadata": {
    "ExecuteTime": {
     "end_time": "2022-11-14T21:46:47.729400Z",
     "start_time": "2022-11-14T21:46:47.717395Z"
    }
   },
   "outputs": [],
   "source": [
    "#data[(0,4)]"
   ]
  },
  {
   "cell_type": "code",
   "execution_count": 28,
   "id": "c1a81998",
   "metadata": {
    "ExecuteTime": {
     "end_time": "2022-11-14T20:15:16.007769Z",
     "start_time": "2022-11-14T20:15:15.990754Z"
    }
   },
   "outputs": [
    {
     "data": {
      "text/plain": [
       "array([55, 66])"
      ]
     },
     "execution_count": 28,
     "metadata": {},
     "output_type": "execute_result"
    }
   ],
   "source": [
    "data[-1]"
   ]
  },
  {
   "cell_type": "code",
   "execution_count": 29,
   "id": "5da736f2",
   "metadata": {
    "ExecuteTime": {
     "end_time": "2022-11-14T20:15:19.473288Z",
     "start_time": "2022-11-14T20:15:19.463279Z"
    }
   },
   "outputs": [
    {
     "data": {
      "text/plain": [
       "array([[11, 22],\n",
       "       [33, 44],\n",
       "       [55, 66]])"
      ]
     },
     "execution_count": 29,
     "metadata": {},
     "output_type": "execute_result"
    }
   ],
   "source": [
    "data"
   ]
  },
  {
   "cell_type": "code",
   "execution_count": 30,
   "id": "71a89e68",
   "metadata": {
    "ExecuteTime": {
     "end_time": "2022-11-14T20:15:31.219998Z",
     "start_time": "2022-11-14T20:15:31.206986Z"
    }
   },
   "outputs": [
    {
     "data": {
      "text/plain": [
       "array([33, 44])"
      ]
     },
     "execution_count": 30,
     "metadata": {},
     "output_type": "execute_result"
    }
   ],
   "source": [
    "data[-2]"
   ]
  },
  {
   "cell_type": "code",
   "execution_count": 31,
   "id": "4b047b2a",
   "metadata": {
    "ExecuteTime": {
     "end_time": "2022-11-14T20:17:04.780289Z",
     "start_time": "2022-11-14T20:17:04.774285Z"
    }
   },
   "outputs": [
    {
     "data": {
      "text/plain": [
       "66"
      ]
     },
     "execution_count": 31,
     "metadata": {},
     "output_type": "execute_result"
    }
   ],
   "source": [
    "data[(-1, -1)]"
   ]
  },
  {
   "cell_type": "markdown",
   "id": "5ded7247",
   "metadata": {},
   "source": [
    "Practice!\n",
    "Access 44 two different ways:\n",
    "\n",
    "With two positive integers\n",
    "\n",
    "With two negative integers"
   ]
  },
  {
   "cell_type": "code",
   "execution_count": 32,
   "id": "c9b71d7f",
   "metadata": {
    "ExecuteTime": {
     "end_time": "2022-11-14T20:19:52.605744Z",
     "start_time": "2022-11-14T20:19:52.598738Z"
    }
   },
   "outputs": [
    {
     "data": {
      "text/plain": [
       "array([[11, 22],\n",
       "       [33, 44],\n",
       "       [55, 66]])"
      ]
     },
     "execution_count": 32,
     "metadata": {},
     "output_type": "execute_result"
    }
   ],
   "source": [
    "data"
   ]
  },
  {
   "cell_type": "code",
   "execution_count": 33,
   "id": "849d626b",
   "metadata": {
    "ExecuteTime": {
     "end_time": "2022-11-14T20:20:35.799387Z",
     "start_time": "2022-11-14T20:20:35.783373Z"
    }
   },
   "outputs": [
    {
     "data": {
      "text/plain": [
       "44"
      ]
     },
     "execution_count": 33,
     "metadata": {},
     "output_type": "execute_result"
    }
   ],
   "source": [
    "data[(1, 1)]"
   ]
  },
  {
   "cell_type": "code",
   "execution_count": 34,
   "id": "c8c5ada7",
   "metadata": {
    "ExecuteTime": {
     "end_time": "2022-11-14T20:20:55.047569Z",
     "start_time": "2022-11-14T20:20:55.031555Z"
    }
   },
   "outputs": [
    {
     "data": {
      "text/plain": [
       "44"
      ]
     },
     "execution_count": 34,
     "metadata": {},
     "output_type": "execute_result"
    }
   ],
   "source": [
    "data[(-2, -1)]"
   ]
  },
  {
   "cell_type": "code",
   "execution_count": 35,
   "id": "18e5797a",
   "metadata": {
    "ExecuteTime": {
     "end_time": "2022-11-14T20:21:49.712114Z",
     "start_time": "2022-11-14T20:21:49.704107Z"
    }
   },
   "outputs": [
    {
     "data": {
      "text/plain": [
       "44"
      ]
     },
     "execution_count": 35,
     "metadata": {},
     "output_type": "execute_result"
    }
   ],
   "source": [
    "data[(-2, 1)]"
   ]
  },
  {
   "cell_type": "code",
   "execution_count": 36,
   "id": "1f8e9a7a",
   "metadata": {
    "ExecuteTime": {
     "end_time": "2022-11-14T20:23:33.576035Z",
     "start_time": "2022-11-14T20:23:33.559019Z"
    }
   },
   "outputs": [],
   "source": [
    "# if had 6D data\n",
    "# data[(-1, -1, -1, -1, -1, -1)]"
   ]
  },
  {
   "cell_type": "markdown",
   "id": "d8e2e0b8",
   "metadata": {},
   "source": [
    "data[from:to]"
   ]
  },
  {
   "cell_type": "code",
   "execution_count": 37,
   "id": "2ae26b3a",
   "metadata": {
    "ExecuteTime": {
     "end_time": "2022-11-14T20:25:08.096385Z",
     "start_time": "2022-11-14T20:25:08.087377Z"
    }
   },
   "outputs": [],
   "source": [
    "data = array([11, 22, 33, 44, 55])"
   ]
  },
  {
   "cell_type": "code",
   "execution_count": 38,
   "id": "f5edb9a0",
   "metadata": {
    "ExecuteTime": {
     "end_time": "2022-11-14T20:25:42.865603Z",
     "start_time": "2022-11-14T20:25:42.855594Z"
    }
   },
   "outputs": [
    {
     "data": {
      "text/plain": [
       "array([11, 22, 33, 44, 55])"
      ]
     },
     "execution_count": 38,
     "metadata": {},
     "output_type": "execute_result"
    }
   ],
   "source": [
    "data[:]"
   ]
  },
  {
   "cell_type": "code",
   "execution_count": 39,
   "id": "ea73e94a",
   "metadata": {
    "ExecuteTime": {
     "end_time": "2022-11-14T20:26:09.197568Z",
     "start_time": "2022-11-14T20:26:09.191563Z"
    }
   },
   "outputs": [
    {
     "data": {
      "text/plain": [
       "array([22, 33, 44])"
      ]
     },
     "execution_count": 39,
     "metadata": {},
     "output_type": "execute_result"
    }
   ],
   "source": [
    "# \n",
    "data[1:-1]"
   ]
  },
  {
   "cell_type": "code",
   "execution_count": 41,
   "id": "e7f5d492",
   "metadata": {
    "ExecuteTime": {
     "end_time": "2022-11-14T20:27:03.461316Z",
     "start_time": "2022-11-14T20:27:03.448304Z"
    }
   },
   "outputs": [
    {
     "data": {
      "text/plain": [
       "array([], dtype=int32)"
      ]
     },
     "execution_count": 41,
     "metadata": {},
     "output_type": "execute_result"
    }
   ],
   "source": [
    "data[2:1]"
   ]
  },
  {
   "cell_type": "code",
   "execution_count": 43,
   "id": "5fe0f8d6",
   "metadata": {
    "ExecuteTime": {
     "end_time": "2022-11-14T20:27:58.936031Z",
     "start_time": "2022-11-14T20:27:58.920016Z"
    }
   },
   "outputs": [
    {
     "data": {
      "text/plain": [
       "array([33, 44, 55])"
      ]
     },
     "execution_count": 43,
     "metadata": {},
     "output_type": "execute_result"
    }
   ],
   "source": [
    "data[2:]"
   ]
  },
  {
   "cell_type": "code",
   "execution_count": 44,
   "id": "2f4e1907",
   "metadata": {
    "ExecuteTime": {
     "end_time": "2022-11-14T20:28:09.575994Z",
     "start_time": "2022-11-14T20:28:09.559980Z"
    }
   },
   "outputs": [
    {
     "data": {
      "text/plain": [
       "array([22, 33, 44, 55])"
      ]
     },
     "execution_count": 44,
     "metadata": {},
     "output_type": "execute_result"
    }
   ],
   "source": [
    "data[1:]"
   ]
  },
  {
   "cell_type": "code",
   "execution_count": 45,
   "id": "9e27c61d",
   "metadata": {
    "ExecuteTime": {
     "end_time": "2022-11-14T20:28:16.505282Z",
     "start_time": "2022-11-14T20:28:16.487266Z"
    }
   },
   "outputs": [
    {
     "data": {
      "text/plain": [
       "array([11])"
      ]
     },
     "execution_count": 45,
     "metadata": {},
     "output_type": "execute_result"
    }
   ],
   "source": [
    "data[:1]"
   ]
  },
  {
   "cell_type": "code",
   "execution_count": 47,
   "id": "31764114",
   "metadata": {
    "ExecuteTime": {
     "end_time": "2022-11-14T20:28:24.505836Z",
     "start_time": "2022-11-14T20:28:24.487819Z"
    }
   },
   "outputs": [
    {
     "data": {
      "text/plain": [
       "array([11, 22, 33, 44, 55])"
      ]
     },
     "execution_count": 47,
     "metadata": {},
     "output_type": "execute_result"
    }
   ],
   "source": [
    "data"
   ]
  },
  {
   "cell_type": "code",
   "execution_count": 48,
   "id": "454569f9",
   "metadata": {
    "ExecuteTime": {
     "end_time": "2022-11-14T20:29:51.550446Z",
     "start_time": "2022-11-14T20:29:51.543440Z"
    }
   },
   "outputs": [
    {
     "data": {
      "text/plain": [
       "array([22, 33])"
      ]
     },
     "execution_count": 48,
     "metadata": {},
     "output_type": "execute_result"
    }
   ],
   "source": [
    "data[1:-2]"
   ]
  },
  {
   "cell_type": "code",
   "execution_count": 49,
   "id": "948ec3fa",
   "metadata": {
    "ExecuteTime": {
     "end_time": "2022-11-14T20:30:22.909309Z",
     "start_time": "2022-11-14T20:30:22.903302Z"
    }
   },
   "outputs": [
    {
     "data": {
      "text/plain": [
       "array([33, 44, 55])"
      ]
     },
     "execution_count": 49,
     "metadata": {},
     "output_type": "execute_result"
    }
   ],
   "source": [
    "data[2:]"
   ]
  },
  {
   "cell_type": "code",
   "execution_count": 51,
   "id": "87f7b268",
   "metadata": {
    "ExecuteTime": {
     "end_time": "2022-11-14T20:30:39.670179Z",
     "start_time": "2022-11-14T20:30:39.656166Z"
    }
   },
   "outputs": [
    {
     "data": {
      "text/plain": [
       "array([33, 44, 55])"
      ]
     },
     "execution_count": 51,
     "metadata": {},
     "output_type": "execute_result"
    }
   ],
   "source": [
    "data[-3:]"
   ]
  },
  {
   "cell_type": "code",
   "execution_count": 52,
   "id": "b0327114",
   "metadata": {
    "ExecuteTime": {
     "end_time": "2022-11-14T20:35:11.755970Z",
     "start_time": "2022-11-14T20:35:11.750966Z"
    }
   },
   "outputs": [],
   "source": [
    "data = array([[11, 22], [33, 44], [55, 66]])"
   ]
  },
  {
   "cell_type": "code",
   "execution_count": 53,
   "id": "55a4327c",
   "metadata": {
    "ExecuteTime": {
     "end_time": "2022-11-14T20:35:14.795322Z",
     "start_time": "2022-11-14T20:35:14.791318Z"
    }
   },
   "outputs": [
    {
     "data": {
      "text/plain": [
       "array([[11, 22],\n",
       "       [33, 44],\n",
       "       [55, 66]])"
      ]
     },
     "execution_count": 53,
     "metadata": {},
     "output_type": "execute_result"
    }
   ],
   "source": [
    "data"
   ]
  },
  {
   "cell_type": "code",
   "execution_count": 54,
   "id": "c1d908fb",
   "metadata": {
    "ExecuteTime": {
     "end_time": "2022-11-14T20:35:24.406763Z",
     "start_time": "2022-11-14T20:35:24.391749Z"
    }
   },
   "outputs": [
    {
     "data": {
      "text/plain": [
       "array([[11],\n",
       "       [33],\n",
       "       [55]])"
      ]
     },
     "execution_count": 54,
     "metadata": {},
     "output_type": "execute_result"
    }
   ],
   "source": [
    "data[:, :-1]"
   ]
  },
  {
   "cell_type": "code",
   "execution_count": 56,
   "id": "ecbd4190",
   "metadata": {
    "ExecuteTime": {
     "end_time": "2022-11-14T20:35:58.883031Z",
     "start_time": "2022-11-14T20:35:58.871020Z"
    }
   },
   "outputs": [
    {
     "data": {
      "text/plain": [
       "array([[11, 22],\n",
       "       [33, 44]])"
      ]
     },
     "execution_count": 56,
     "metadata": {},
     "output_type": "execute_result"
    }
   ],
   "source": [
    "data[:-1, :]"
   ]
  },
  {
   "cell_type": "code",
   "execution_count": 57,
   "id": "8c97bb57",
   "metadata": {
    "ExecuteTime": {
     "end_time": "2022-11-14T20:37:42.226905Z",
     "start_time": "2022-11-14T20:37:42.217898Z"
    }
   },
   "outputs": [],
   "source": [
    "# training = data[:-100, :]\n",
    "# test = data[-100:, :]"
   ]
  },
  {
   "cell_type": "code",
   "execution_count": 58,
   "id": "e7ce5d33",
   "metadata": {
    "ExecuteTime": {
     "end_time": "2022-11-14T20:40:42.282665Z",
     "start_time": "2022-11-14T20:40:42.279662Z"
    }
   },
   "outputs": [],
   "source": [
    "data = array([\n",
    "    [11, 22, 33],\n",
    "    [44, 55, 66],\n",
    "    [77, 88, 99]\n",
    "])"
   ]
  },
  {
   "cell_type": "code",
   "execution_count": 59,
   "id": "afd69078",
   "metadata": {
    "ExecuteTime": {
     "end_time": "2022-11-14T20:40:44.893256Z",
     "start_time": "2022-11-14T20:40:44.888252Z"
    }
   },
   "outputs": [
    {
     "data": {
      "text/plain": [
       "array([[11, 22, 33],\n",
       "       [44, 55, 66],\n",
       "       [77, 88, 99]])"
      ]
     },
     "execution_count": 59,
     "metadata": {},
     "output_type": "execute_result"
    }
   ],
   "source": [
    "data"
   ]
  },
  {
   "cell_type": "code",
   "execution_count": 60,
   "id": "14200c5b",
   "metadata": {
    "ExecuteTime": {
     "end_time": "2022-11-14T20:41:54.348878Z",
     "start_time": "2022-11-14T20:41:54.342873Z"
    }
   },
   "outputs": [
    {
     "data": {
      "text/plain": [
       "array([[11, 22],\n",
       "       [44, 55],\n",
       "       [77, 88]])"
      ]
     },
     "execution_count": 60,
     "metadata": {},
     "output_type": "execute_result"
    }
   ],
   "source": [
    "data[:, :-1]"
   ]
  },
  {
   "cell_type": "code",
   "execution_count": 61,
   "id": "7c239000",
   "metadata": {
    "ExecuteTime": {
     "end_time": "2022-11-14T20:42:06.452977Z",
     "start_time": "2022-11-14T20:42:06.438964Z"
    }
   },
   "outputs": [
    {
     "data": {
      "text/plain": [
       "array([[33],\n",
       "       [66],\n",
       "       [99]])"
      ]
     },
     "execution_count": 61,
     "metadata": {},
     "output_type": "execute_result"
    }
   ],
   "source": [
    "data[:, -1:]"
   ]
  },
  {
   "cell_type": "code",
   "execution_count": null,
   "id": "101a347c",
   "metadata": {},
   "outputs": [],
   "source": [
    "x = data[:, :-1]\n",
    "y = data[:, -1:]"
   ]
  },
  {
   "cell_type": "code",
   "execution_count": 64,
   "id": "b56632d7",
   "metadata": {
    "ExecuteTime": {
     "end_time": "2022-11-14T20:48:18.876230Z",
     "start_time": "2022-11-14T20:48:18.872227Z"
    }
   },
   "outputs": [],
   "source": [
    "x, y = data[:, :-1], data[:, -1:]"
   ]
  },
  {
   "cell_type": "code",
   "execution_count": null,
   "id": "941f2f15",
   "metadata": {},
   "outputs": [],
   "source": [
    "#df[\"col1\"][:-10]\n",
    "#df[\"col1\"][-10:]"
   ]
  },
  {
   "cell_type": "code",
   "execution_count": 65,
   "id": "549a110b",
   "metadata": {
    "ExecuteTime": {
     "end_time": "2022-11-14T20:48:23.745733Z",
     "start_time": "2022-11-14T20:48:23.735724Z"
    }
   },
   "outputs": [
    {
     "data": {
      "text/plain": [
       "array([[11, 22],\n",
       "       [44, 55],\n",
       "       [77, 88]])"
      ]
     },
     "execution_count": 65,
     "metadata": {},
     "output_type": "execute_result"
    }
   ],
   "source": [
    "x"
   ]
  },
  {
   "cell_type": "code",
   "execution_count": 66,
   "id": "ca817b6d",
   "metadata": {
    "ExecuteTime": {
     "end_time": "2022-11-14T20:48:28.832731Z",
     "start_time": "2022-11-14T20:48:28.823722Z"
    },
    "scrolled": true
   },
   "outputs": [
    {
     "data": {
      "text/plain": [
       "array([[33],\n",
       "       [66],\n",
       "       [99]])"
      ]
     },
     "execution_count": 66,
     "metadata": {},
     "output_type": "execute_result"
    }
   ],
   "source": [
    "y"
   ]
  },
  {
   "cell_type": "code",
   "execution_count": 71,
   "id": "fbf324ef",
   "metadata": {
    "ExecuteTime": {
     "end_time": "2022-11-14T21:01:07.043238Z",
     "start_time": "2022-11-14T21:01:07.031750Z"
    }
   },
   "outputs": [
    {
     "data": {
      "text/plain": [
       "(3, 3)"
      ]
     },
     "execution_count": 71,
     "metadata": {},
     "output_type": "execute_result"
    }
   ],
   "source": [
    "data.shape"
   ]
  },
  {
   "cell_type": "code",
   "execution_count": 72,
   "id": "fa6ccb79",
   "metadata": {
    "ExecuteTime": {
     "end_time": "2022-11-14T21:01:20.842230Z",
     "start_time": "2022-11-14T21:01:20.839227Z"
    }
   },
   "outputs": [
    {
     "data": {
      "text/plain": [
       "(3, 2)"
      ]
     },
     "execution_count": 72,
     "metadata": {},
     "output_type": "execute_result"
    }
   ],
   "source": [
    "x.shape"
   ]
  },
  {
   "cell_type": "code",
   "execution_count": 73,
   "id": "a53e360f",
   "metadata": {
    "ExecuteTime": {
     "end_time": "2022-11-14T21:01:29.736238Z",
     "start_time": "2022-11-14T21:01:29.719222Z"
    }
   },
   "outputs": [
    {
     "data": {
      "text/plain": [
       "(3, 1)"
      ]
     },
     "execution_count": 73,
     "metadata": {},
     "output_type": "execute_result"
    }
   ],
   "source": [
    "y.shape"
   ]
  },
  {
   "cell_type": "code",
   "execution_count": 67,
   "id": "d6f6c56b",
   "metadata": {
    "ExecuteTime": {
     "end_time": "2022-11-14T20:56:32.111017Z",
     "start_time": "2022-11-14T20:56:32.104011Z"
    }
   },
   "outputs": [],
   "source": [
    "data1 = [\n",
    "    [1, 2, 3],\n",
    "    [4, 5, 6],\n",
    "    [7, 8, 9]\n",
    "]\n",
    "\n",
    "data2 = [\n",
    "    [10, 20, 30],\n",
    "    [40, 50, 60],\n",
    "    [70, 80, 90]\n",
    "]\n",
    "\n",
    "data3 = [data1, data2]"
   ]
  },
  {
   "cell_type": "code",
   "execution_count": 68,
   "id": "896aecf4",
   "metadata": {
    "ExecuteTime": {
     "end_time": "2022-11-14T20:56:34.864419Z",
     "start_time": "2022-11-14T20:56:34.855411Z"
    }
   },
   "outputs": [
    {
     "data": {
      "text/plain": [
       "[[[1, 2, 3], [4, 5, 6], [7, 8, 9]], [[10, 20, 30], [40, 50, 60], [70, 80, 90]]]"
      ]
     },
     "execution_count": 68,
     "metadata": {},
     "output_type": "execute_result"
    }
   ],
   "source": [
    "data3"
   ]
  },
  {
   "cell_type": "code",
   "execution_count": 75,
   "id": "596bf713",
   "metadata": {
    "ExecuteTime": {
     "end_time": "2022-11-14T21:04:29.224848Z",
     "start_time": "2022-11-14T21:04:29.208833Z"
    },
    "scrolled": true
   },
   "outputs": [],
   "source": [
    "#data3.shape"
   ]
  },
  {
   "cell_type": "code",
   "execution_count": 76,
   "id": "4fc432e3",
   "metadata": {
    "ExecuteTime": {
     "end_time": "2022-11-14T21:04:43.563077Z",
     "start_time": "2022-11-14T21:04:43.559098Z"
    }
   },
   "outputs": [],
   "source": [
    "arr3d = array(data3)"
   ]
  },
  {
   "cell_type": "code",
   "execution_count": 78,
   "id": "931756a4",
   "metadata": {
    "ExecuteTime": {
     "end_time": "2022-11-14T21:04:50.160833Z",
     "start_time": "2022-11-14T21:04:50.151824Z"
    }
   },
   "outputs": [
    {
     "data": {
      "text/plain": [
       "array([[[ 1,  2,  3],\n",
       "        [ 4,  5,  6],\n",
       "        [ 7,  8,  9]],\n",
       "\n",
       "       [[10, 20, 30],\n",
       "        [40, 50, 60],\n",
       "        [70, 80, 90]]])"
      ]
     },
     "execution_count": 78,
     "metadata": {},
     "output_type": "execute_result"
    }
   ],
   "source": [
    "arr3d"
   ]
  },
  {
   "cell_type": "code",
   "execution_count": 79,
   "id": "2638ac22",
   "metadata": {
    "ExecuteTime": {
     "end_time": "2022-11-14T21:05:05.836519Z",
     "start_time": "2022-11-14T21:05:05.831514Z"
    }
   },
   "outputs": [
    {
     "data": {
      "text/plain": [
       "(2, 3, 3)"
      ]
     },
     "execution_count": 79,
     "metadata": {},
     "output_type": "execute_result"
    }
   ],
   "source": [
    "arr3d.shape"
   ]
  },
  {
   "cell_type": "code",
   "execution_count": 84,
   "id": "529d3acc",
   "metadata": {
    "ExecuteTime": {
     "end_time": "2022-11-14T21:09:18.227934Z",
     "start_time": "2022-11-14T21:09:18.215925Z"
    }
   },
   "outputs": [
    {
     "data": {
      "text/plain": [
       "array([1, 2, 3])"
      ]
     },
     "execution_count": 84,
     "metadata": {},
     "output_type": "execute_result"
    }
   ],
   "source": [
    "arr3d[0, 0, :]"
   ]
  },
  {
   "cell_type": "code",
   "execution_count": 85,
   "id": "dcf5c85d",
   "metadata": {
    "ExecuteTime": {
     "end_time": "2022-11-14T21:09:18.819933Z",
     "start_time": "2022-11-14T21:09:18.807923Z"
    }
   },
   "outputs": [
    {
     "data": {
      "text/plain": [
       "array([1, 4, 7])"
      ]
     },
     "execution_count": 85,
     "metadata": {},
     "output_type": "execute_result"
    }
   ],
   "source": [
    "arr3d[0, :, 0]"
   ]
  },
  {
   "cell_type": "code",
   "execution_count": 86,
   "id": "2c3e2edf",
   "metadata": {
    "ExecuteTime": {
     "end_time": "2022-11-14T21:09:19.660927Z",
     "start_time": "2022-11-14T21:09:19.656924Z"
    }
   },
   "outputs": [
    {
     "data": {
      "text/plain": [
       "array([ 1, 10])"
      ]
     },
     "execution_count": 86,
     "metadata": {},
     "output_type": "execute_result"
    }
   ],
   "source": [
    "arr3d[:, 0, 0]"
   ]
  },
  {
   "cell_type": "code",
   "execution_count": 87,
   "id": "25cf4c39",
   "metadata": {
    "ExecuteTime": {
     "end_time": "2022-11-14T21:09:44.099917Z",
     "start_time": "2022-11-14T21:09:44.087907Z"
    }
   },
   "outputs": [
    {
     "data": {
      "text/plain": [
       "array([[ 1,  2,  3],\n",
       "       [10, 20, 30]])"
      ]
     },
     "execution_count": 87,
     "metadata": {},
     "output_type": "execute_result"
    }
   ],
   "source": [
    "arr3d[:, 0, :]"
   ]
  },
  {
   "cell_type": "code",
   "execution_count": 88,
   "id": "70e4cfa6",
   "metadata": {
    "ExecuteTime": {
     "end_time": "2022-11-14T21:09:49.969509Z",
     "start_time": "2022-11-14T21:09:49.960501Z"
    }
   },
   "outputs": [
    {
     "data": {
      "text/plain": [
       "array([[[ 1,  2,  3],\n",
       "        [ 4,  5,  6],\n",
       "        [ 7,  8,  9]],\n",
       "\n",
       "       [[10, 20, 30],\n",
       "        [40, 50, 60],\n",
       "        [70, 80, 90]]])"
      ]
     },
     "execution_count": 88,
     "metadata": {},
     "output_type": "execute_result"
    }
   ],
   "source": [
    "arr3d"
   ]
  },
  {
   "cell_type": "code",
   "execution_count": 89,
   "id": "c14a4d91",
   "metadata": {
    "ExecuteTime": {
     "end_time": "2022-11-14T21:11:25.989217Z",
     "start_time": "2022-11-14T21:11:25.978207Z"
    }
   },
   "outputs": [],
   "source": [
    "data = array([\n",
    "    [11, 22, 33],\n",
    "    [44, 55, 66],\n",
    "    [77, 88, 99]\n",
    "])"
   ]
  },
  {
   "cell_type": "code",
   "execution_count": 90,
   "id": "4a8a1637",
   "metadata": {
    "ExecuteTime": {
     "end_time": "2022-11-14T21:12:02.519732Z",
     "start_time": "2022-11-14T21:12:02.503718Z"
    }
   },
   "outputs": [],
   "source": [
    "data = data[:-1, :]"
   ]
  },
  {
   "cell_type": "code",
   "execution_count": 91,
   "id": "a1695da3",
   "metadata": {
    "ExecuteTime": {
     "end_time": "2022-11-14T21:12:04.348324Z",
     "start_time": "2022-11-14T21:12:04.343320Z"
    }
   },
   "outputs": [
    {
     "data": {
      "text/plain": [
       "array([[11, 22, 33],\n",
       "       [44, 55, 66]])"
      ]
     },
     "execution_count": 91,
     "metadata": {},
     "output_type": "execute_result"
    }
   ],
   "source": [
    "data"
   ]
  },
  {
   "cell_type": "code",
   "execution_count": 92,
   "id": "639bcfe6",
   "metadata": {
    "ExecuteTime": {
     "end_time": "2022-11-14T21:12:59.450800Z",
     "start_time": "2022-11-14T21:12:59.431782Z"
    }
   },
   "outputs": [
    {
     "data": {
      "text/plain": [
       "(2, 3)"
      ]
     },
     "execution_count": 92,
     "metadata": {},
     "output_type": "execute_result"
    }
   ],
   "source": [
    "data.shape"
   ]
  },
  {
   "cell_type": "code",
   "execution_count": 93,
   "id": "94e9f383",
   "metadata": {
    "ExecuteTime": {
     "end_time": "2022-11-14T21:13:27.763020Z",
     "start_time": "2022-11-14T21:13:27.752009Z"
    }
   },
   "outputs": [
    {
     "data": {
      "text/plain": [
       "array([[11, 22],\n",
       "       [33, 44],\n",
       "       [55, 66]])"
      ]
     },
     "execution_count": 93,
     "metadata": {},
     "output_type": "execute_result"
    }
   ],
   "source": [
    "data.reshape(3, 2)"
   ]
  },
  {
   "cell_type": "code",
   "execution_count": 94,
   "id": "1b9ae672",
   "metadata": {
    "ExecuteTime": {
     "end_time": "2022-11-14T21:16:16.734071Z",
     "start_time": "2022-11-14T21:16:16.726064Z"
    }
   },
   "outputs": [
    {
     "data": {
      "text/plain": [
       "array([[11, 22, 33],\n",
       "       [44, 55, 66]])"
      ]
     },
     "execution_count": 94,
     "metadata": {},
     "output_type": "execute_result"
    }
   ],
   "source": [
    "data"
   ]
  },
  {
   "cell_type": "code",
   "execution_count": 95,
   "id": "26c8c374",
   "metadata": {
    "ExecuteTime": {
     "end_time": "2022-11-14T21:16:24.336989Z",
     "start_time": "2022-11-14T21:16:24.325980Z"
    }
   },
   "outputs": [],
   "source": [
    "data = data.reshape(3, 2)"
   ]
  },
  {
   "cell_type": "code",
   "execution_count": 96,
   "id": "cb1a0539",
   "metadata": {
    "ExecuteTime": {
     "end_time": "2022-11-14T21:16:27.256739Z",
     "start_time": "2022-11-14T21:16:27.237722Z"
    }
   },
   "outputs": [
    {
     "data": {
      "text/plain": [
       "array([[11, 22],\n",
       "       [33, 44],\n",
       "       [55, 66]])"
      ]
     },
     "execution_count": 96,
     "metadata": {},
     "output_type": "execute_result"
    }
   ],
   "source": [
    "data"
   ]
  },
  {
   "cell_type": "code",
   "execution_count": 97,
   "id": "5486ce5f",
   "metadata": {
    "ExecuteTime": {
     "end_time": "2022-11-14T21:16:38.458644Z",
     "start_time": "2022-11-14T21:16:38.453640Z"
    }
   },
   "outputs": [
    {
     "data": {
      "text/plain": [
       "array([[11, 22, 33],\n",
       "       [44, 55, 66]])"
      ]
     },
     "execution_count": 97,
     "metadata": {},
     "output_type": "execute_result"
    }
   ],
   "source": [
    "data.reshape(2, 3)"
   ]
  },
  {
   "cell_type": "code",
   "execution_count": 98,
   "id": "58553ea1",
   "metadata": {
    "ExecuteTime": {
     "end_time": "2022-11-14T21:16:48.342473Z",
     "start_time": "2022-11-14T21:16:48.325458Z"
    }
   },
   "outputs": [
    {
     "data": {
      "text/plain": [
       "array([[11],\n",
       "       [22],\n",
       "       [33],\n",
       "       [44],\n",
       "       [55],\n",
       "       [66]])"
      ]
     },
     "execution_count": 98,
     "metadata": {},
     "output_type": "execute_result"
    }
   ],
   "source": [
    "data.reshape(6, 1)"
   ]
  },
  {
   "cell_type": "code",
   "execution_count": 100,
   "id": "0b7f17dc",
   "metadata": {
    "ExecuteTime": {
     "end_time": "2022-11-14T21:17:25.506622Z",
     "start_time": "2022-11-14T21:17:25.493610Z"
    }
   },
   "outputs": [],
   "source": [
    "#data.reshape(5, 1)"
   ]
  },
  {
   "cell_type": "code",
   "execution_count": 101,
   "id": "71a7f545",
   "metadata": {
    "ExecuteTime": {
     "end_time": "2022-11-14T21:18:17.845591Z",
     "start_time": "2022-11-14T21:18:17.830577Z"
    }
   },
   "outputs": [
    {
     "data": {
      "text/plain": [
       "array([[11, 22],\n",
       "       [33, 44],\n",
       "       [55, 66]])"
      ]
     },
     "execution_count": 101,
     "metadata": {},
     "output_type": "execute_result"
    }
   ],
   "source": [
    "data"
   ]
  },
  {
   "cell_type": "code",
   "execution_count": 102,
   "id": "718fd977",
   "metadata": {
    "ExecuteTime": {
     "end_time": "2022-11-14T21:18:29.881763Z",
     "start_time": "2022-11-14T21:18:29.877759Z"
    }
   },
   "outputs": [
    {
     "data": {
      "text/plain": [
       "array([[[11],\n",
       "        [22]],\n",
       "\n",
       "       [[33],\n",
       "        [44]],\n",
       "\n",
       "       [[55],\n",
       "        [66]]])"
      ]
     },
     "execution_count": 102,
     "metadata": {},
     "output_type": "execute_result"
    }
   ],
   "source": [
    "data.reshape(3, 2, 1)"
   ]
  },
  {
   "cell_type": "code",
   "execution_count": 103,
   "id": "b8576fd1",
   "metadata": {
    "ExecuteTime": {
     "end_time": "2022-11-14T21:19:53.169526Z",
     "start_time": "2022-11-14T21:19:53.158516Z"
    }
   },
   "outputs": [
    {
     "data": {
      "text/plain": [
       "array([[11, 22],\n",
       "       [33, 44],\n",
       "       [55, 66]])"
      ]
     },
     "execution_count": 103,
     "metadata": {},
     "output_type": "execute_result"
    }
   ],
   "source": [
    "data"
   ]
  },
  {
   "cell_type": "code",
   "execution_count": 106,
   "id": "949a3a8a",
   "metadata": {
    "ExecuteTime": {
     "end_time": "2022-11-14T21:20:25.049882Z",
     "start_time": "2022-11-14T21:20:25.045878Z"
    }
   },
   "outputs": [
    {
     "data": {
      "text/plain": [
       "array([[11, 33, 55],\n",
       "       [22, 44, 66]])"
      ]
     },
     "execution_count": 106,
     "metadata": {},
     "output_type": "execute_result"
    }
   ],
   "source": [
    "# swaps rows and columns\n",
    "data.transpose()"
   ]
  },
  {
   "cell_type": "code",
   "execution_count": 107,
   "id": "06e1690b",
   "metadata": {
    "ExecuteTime": {
     "end_time": "2022-11-14T21:20:42.599102Z",
     "start_time": "2022-11-14T21:20:42.582086Z"
    }
   },
   "outputs": [
    {
     "data": {
      "text/plain": [
       "array([[11, 22, 33],\n",
       "       [44, 55, 66]])"
      ]
     },
     "execution_count": 107,
     "metadata": {},
     "output_type": "execute_result"
    }
   ],
   "source": [
    "data.reshape(2, 3)"
   ]
  },
  {
   "cell_type": "code",
   "execution_count": 108,
   "id": "8f4a1a95",
   "metadata": {
    "ExecuteTime": {
     "end_time": "2022-11-14T21:22:03.746697Z",
     "start_time": "2022-11-14T21:22:03.732684Z"
    }
   },
   "outputs": [
    {
     "data": {
      "text/plain": [
       "array([[11, 22],\n",
       "       [33, 44],\n",
       "       [55, 66]])"
      ]
     },
     "execution_count": 108,
     "metadata": {},
     "output_type": "execute_result"
    }
   ],
   "source": [
    "data"
   ]
  },
  {
   "cell_type": "code",
   "execution_count": 110,
   "id": "749396cd",
   "metadata": {
    "ExecuteTime": {
     "end_time": "2022-11-14T21:23:33.933236Z",
     "start_time": "2022-11-14T21:23:33.925229Z"
    }
   },
   "outputs": [
    {
     "data": {
      "text/plain": [
       "array([[11],\n",
       "       [22],\n",
       "       [33],\n",
       "       [44],\n",
       "       [55],\n",
       "       [66]])"
      ]
     },
     "execution_count": 110,
     "metadata": {},
     "output_type": "execute_result"
    }
   ],
   "source": [
    "data.reshape(6, 1)"
   ]
  },
  {
   "cell_type": "code",
   "execution_count": 111,
   "id": "118ac6da",
   "metadata": {
    "ExecuteTime": {
     "end_time": "2022-11-14T21:23:41.396383Z",
     "start_time": "2022-11-14T21:23:41.380369Z"
    }
   },
   "outputs": [
    {
     "data": {
      "text/plain": [
       "(6, 1)"
      ]
     },
     "execution_count": 111,
     "metadata": {},
     "output_type": "execute_result"
    }
   ],
   "source": [
    "data.reshape(6, 1).shape"
   ]
  },
  {
   "cell_type": "code",
   "execution_count": 114,
   "id": "b55facf4",
   "metadata": {
    "ExecuteTime": {
     "end_time": "2022-11-14T21:25:02.517515Z",
     "start_time": "2022-11-14T21:25:02.501501Z"
    }
   },
   "outputs": [],
   "source": [
    "data = data.reshape(6,)"
   ]
  },
  {
   "cell_type": "code",
   "execution_count": 115,
   "id": "ed2d2ea8",
   "metadata": {
    "ExecuteTime": {
     "end_time": "2022-11-14T21:25:05.534119Z",
     "start_time": "2022-11-14T21:25:05.526112Z"
    }
   },
   "outputs": [
    {
     "data": {
      "text/plain": [
       "(6,)"
      ]
     },
     "execution_count": 115,
     "metadata": {},
     "output_type": "execute_result"
    }
   ],
   "source": [
    "data.shape"
   ]
  },
  {
   "cell_type": "code",
   "execution_count": 116,
   "id": "b6177aac",
   "metadata": {
    "ExecuteTime": {
     "end_time": "2022-11-14T21:25:08.770325Z",
     "start_time": "2022-11-14T21:25:08.757313Z"
    }
   },
   "outputs": [
    {
     "data": {
      "text/plain": [
       "array([11, 22, 33, 44, 55, 66])"
      ]
     },
     "execution_count": 116,
     "metadata": {},
     "output_type": "execute_result"
    }
   ],
   "source": [
    "data"
   ]
  },
  {
   "cell_type": "code",
   "execution_count": 117,
   "id": "d7e0f671",
   "metadata": {
    "ExecuteTime": {
     "end_time": "2022-11-14T21:25:38.583126Z",
     "start_time": "2022-11-14T21:25:38.565110Z"
    }
   },
   "outputs": [
    {
     "data": {
      "text/plain": [
       "6"
      ]
     },
     "execution_count": 117,
     "metadata": {},
     "output_type": "execute_result"
    }
   ],
   "source": [
    "data.shape[0]"
   ]
  },
  {
   "cell_type": "code",
   "execution_count": 118,
   "id": "7dc1536a",
   "metadata": {
    "ExecuteTime": {
     "end_time": "2022-11-14T21:25:54.617287Z",
     "start_time": "2022-11-14T21:25:54.613284Z"
    }
   },
   "outputs": [
    {
     "data": {
      "text/plain": [
       "array([[11],\n",
       "       [22],\n",
       "       [33],\n",
       "       [44],\n",
       "       [55],\n",
       "       [66]])"
      ]
     },
     "execution_count": 118,
     "metadata": {},
     "output_type": "execute_result"
    }
   ],
   "source": [
    "data.reshape(data.shape[0],1)"
   ]
  },
  {
   "cell_type": "code",
   "execution_count": 119,
   "id": "42328e84",
   "metadata": {
    "ExecuteTime": {
     "end_time": "2022-11-14T21:26:12.837531Z",
     "start_time": "2022-11-14T21:26:12.821516Z"
    }
   },
   "outputs": [
    {
     "data": {
      "text/plain": [
       "array([[11, 22, 33, 44, 55, 66]])"
      ]
     },
     "execution_count": 119,
     "metadata": {},
     "output_type": "execute_result"
    }
   ],
   "source": [
    "data.reshape(1, data.shape[0])"
   ]
  },
  {
   "cell_type": "code",
   "execution_count": 120,
   "id": "e46f61ff",
   "metadata": {
    "ExecuteTime": {
     "end_time": "2022-11-14T21:26:38.444335Z",
     "start_time": "2022-11-14T21:26:38.439330Z"
    }
   },
   "outputs": [
    {
     "data": {
      "text/plain": [
       "array([[[11],\n",
       "        [22],\n",
       "        [33],\n",
       "        [44],\n",
       "        [55],\n",
       "        [66]]])"
      ]
     },
     "execution_count": 120,
     "metadata": {},
     "output_type": "execute_result"
    }
   ],
   "source": [
    "data.reshape(1, data.shape[0], 1)"
   ]
  },
  {
   "cell_type": "code",
   "execution_count": 121,
   "id": "382aaab0",
   "metadata": {
    "ExecuteTime": {
     "end_time": "2022-11-14T21:27:16.411890Z",
     "start_time": "2022-11-14T21:27:16.405884Z"
    }
   },
   "outputs": [
    {
     "data": {
      "text/plain": [
       "array([[[ 1,  2,  3],\n",
       "        [ 4,  5,  6],\n",
       "        [ 7,  8,  9]],\n",
       "\n",
       "       [[10, 20, 30],\n",
       "        [40, 50, 60],\n",
       "        [70, 80, 90]]])"
      ]
     },
     "execution_count": 121,
     "metadata": {},
     "output_type": "execute_result"
    }
   ],
   "source": [
    "arr3d"
   ]
  },
  {
   "cell_type": "code",
   "execution_count": 122,
   "id": "bcb97bf7",
   "metadata": {
    "ExecuteTime": {
     "end_time": "2022-11-14T21:27:21.821936Z",
     "start_time": "2022-11-14T21:27:21.813928Z"
    }
   },
   "outputs": [
    {
     "data": {
      "text/plain": [
       "(2, 3, 3)"
      ]
     },
     "execution_count": 122,
     "metadata": {},
     "output_type": "execute_result"
    }
   ],
   "source": [
    "arr3d.shape"
   ]
  },
  {
   "cell_type": "code",
   "execution_count": 123,
   "id": "6bd5a697",
   "metadata": {
    "ExecuteTime": {
     "end_time": "2022-11-14T21:27:28.084871Z",
     "start_time": "2022-11-14T21:27:28.069858Z"
    }
   },
   "outputs": [
    {
     "data": {
      "text/plain": [
       "2"
      ]
     },
     "execution_count": 123,
     "metadata": {},
     "output_type": "execute_result"
    }
   ],
   "source": [
    "arr3d.shape[0]"
   ]
  },
  {
   "cell_type": "code",
   "execution_count": 124,
   "id": "42c571af",
   "metadata": {
    "ExecuteTime": {
     "end_time": "2022-11-14T21:27:34.011226Z",
     "start_time": "2022-11-14T21:27:34.006222Z"
    }
   },
   "outputs": [
    {
     "data": {
      "text/plain": [
       "3"
      ]
     },
     "execution_count": 124,
     "metadata": {},
     "output_type": "execute_result"
    }
   ],
   "source": [
    "arr3d.shape[1]"
   ]
  },
  {
   "cell_type": "code",
   "execution_count": 125,
   "id": "7f01d987",
   "metadata": {
    "ExecuteTime": {
     "end_time": "2022-11-14T21:27:40.035917Z",
     "start_time": "2022-11-14T21:27:40.021905Z"
    }
   },
   "outputs": [
    {
     "data": {
      "text/plain": [
       "3"
      ]
     },
     "execution_count": 125,
     "metadata": {},
     "output_type": "execute_result"
    }
   ],
   "source": [
    "arr3d.shape[2]"
   ]
  },
  {
   "cell_type": "code",
   "execution_count": 126,
   "id": "43c7923d",
   "metadata": {
    "ExecuteTime": {
     "end_time": "2022-11-14T21:29:35.384785Z",
     "start_time": "2022-11-14T21:29:35.367771Z"
    }
   },
   "outputs": [
    {
     "data": {
      "text/plain": [
       "array([11, 22, 33, 44, 55, 66])"
      ]
     },
     "execution_count": 126,
     "metadata": {},
     "output_type": "execute_result"
    }
   ],
   "source": [
    "data"
   ]
  },
  {
   "cell_type": "markdown",
   "id": "922de08f",
   "metadata": {},
   "source": [
    "reshape into an array with 3 rows and 2 columns"
   ]
  },
  {
   "cell_type": "code",
   "execution_count": 127,
   "id": "0427de57",
   "metadata": {
    "ExecuteTime": {
     "end_time": "2022-11-14T21:31:17.432095Z",
     "start_time": "2022-11-14T21:31:17.414079Z"
    }
   },
   "outputs": [
    {
     "data": {
      "text/plain": [
       "(6,)"
      ]
     },
     "execution_count": 127,
     "metadata": {},
     "output_type": "execute_result"
    }
   ],
   "source": [
    "data.shape"
   ]
  },
  {
   "cell_type": "code",
   "execution_count": 128,
   "id": "d2ca9f2d",
   "metadata": {
    "ExecuteTime": {
     "end_time": "2022-11-14T21:31:48.204423Z",
     "start_time": "2022-11-14T21:31:48.197417Z"
    }
   },
   "outputs": [],
   "source": [
    "data = data.reshape(3, 2)"
   ]
  },
  {
   "cell_type": "code",
   "execution_count": 129,
   "id": "37915636",
   "metadata": {
    "ExecuteTime": {
     "end_time": "2022-11-14T21:31:55.636571Z",
     "start_time": "2022-11-14T21:31:55.622054Z"
    }
   },
   "outputs": [
    {
     "data": {
      "text/plain": [
       "(3, 2)"
      ]
     },
     "execution_count": 129,
     "metadata": {},
     "output_type": "execute_result"
    }
   ],
   "source": [
    "data.shape"
   ]
  },
  {
   "cell_type": "markdown",
   "id": "2cb0511d",
   "metadata": {},
   "source": [
    "Reshape this 2d data array to a 3d array without using the numbers 2 or 3\n",
    "\n",
    "shape = (3, 2, 1)"
   ]
  },
  {
   "cell_type": "code",
   "execution_count": 130,
   "id": "00b98740",
   "metadata": {
    "ExecuteTime": {
     "end_time": "2022-11-14T21:36:37.147563Z",
     "start_time": "2022-11-14T21:36:37.142559Z"
    }
   },
   "outputs": [],
   "source": [
    "data = data.reshape(data.shape[0], data.shape[1], 1)"
   ]
  },
  {
   "cell_type": "code",
   "execution_count": 131,
   "id": "7229f966",
   "metadata": {
    "ExecuteTime": {
     "end_time": "2022-11-14T21:36:41.176889Z",
     "start_time": "2022-11-14T21:36:41.157872Z"
    }
   },
   "outputs": [
    {
     "data": {
      "text/plain": [
       "(3, 2, 1)"
      ]
     },
     "execution_count": 131,
     "metadata": {},
     "output_type": "execute_result"
    }
   ],
   "source": [
    "data.shape"
   ]
  },
  {
   "cell_type": "code",
   "execution_count": null,
   "id": "532c3c27",
   "metadata": {},
   "outputs": [],
   "source": []
  }
 ],
 "metadata": {
  "kernelspec": {
   "display_name": "Python 3 (ipykernel)",
   "language": "python",
   "name": "python3"
  },
  "language_info": {
   "codemirror_mode": {
    "name": "ipython",
    "version": 3
   },
   "file_extension": ".py",
   "mimetype": "text/x-python",
   "name": "python",
   "nbconvert_exporter": "python",
   "pygments_lexer": "ipython3",
   "version": "3.9.12"
  }
 },
 "nbformat": 4,
 "nbformat_minor": 5
}
