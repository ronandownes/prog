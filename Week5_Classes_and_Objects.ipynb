{
 "cells": [
  {
   "cell_type": "markdown",
   "id": "195bcda3",
   "metadata": {},
   "source": [
    "## Objects and Classes"
   ]
  },
  {
   "cell_type": "code",
   "execution_count": 3,
   "id": "6dd70f3d",
   "metadata": {
    "ExecuteTime": {
     "end_time": "2022-10-17T18:53:30.660895Z",
     "start_time": "2022-10-17T18:53:30.645882Z"
    }
   },
   "outputs": [],
   "source": [
    "sam = [\"Sam\", \"Yellow\", \"Laois\"]"
   ]
  },
  {
   "cell_type": "code",
   "execution_count": 4,
   "id": "2cda65ff",
   "metadata": {
    "ExecuteTime": {
     "end_time": "2022-10-17T18:53:53.573573Z",
     "start_time": "2022-10-17T18:53:53.557887Z"
    }
   },
   "outputs": [
    {
     "data": {
      "text/plain": [
       "'Laois'"
      ]
     },
     "execution_count": 4,
     "metadata": {},
     "output_type": "execute_result"
    }
   ],
   "source": [
    "sam[2]"
   ]
  },
  {
   "cell_type": "code",
   "execution_count": 5,
   "id": "e8db64c0",
   "metadata": {
    "ExecuteTime": {
     "end_time": "2022-10-17T18:54:47.244963Z",
     "start_time": "2022-10-17T18:54:47.237957Z"
    }
   },
   "outputs": [],
   "source": [
    "kirk = [\"James Kirk\", 34, \"Captain\", 2265]\n",
    "spock = [\"Spock\", 35, \"Science Officer\", 2254]\n",
    "mccoy = [\"Leonard McCoy\", \"Chief Medical Officer\", 2266]"
   ]
  },
  {
   "cell_type": "code",
   "execution_count": 6,
   "id": "02877f76",
   "metadata": {
    "ExecuteTime": {
     "end_time": "2022-10-17T18:54:57.362214Z",
     "start_time": "2022-10-17T18:54:57.350202Z"
    }
   },
   "outputs": [
    {
     "data": {
      "text/plain": [
       "'Chief Medical Officer'"
      ]
     },
     "execution_count": 6,
     "metadata": {},
     "output_type": "execute_result"
    }
   ],
   "source": [
    "mccoy[1]"
   ]
  },
  {
   "cell_type": "markdown",
   "id": "6df329e2",
   "metadata": {},
   "source": [
    "## Classes vs objects\n",
    "Class is abstract: describes the objects, acts as a blueprint or a template\n",
    "\n",
    "Objects are the specific instances of the classes"
   ]
  },
  {
   "cell_type": "code",
   "execution_count": 22,
   "id": "3e2c6278",
   "metadata": {
    "ExecuteTime": {
     "end_time": "2022-10-17T19:06:24.703395Z",
     "start_time": "2022-10-17T19:06:24.696389Z"
    }
   },
   "outputs": [],
   "source": [
    "class Dog:\n",
    "    species = \"Canine\"\n",
    "    def __init__(self, firstname, age, colour):\n",
    "        self.name = firstname\n",
    "        self.age = age\n",
    "        self.colour = colour"
   ]
  },
  {
   "cell_type": "code",
   "execution_count": 84,
   "id": "9aeb1e3b",
   "metadata": {
    "ExecuteTime": {
     "end_time": "2022-10-17T19:52:32.274139Z",
     "start_time": "2022-10-17T19:52:32.267132Z"
    }
   },
   "outputs": [],
   "source": [
    "#lexie = Dog(\"Lexie\", 2)"
   ]
  },
  {
   "cell_type": "code",
   "execution_count": 28,
   "id": "bf7982c9",
   "metadata": {
    "ExecuteTime": {
     "end_time": "2022-10-17T19:08:52.639627Z",
     "start_time": "2022-10-17T19:08:52.632620Z"
    }
   },
   "outputs": [],
   "source": [
    "lexie = Dog(\"Lexie\", 2, \"white\")"
   ]
  },
  {
   "cell_type": "code",
   "execution_count": 24,
   "id": "44a118d6",
   "metadata": {
    "ExecuteTime": {
     "end_time": "2022-10-17T19:06:26.129665Z",
     "start_time": "2022-10-17T19:06:26.119655Z"
    }
   },
   "outputs": [
    {
     "data": {
      "text/plain": [
       "'Lexie'"
      ]
     },
     "execution_count": 24,
     "metadata": {},
     "output_type": "execute_result"
    }
   ],
   "source": [
    "lexie.name"
   ]
  },
  {
   "cell_type": "code",
   "execution_count": 25,
   "id": "e407f0e5",
   "metadata": {
    "ExecuteTime": {
     "end_time": "2022-10-17T19:06:26.591913Z",
     "start_time": "2022-10-17T19:06:26.584906Z"
    }
   },
   "outputs": [
    {
     "data": {
      "text/plain": [
       "2"
      ]
     },
     "execution_count": 25,
     "metadata": {},
     "output_type": "execute_result"
    }
   ],
   "source": [
    "lexie.age"
   ]
  },
  {
   "cell_type": "code",
   "execution_count": 26,
   "id": "ceceaf8d",
   "metadata": {
    "ExecuteTime": {
     "end_time": "2022-10-17T19:06:26.992782Z",
     "start_time": "2022-10-17T19:06:26.984775Z"
    }
   },
   "outputs": [
    {
     "data": {
      "text/plain": [
       "'Canine'"
      ]
     },
     "execution_count": 26,
     "metadata": {},
     "output_type": "execute_result"
    }
   ],
   "source": [
    "lexie.species"
   ]
  },
  {
   "cell_type": "code",
   "execution_count": 29,
   "id": "994b6e01",
   "metadata": {
    "ExecuteTime": {
     "end_time": "2022-10-17T19:09:08.784441Z",
     "start_time": "2022-10-17T19:09:08.776433Z"
    }
   },
   "outputs": [],
   "source": [
    "buddy = Dog(\"Buddy\", 9, \"Brown\")"
   ]
  },
  {
   "cell_type": "code",
   "execution_count": 30,
   "id": "3de7b9af",
   "metadata": {
    "ExecuteTime": {
     "end_time": "2022-10-17T19:09:13.285765Z",
     "start_time": "2022-10-17T19:09:13.272753Z"
    }
   },
   "outputs": [
    {
     "data": {
      "text/plain": [
       "'Buddy'"
      ]
     },
     "execution_count": 30,
     "metadata": {},
     "output_type": "execute_result"
    }
   ],
   "source": [
    "buddy.name"
   ]
  },
  {
   "cell_type": "code",
   "execution_count": 31,
   "id": "20dbae50",
   "metadata": {
    "ExecuteTime": {
     "end_time": "2022-10-17T19:09:18.960446Z",
     "start_time": "2022-10-17T19:09:18.952439Z"
    }
   },
   "outputs": [
    {
     "data": {
      "text/plain": [
       "'Brown'"
      ]
     },
     "execution_count": 31,
     "metadata": {},
     "output_type": "execute_result"
    }
   ],
   "source": [
    "buddy.colour"
   ]
  },
  {
   "cell_type": "code",
   "execution_count": 32,
   "id": "e0784e58",
   "metadata": {
    "ExecuteTime": {
     "end_time": "2022-10-17T19:09:25.173959Z",
     "start_time": "2022-10-17T19:09:25.159946Z"
    }
   },
   "outputs": [
    {
     "data": {
      "text/plain": [
       "'Canine'"
      ]
     },
     "execution_count": 32,
     "metadata": {},
     "output_type": "execute_result"
    }
   ],
   "source": [
    "buddy.species"
   ]
  },
  {
   "cell_type": "code",
   "execution_count": 33,
   "id": "56202dfa",
   "metadata": {
    "ExecuteTime": {
     "end_time": "2022-10-17T19:09:46.547206Z",
     "start_time": "2022-10-17T19:09:46.536196Z"
    }
   },
   "outputs": [],
   "source": [
    "lexie.age = 3"
   ]
  },
  {
   "cell_type": "code",
   "execution_count": 34,
   "id": "9ba8eacd",
   "metadata": {
    "ExecuteTime": {
     "end_time": "2022-10-17T19:09:50.143374Z",
     "start_time": "2022-10-17T19:09:50.135367Z"
    }
   },
   "outputs": [
    {
     "data": {
      "text/plain": [
       "3"
      ]
     },
     "execution_count": 34,
     "metadata": {},
     "output_type": "execute_result"
    }
   ],
   "source": [
    "lexie.age"
   ]
  },
  {
   "cell_type": "code",
   "execution_count": 35,
   "id": "e89c5b11",
   "metadata": {
    "ExecuteTime": {
     "end_time": "2022-10-17T19:10:14.993498Z",
     "start_time": "2022-10-17T19:10:14.984489Z"
    }
   },
   "outputs": [],
   "source": [
    "buddy.species = \"Cat\""
   ]
  },
  {
   "cell_type": "code",
   "execution_count": 37,
   "id": "8da19c96",
   "metadata": {
    "ExecuteTime": {
     "end_time": "2022-10-17T19:10:29.479594Z",
     "start_time": "2022-10-17T19:10:29.464581Z"
    }
   },
   "outputs": [
    {
     "data": {
      "text/plain": [
       "'Canine'"
      ]
     },
     "execution_count": 37,
     "metadata": {},
     "output_type": "execute_result"
    }
   ],
   "source": [
    "lexie.species"
   ]
  },
  {
   "cell_type": "code",
   "execution_count": 40,
   "id": "ed889391",
   "metadata": {
    "ExecuteTime": {
     "end_time": "2022-10-17T19:11:43.937806Z",
     "start_time": "2022-10-17T19:11:43.928798Z"
    }
   },
   "outputs": [],
   "source": [
    "Dog.species = \"Croccidile\""
   ]
  },
  {
   "cell_type": "code",
   "execution_count": 41,
   "id": "e3ead0f0",
   "metadata": {
    "ExecuteTime": {
     "end_time": "2022-10-17T19:11:45.017303Z",
     "start_time": "2022-10-17T19:11:45.000288Z"
    }
   },
   "outputs": [
    {
     "data": {
      "text/plain": [
       "'Croccidile'"
      ]
     },
     "execution_count": 41,
     "metadata": {},
     "output_type": "execute_result"
    }
   ],
   "source": [
    "lexie.species"
   ]
  },
  {
   "cell_type": "code",
   "execution_count": 42,
   "id": "e2c3a3ac",
   "metadata": {
    "ExecuteTime": {
     "end_time": "2022-10-17T19:11:51.043723Z",
     "start_time": "2022-10-17T19:11:51.032713Z"
    }
   },
   "outputs": [
    {
     "data": {
      "text/plain": [
       "'Cat'"
      ]
     },
     "execution_count": 42,
     "metadata": {},
     "output_type": "execute_result"
    }
   ],
   "source": [
    "buddy.species"
   ]
  },
  {
   "cell_type": "code",
   "execution_count": 43,
   "id": "ed1ca8c9",
   "metadata": {
    "ExecuteTime": {
     "end_time": "2022-10-17T19:16:09.187552Z",
     "start_time": "2022-10-17T19:16:09.176542Z"
    }
   },
   "outputs": [
    {
     "name": "stdout",
     "output_type": "stream",
     "text": [
      "<__main__.Dog object at 0x000001F223FCFDC0>\n"
     ]
    }
   ],
   "source": [
    "print(lexie)"
   ]
  },
  {
   "cell_type": "code",
   "execution_count": 47,
   "id": "0e275ea1",
   "metadata": {
    "ExecuteTime": {
     "end_time": "2022-10-17T19:20:24.101627Z",
     "start_time": "2022-10-17T19:20:24.090617Z"
    }
   },
   "outputs": [],
   "source": [
    "class Dog:\n",
    "    species = \"Canine\"\n",
    "    def __init__(self, firstname, age, colour):\n",
    "        self.name = firstname\n",
    "        self.age = age\n",
    "        self.colour = colour\n",
    "    def __str__(self):\n",
    "        return f\"The dog's name is {self.name} and its age is {self.age}\""
   ]
  },
  {
   "cell_type": "code",
   "execution_count": 48,
   "id": "34ba12b3",
   "metadata": {
    "ExecuteTime": {
     "end_time": "2022-10-17T19:20:24.695166Z",
     "start_time": "2022-10-17T19:20:24.682155Z"
    }
   },
   "outputs": [],
   "source": [
    "lexie = Dog(\"Lexie\", 2, \"White\")"
   ]
  },
  {
   "cell_type": "code",
   "execution_count": 49,
   "id": "f6f54737",
   "metadata": {
    "ExecuteTime": {
     "end_time": "2022-10-17T19:20:25.098189Z",
     "start_time": "2022-10-17T19:20:25.083175Z"
    }
   },
   "outputs": [
    {
     "name": "stdout",
     "output_type": "stream",
     "text": [
      "The dog's name is Lexie and its age is 2\n"
     ]
    }
   ],
   "source": [
    "print(lexie)"
   ]
  },
  {
   "cell_type": "code",
   "execution_count": 50,
   "id": "80e6694c",
   "metadata": {
    "ExecuteTime": {
     "end_time": "2022-10-17T19:21:10.898589Z",
     "start_time": "2022-10-17T19:21:10.889581Z"
    }
   },
   "outputs": [],
   "source": [
    "buddy = Dog(\"Buddy\", 9, \"Brown\")"
   ]
  },
  {
   "cell_type": "code",
   "execution_count": 51,
   "id": "d6deb2c6",
   "metadata": {
    "ExecuteTime": {
     "end_time": "2022-10-17T19:21:14.433588Z",
     "start_time": "2022-10-17T19:21:14.425580Z"
    }
   },
   "outputs": [
    {
     "name": "stdout",
     "output_type": "stream",
     "text": [
      "The dog's name is Buddy and its age is 9\n"
     ]
    }
   ],
   "source": [
    "print(buddy)"
   ]
  },
  {
   "cell_type": "code",
   "execution_count": 52,
   "id": "d3e58a9f",
   "metadata": {
    "ExecuteTime": {
     "end_time": "2022-10-17T19:21:47.898587Z",
     "start_time": "2022-10-17T19:21:47.881572Z"
    }
   },
   "outputs": [
    {
     "data": {
      "text/plain": [
       "__main__.Dog"
      ]
     },
     "execution_count": 52,
     "metadata": {},
     "output_type": "execute_result"
    }
   ],
   "source": [
    "type(lexie)"
   ]
  },
  {
   "cell_type": "code",
   "execution_count": 54,
   "id": "d2129b13",
   "metadata": {
    "ExecuteTime": {
     "end_time": "2022-10-17T19:22:39.723900Z",
     "start_time": "2022-10-17T19:22:39.705885Z"
    }
   },
   "outputs": [
    {
     "data": {
      "text/plain": [
       "str"
      ]
     },
     "execution_count": 54,
     "metadata": {},
     "output_type": "execute_result"
    }
   ],
   "source": [
    "type(\"Hi\")"
   ]
  },
  {
   "cell_type": "markdown",
   "id": "b7284988",
   "metadata": {},
   "source": [
    "# Instantiation\n",
    "When you make an object from a class, that's called instantiating the object\n",
    "\n",
    "The object is said to be an instance of the class\n",
    "\n",
    "So lexie is an instance of the Dog class"
   ]
  },
  {
   "cell_type": "code",
   "execution_count": 55,
   "id": "69773ff2",
   "metadata": {
    "ExecuteTime": {
     "end_time": "2022-10-17T19:25:47.416528Z",
     "start_time": "2022-10-17T19:25:47.402516Z"
    }
   },
   "outputs": [],
   "source": [
    "lexie = Dog(\"Lexie\", 2, \"White\")"
   ]
  },
  {
   "cell_type": "markdown",
   "id": "a2374bd3",
   "metadata": {},
   "source": [
    "# Methods\n",
    "Methods are functions that are attached to objects"
   ]
  },
  {
   "cell_type": "code",
   "execution_count": 66,
   "id": "9c949ce4",
   "metadata": {
    "ExecuteTime": {
     "end_time": "2022-10-17T19:30:08.780469Z",
     "start_time": "2022-10-17T19:30:08.763454Z"
    }
   },
   "outputs": [],
   "source": [
    "class Dog:\n",
    "    species = \"Canine\"\n",
    "    def bark(self):\n",
    "        print(\"Woof woof\")\n",
    "    #Constructor\n",
    "    def __init__(self, firstname, age, colour):\n",
    "        self.name = firstname\n",
    "        self.age = age\n",
    "        self.colour = colour\n",
    "    def __str__(self):\n",
    "        return f\"The dog's name is {self.name} and its age is {self.age}\"\n",
    "    def growl(self):\n",
    "        print(\"Grrrr\")\n",
    "    def collor(self):\n",
    "        print(f\"This dog's name is {self.name}\")"
   ]
  },
  {
   "cell_type": "code",
   "execution_count": 67,
   "id": "e951f3d8",
   "metadata": {
    "ExecuteTime": {
     "end_time": "2022-10-17T19:30:09.291389Z",
     "start_time": "2022-10-17T19:30:09.275376Z"
    }
   },
   "outputs": [],
   "source": [
    "lexie = Dog(\"Lexie\", 2, \"White\")"
   ]
  },
  {
   "cell_type": "code",
   "execution_count": 68,
   "id": "3b74b632",
   "metadata": {
    "ExecuteTime": {
     "end_time": "2022-10-17T19:30:09.853547Z",
     "start_time": "2022-10-17T19:30:09.836532Z"
    }
   },
   "outputs": [
    {
     "name": "stdout",
     "output_type": "stream",
     "text": [
      "Woof woof\n"
     ]
    }
   ],
   "source": [
    "lexie.bark()"
   ]
  },
  {
   "cell_type": "code",
   "execution_count": 69,
   "id": "d8cc2daf",
   "metadata": {
    "ExecuteTime": {
     "end_time": "2022-10-17T19:30:10.258399Z",
     "start_time": "2022-10-17T19:30:10.253395Z"
    }
   },
   "outputs": [
    {
     "name": "stdout",
     "output_type": "stream",
     "text": [
      "Grrrr\n"
     ]
    }
   ],
   "source": [
    "lexie.growl()"
   ]
  },
  {
   "cell_type": "code",
   "execution_count": 71,
   "id": "c2714182",
   "metadata": {
    "ExecuteTime": {
     "end_time": "2022-10-17T19:30:24.864223Z",
     "start_time": "2022-10-17T19:30:24.860219Z"
    }
   },
   "outputs": [
    {
     "name": "stdout",
     "output_type": "stream",
     "text": [
      "This dog's name is Lexie\n"
     ]
    }
   ],
   "source": [
    "lexie.collor()"
   ]
  },
  {
   "cell_type": "code",
   "execution_count": 72,
   "id": "1b8177f8",
   "metadata": {
    "ExecuteTime": {
     "end_time": "2022-10-17T19:30:39.705880Z",
     "start_time": "2022-10-17T19:30:39.691868Z"
    }
   },
   "outputs": [],
   "source": [
    "buddy = Dog(\"Buddy\", 9, \"Brown\")"
   ]
  },
  {
   "cell_type": "code",
   "execution_count": 73,
   "id": "d5d30317",
   "metadata": {
    "ExecuteTime": {
     "end_time": "2022-10-17T19:30:45.088732Z",
     "start_time": "2022-10-17T19:30:45.082779Z"
    }
   },
   "outputs": [
    {
     "name": "stdout",
     "output_type": "stream",
     "text": [
      "This dog's name is Buddy\n"
     ]
    }
   ],
   "source": [
    "buddy.collor()"
   ]
  },
  {
   "cell_type": "code",
   "execution_count": 74,
   "id": "88904583",
   "metadata": {
    "ExecuteTime": {
     "end_time": "2022-10-17T19:31:35.671708Z",
     "start_time": "2022-10-17T19:31:35.659697Z"
    }
   },
   "outputs": [],
   "source": [
    "#df.max()"
   ]
  },
  {
   "cell_type": "code",
   "execution_count": 75,
   "id": "7dfb7842",
   "metadata": {
    "ExecuteTime": {
     "end_time": "2022-10-17T19:33:52.723180Z",
     "start_time": "2022-10-17T19:33:52.713171Z"
    }
   },
   "outputs": [],
   "source": [
    "#df[\"column\"].max()"
   ]
  },
  {
   "cell_type": "code",
   "execution_count": 76,
   "id": "e3db1a3c",
   "metadata": {
    "ExecuteTime": {
     "end_time": "2022-10-17T19:34:37.133391Z",
     "start_time": "2022-10-17T19:34:37.129387Z"
    }
   },
   "outputs": [],
   "source": [
    "dogList = [lexie, buddy]"
   ]
  },
  {
   "cell_type": "code",
   "execution_count": 79,
   "id": "c21a9031",
   "metadata": {
    "ExecuteTime": {
     "end_time": "2022-10-17T19:35:00.825676Z",
     "start_time": "2022-10-17T19:35:00.809663Z"
    }
   },
   "outputs": [
    {
     "data": {
      "text/plain": [
       "2"
      ]
     },
     "execution_count": 79,
     "metadata": {},
     "output_type": "execute_result"
    }
   ],
   "source": [
    "dogList[0].age"
   ]
  },
  {
   "cell_type": "code",
   "execution_count": 80,
   "id": "b48c701e",
   "metadata": {
    "ExecuteTime": {
     "end_time": "2022-10-17T19:36:34.376373Z",
     "start_time": "2022-10-17T19:36:34.361359Z"
    }
   },
   "outputs": [],
   "source": [
    "oldestDogName = \"1\"\n",
    "oldestDogAge = 1\n",
    "for dog in dogList:\n",
    "    if dog.age > oldestDogAge:\n",
    "        oldestDogName = dog.name\n",
    "        oldestDogAge = dog.age"
   ]
  },
  {
   "cell_type": "code",
   "execution_count": 81,
   "id": "5f20e5a6",
   "metadata": {
    "ExecuteTime": {
     "end_time": "2022-10-17T19:36:39.193218Z",
     "start_time": "2022-10-17T19:36:39.177204Z"
    }
   },
   "outputs": [
    {
     "data": {
      "text/plain": [
       "'Buddy'"
      ]
     },
     "execution_count": 81,
     "metadata": {},
     "output_type": "execute_result"
    }
   ],
   "source": [
    "oldestDogName"
   ]
  },
  {
   "cell_type": "code",
   "execution_count": 82,
   "id": "bb0c93d0",
   "metadata": {
    "ExecuteTime": {
     "end_time": "2022-10-17T19:36:42.181205Z",
     "start_time": "2022-10-17T19:36:42.169194Z"
    }
   },
   "outputs": [
    {
     "data": {
      "text/plain": [
       "9"
      ]
     },
     "execution_count": 82,
     "metadata": {},
     "output_type": "execute_result"
    }
   ],
   "source": [
    "oldestDogAge"
   ]
  },
  {
   "cell_type": "markdown",
   "id": "fae5a9d2",
   "metadata": {},
   "source": [
    "## Break until 20:50"
   ]
  },
  {
   "cell_type": "markdown",
   "id": "4298d192",
   "metadata": {},
   "source": [
    "# Practice\n",
    "Make a cat class\n",
    "\n",
    "Have the class species be feline\n",
    "\n",
    "Have the cat object initialise with a name and an age"
   ]
  },
  {
   "cell_type": "code",
   "execution_count": null,
   "id": "adcc0425",
   "metadata": {},
   "outputs": [],
   "source": [
    "class Dog:\n",
    "    species = \"Canine\"\n",
    "    def bark(self):\n",
    "        print(\"Woof woof\")\n",
    "    #Constructor\n",
    "    def __init__(self, firstname, age, colour):\n",
    "        self.name = firstname\n",
    "        self.age = age\n",
    "        self.colour = colour\n",
    "    def __str__(self):\n",
    "        return f\"The dog's name is {self.name} and its age is {self.age}\"\n",
    "    def growl(self):\n",
    "        print(\"Grrrr\")\n",
    "    def collor(self):\n",
    "        print(f\"This dog's name is {self.name}\")"
   ]
  },
  {
   "cell_type": "code",
   "execution_count": 85,
   "id": "aa4bc074",
   "metadata": {
    "ExecuteTime": {
     "end_time": "2022-10-17T19:58:54.416935Z",
     "start_time": "2022-10-17T19:58:54.410930Z"
    }
   },
   "outputs": [],
   "source": [
    "class Cat:\n",
    "    species = \"Feline\"\n",
    "    def __init__(self, name, age):\n",
    "        self.name = name\n",
    "        self.age = age"
   ]
  },
  {
   "cell_type": "code",
   "execution_count": 86,
   "id": "8717900a",
   "metadata": {
    "ExecuteTime": {
     "end_time": "2022-10-17T19:59:09.636786Z",
     "start_time": "2022-10-17T19:59:09.625455Z"
    }
   },
   "outputs": [],
   "source": [
    "felix = Cat(\"Felix\", 4)"
   ]
  },
  {
   "cell_type": "code",
   "execution_count": 87,
   "id": "2ad5401a",
   "metadata": {
    "ExecuteTime": {
     "end_time": "2022-10-17T19:59:15.078045Z",
     "start_time": "2022-10-17T19:59:15.066034Z"
    }
   },
   "outputs": [
    {
     "data": {
      "text/plain": [
       "4"
      ]
     },
     "execution_count": 87,
     "metadata": {},
     "output_type": "execute_result"
    }
   ],
   "source": [
    "felix.age"
   ]
  },
  {
   "cell_type": "code",
   "execution_count": 89,
   "id": "8cc812d1",
   "metadata": {
    "ExecuteTime": {
     "end_time": "2022-10-17T20:01:17.970812Z",
     "start_time": "2022-10-17T20:01:17.961803Z"
    }
   },
   "outputs": [],
   "source": [
    "catList = []\n",
    "for num in range(10):\n",
    "    catList.append(Cat(f\"Cat {num}\", num))\n",
    "    #catList.append()"
   ]
  },
  {
   "cell_type": "code",
   "execution_count": 90,
   "id": "220f0ca0",
   "metadata": {
    "ExecuteTime": {
     "end_time": "2022-10-17T20:01:25.491723Z",
     "start_time": "2022-10-17T20:01:25.481714Z"
    }
   },
   "outputs": [
    {
     "data": {
      "text/plain": [
       "'Cat 0'"
      ]
     },
     "execution_count": 90,
     "metadata": {},
     "output_type": "execute_result"
    }
   ],
   "source": [
    "catList[0].name"
   ]
  },
  {
   "cell_type": "code",
   "execution_count": 121,
   "id": "3aa7f50d",
   "metadata": {
    "ExecuteTime": {
     "end_time": "2022-10-17T20:37:25.578501Z",
     "start_time": "2022-10-17T20:37:25.563488Z"
    }
   },
   "outputs": [
    {
     "data": {
      "text/plain": [
       "0"
      ]
     },
     "execution_count": 121,
     "metadata": {},
     "output_type": "execute_result"
    }
   ],
   "source": [
    "catList[0].age"
   ]
  },
  {
   "cell_type": "code",
   "execution_count": null,
   "id": "93b7f745",
   "metadata": {},
   "outputs": [],
   "source": [
    "class Cat:\n",
    "    species = \"Feline\"\n",
    "    def __init__(self, name, age):\n",
    "        self.name = name\n",
    "        self.age = age"
   ]
  },
  {
   "cell_type": "markdown",
   "id": "3a1ae823",
   "metadata": {},
   "source": [
    "## Add some functionality\n",
    "Add a method to have the cat meow\n",
    "\n",
    "Add a method to have the cat print double its age\n",
    "\n",
    "Make a cat object and call these methods\n",
    "\n",
    "Bonus!!\n",
    "\n",
    "Make a method that allows a user to change the cat's name to a user input"
   ]
  },
  {
   "cell_type": "code",
   "execution_count": 91,
   "id": "35510676",
   "metadata": {
    "ExecuteTime": {
     "end_time": "2022-10-17T20:06:36.502761Z",
     "start_time": "2022-10-17T20:06:36.490751Z"
    },
    "code_folding": [
     0
    ]
   },
   "outputs": [],
   "source": [
    "class Dog:\n",
    "    species = \"Canine\"\n",
    "    def bark(self):\n",
    "        print(\"Woof woof\")\n",
    "    #Constructor\n",
    "    def __init__(self, firstname, age, colour):\n",
    "        self.name = firstname\n",
    "        self.age = age\n",
    "        self.colour = colour\n",
    "    def __str__(self):\n",
    "        return f\"The dog's name is {self.name} and its age is {self.age}\"\n",
    "    def growl(self):\n",
    "        print(\"Grrrr\")\n",
    "    def collor(self):\n",
    "        print(f\"This dog's name is {self.name}\")"
   ]
  },
  {
   "cell_type": "code",
   "execution_count": 92,
   "id": "18872678",
   "metadata": {
    "ExecuteTime": {
     "end_time": "2022-10-17T20:13:18.600844Z",
     "start_time": "2022-10-17T20:13:18.586832Z"
    }
   },
   "outputs": [],
   "source": [
    "class Cat:\n",
    "    species = \"Feline\"\n",
    "    def meow(self):\n",
    "        print(\"MEOW!!\")\n",
    "    def smartyCat(self):\n",
    "        print(self.age*2)\n",
    "    def __init__(self, name, age):\n",
    "        self.name = name\n",
    "        self.age = age"
   ]
  },
  {
   "cell_type": "code",
   "execution_count": 93,
   "id": "4b8929c7",
   "metadata": {
    "ExecuteTime": {
     "end_time": "2022-10-17T20:13:38.903840Z",
     "start_time": "2022-10-17T20:13:38.890828Z"
    }
   },
   "outputs": [],
   "source": [
    "garfield = Cat(\"Garfield\", 7)"
   ]
  },
  {
   "cell_type": "code",
   "execution_count": 94,
   "id": "3081fbf6",
   "metadata": {
    "ExecuteTime": {
     "end_time": "2022-10-17T20:13:46.648838Z",
     "start_time": "2022-10-17T20:13:46.634826Z"
    }
   },
   "outputs": [
    {
     "name": "stdout",
     "output_type": "stream",
     "text": [
      "MEOW!!\n"
     ]
    }
   ],
   "source": [
    "garfield.meow()"
   ]
  },
  {
   "cell_type": "code",
   "execution_count": 95,
   "id": "bca6608a",
   "metadata": {
    "ExecuteTime": {
     "end_time": "2022-10-17T20:13:56.346256Z",
     "start_time": "2022-10-17T20:13:56.331243Z"
    }
   },
   "outputs": [
    {
     "name": "stdout",
     "output_type": "stream",
     "text": [
      "14\n"
     ]
    }
   ],
   "source": [
    "garfield.smartyCat()"
   ]
  },
  {
   "cell_type": "code",
   "execution_count": 116,
   "id": "28be2bbd",
   "metadata": {
    "ExecuteTime": {
     "end_time": "2022-10-17T20:25:53.900667Z",
     "start_time": "2022-10-17T20:25:53.885654Z"
    }
   },
   "outputs": [],
   "source": [
    "class Cat:\n",
    "    species = \"Feline\"\n",
    "    def meow(self):\n",
    "        print(\"MEOW!!\")\n",
    "    def nameChange(self):\n",
    "        self.name = input(\"What do you want to change the name to?\\n\")\n",
    "    def __init__(self, name, age):\n",
    "        self.name = name\n",
    "        self.age = age\n",
    "        self.colour = input(\"What is the cat's colour?\")\n",
    "    def smartyCat(self):\n",
    "        print(self.age*2)"
   ]
  },
  {
   "cell_type": "code",
   "execution_count": 108,
   "id": "51da0535",
   "metadata": {
    "ExecuteTime": {
     "end_time": "2022-10-17T20:21:50.013870Z",
     "start_time": "2022-10-17T20:21:45.404137Z"
    }
   },
   "outputs": [
    {
     "name": "stdout",
     "output_type": "stream",
     "text": [
      "What is the cat's colour?Orange\n"
     ]
    }
   ],
   "source": [
    "garfield = Cat(\"Garfeld\", 7)"
   ]
  },
  {
   "cell_type": "code",
   "execution_count": 105,
   "id": "6126aa9c",
   "metadata": {
    "ExecuteTime": {
     "end_time": "2022-10-17T20:20:39.013737Z",
     "start_time": "2022-10-17T20:20:39.004729Z"
    }
   },
   "outputs": [
    {
     "data": {
      "text/plain": [
       "'Garfeld'"
      ]
     },
     "execution_count": 105,
     "metadata": {},
     "output_type": "execute_result"
    }
   ],
   "source": [
    "garfield.name"
   ]
  },
  {
   "cell_type": "code",
   "execution_count": 101,
   "id": "71d2c692",
   "metadata": {
    "ExecuteTime": {
     "end_time": "2022-10-17T20:16:22.864680Z",
     "start_time": "2022-10-17T20:16:17.643847Z"
    }
   },
   "outputs": [
    {
     "name": "stdout",
     "output_type": "stream",
     "text": [
      "What do you want to change the name to?\n",
      "Garfield\n"
     ]
    }
   ],
   "source": [
    "garfield.nameChange()"
   ]
  },
  {
   "cell_type": "code",
   "execution_count": 102,
   "id": "36063aa7",
   "metadata": {
    "ExecuteTime": {
     "end_time": "2022-10-17T20:16:26.379997Z",
     "start_time": "2022-10-17T20:16:26.362981Z"
    }
   },
   "outputs": [
    {
     "data": {
      "text/plain": [
       "'Garfield'"
      ]
     },
     "execution_count": 102,
     "metadata": {},
     "output_type": "execute_result"
    }
   ],
   "source": [
    "garfield.name"
   ]
  },
  {
   "cell_type": "code",
   "execution_count": 106,
   "id": "74eb5e3a",
   "metadata": {
    "ExecuteTime": {
     "end_time": "2022-10-17T20:20:53.734734Z",
     "start_time": "2022-10-17T20:20:53.723725Z"
    }
   },
   "outputs": [
    {
     "name": "stdout",
     "output_type": "stream",
     "text": [
      "14\n"
     ]
    }
   ],
   "source": [
    "garfield.smartyCat()"
   ]
  },
  {
   "cell_type": "code",
   "execution_count": 109,
   "id": "6780b4f5",
   "metadata": {
    "ExecuteTime": {
     "end_time": "2022-10-17T20:21:55.345846Z",
     "start_time": "2022-10-17T20:21:55.339840Z"
    }
   },
   "outputs": [
    {
     "data": {
      "text/plain": [
       "'Orange'"
      ]
     },
     "execution_count": 109,
     "metadata": {},
     "output_type": "execute_result"
    }
   ],
   "source": [
    "garfield.colour"
   ]
  },
  {
   "cell_type": "code",
   "execution_count": 110,
   "id": "87db3922",
   "metadata": {
    "ExecuteTime": {
     "end_time": "2022-10-17T20:23:15.281696Z",
     "start_time": "2022-10-17T20:23:15.276691Z"
    }
   },
   "outputs": [],
   "source": [
    "garfield.famous = True"
   ]
  },
  {
   "cell_type": "code",
   "execution_count": 111,
   "id": "c6f53a1e",
   "metadata": {
    "ExecuteTime": {
     "end_time": "2022-10-17T20:23:19.487738Z",
     "start_time": "2022-10-17T20:23:19.483736Z"
    }
   },
   "outputs": [
    {
     "data": {
      "text/plain": [
       "True"
      ]
     },
     "execution_count": 111,
     "metadata": {},
     "output_type": "execute_result"
    }
   ],
   "source": [
    "garfield.famous"
   ]
  },
  {
   "cell_type": "code",
   "execution_count": 119,
   "id": "c4aff9eb",
   "metadata": {
    "ExecuteTime": {
     "end_time": "2022-10-17T20:26:10.244106Z",
     "start_time": "2022-10-17T20:26:10.236099Z"
    }
   },
   "outputs": [],
   "source": [
    "Cat.famous = False"
   ]
  },
  {
   "cell_type": "code",
   "execution_count": 117,
   "id": "63268a58",
   "metadata": {
    "ExecuteTime": {
     "end_time": "2022-10-17T20:26:01.447203Z",
     "start_time": "2022-10-17T20:25:58.156845Z"
    }
   },
   "outputs": [
    {
     "name": "stdout",
     "output_type": "stream",
     "text": [
      "What is the cat's colour?Brown\n"
     ]
    }
   ],
   "source": [
    "felix = Cat(\"Felix\", 9)"
   ]
  },
  {
   "cell_type": "code",
   "execution_count": 120,
   "id": "e2fb63bf",
   "metadata": {
    "ExecuteTime": {
     "end_time": "2022-10-17T20:26:12.112786Z",
     "start_time": "2022-10-17T20:26:12.109783Z"
    }
   },
   "outputs": [
    {
     "data": {
      "text/plain": [
       "False"
      ]
     },
     "execution_count": 120,
     "metadata": {},
     "output_type": "execute_result"
    }
   ],
   "source": [
    "felix.famous"
   ]
  },
  {
   "cell_type": "markdown",
   "id": "ffc0b00c",
   "metadata": {},
   "source": [
    "# Object Oriented Programming"
   ]
  },
  {
   "cell_type": "markdown",
   "id": "fe135e01",
   "metadata": {},
   "source": [
    "## Practice\n",
    "Make a car class\n",
    "\n",
    "Make\n",
    "\n",
    "Model\n",
    "\n",
    "Number of wheels\n",
    "\n",
    "Colour\n",
    "\n",
    "When we print an object, we get a message telling us the make, colour and number of wheels\n",
    "\n",
    "Drive method\n",
    "    Take a direction as an input (ie an argument or a user input)\n",
    "    print The [make] is driving [direction]\n",
    "    \n",
    "Make a few car objects \n",
    "\n",
    "Practice driving!"
   ]
  },
  {
   "cell_type": "code",
   "execution_count": null,
   "id": "08d2326c",
   "metadata": {},
   "outputs": [],
   "source": []
  }
 ],
 "metadata": {
  "kernelspec": {
   "display_name": "Python 3 (ipykernel)",
   "language": "python",
   "name": "python3"
  },
  "language_info": {
   "codemirror_mode": {
    "name": "ipython",
    "version": 3
   },
   "file_extension": ".py",
   "mimetype": "text/x-python",
   "name": "python",
   "nbconvert_exporter": "python",
   "pygments_lexer": "ipython3",
   "version": "3.9.12"
  }
 },
 "nbformat": 4,
 "nbformat_minor": 5
}
