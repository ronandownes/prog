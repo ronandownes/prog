{
 "cells": [
  {
   "cell_type": "code",
   "execution_count": null,
   "id": "7a4bc217",
   "metadata": {
    "ExecuteTime": {
     "end_time": "2022-11-21T19:26:04.694902Z",
     "start_time": "2022-11-21T19:26:04.682912Z"
    }
   },
   "outputs": [],
   "source": [
    "#!pip install mysql-connector-python"
   ]
  },
  {
   "cell_type": "code",
   "execution_count": null,
   "id": "bcfd043b",
   "metadata": {
    "ExecuteTime": {
     "end_time": "2022-11-21T19:26:04.754901Z",
     "start_time": "2022-11-21T19:26:04.694902Z"
    }
   },
   "outputs": [],
   "source": [
    "import mysql.connector"
   ]
  },
  {
   "cell_type": "code",
   "execution_count": null,
   "id": "6f2251e3",
   "metadata": {
    "ExecuteTime": {
     "end_time": "2022-11-21T19:26:07.717851Z",
     "start_time": "2022-11-21T19:26:04.754901Z"
    },
    "scrolled": true
   },
   "outputs": [],
   "source": [
    "# Connect to MySQL server\n",
    "db = mysql.connector.connect(\n",
    "    host=\"localhost\",\n",
    "    user=\"pda2022\",\n",
    "    password=\"pda2022\"\n",
    ")\n",
    "print(db)"
   ]
  },
  {
   "cell_type": "code",
   "execution_count": null,
   "id": "f48a1ed1",
   "metadata": {
    "ExecuteTime": {
     "end_time": "2022-11-21T19:26:07.717851Z",
     "start_time": "2022-11-21T19:26:07.717851Z"
    }
   },
   "outputs": [],
   "source": [
    "conn = db.cursor()\n",
    "\n",
    "# The .execute method lets us run MySQL commands\n",
    "# CREATE SCHEMA testDB would do the exact same thing\n",
    "# conn.execute(\"CREATE DATABASE students\")\n",
    "\n",
    "# IF NOT EXISTS means we can rerun this and not get an error if the database already exists\n",
    "conn.execute(\"CREATE DATABASE IF NOT EXISTS students;\")"
   ]
  },
  {
   "cell_type": "code",
   "execution_count": null,
   "id": "c239f78f",
   "metadata": {
    "ExecuteTime": {
     "end_time": "2022-11-21T19:26:07.717851Z",
     "start_time": "2022-11-21T19:26:07.717851Z"
    }
   },
   "outputs": [],
   "source": [
    "conn.execute(\"SHOW DATABASES;\")\n",
    "\n",
    "# Any results from our querys will be stored in the conn object\n",
    "for result in conn:\n",
    "    print(result)"
   ]
  },
  {
   "cell_type": "code",
   "execution_count": null,
   "id": "2e05dcec",
   "metadata": {
    "ExecuteTime": {
     "end_time": "2022-11-21T19:26:07.717851Z",
     "start_time": "2022-11-21T19:26:07.717851Z"
    }
   },
   "outputs": [],
   "source": [
    "# We can tell the MySQL server which database to use\n",
    "conn.execute(\"USE students;\")"
   ]
  },
  {
   "cell_type": "code",
   "execution_count": null,
   "id": "216b5080",
   "metadata": {
    "ExecuteTime": {
     "end_time": "2022-11-21T19:26:07.717851Z",
     "start_time": "2022-11-21T19:26:07.717851Z"
    }
   },
   "outputs": [],
   "source": [
    "# Or we can connect directly to the database\n",
    "db = mysql.connector.connect(\n",
    "    host=\"localhost\",\n",
    "    user=\"pda2022\",\n",
    "    password=\"pda2022\",\n",
    "    database = \"students\"\n",
    ")\n",
    "print(db)\n",
    "conn = db.cursor()"
   ]
  },
  {
   "cell_type": "code",
   "execution_count": null,
   "id": "0cc6fbf5",
   "metadata": {
    "ExecuteTime": {
     "end_time": "2022-11-21T19:26:07.717851Z",
     "start_time": "2022-11-21T19:26:07.717851Z"
    }
   },
   "outputs": [],
   "source": [
    "conn.execute(\"CREATE TABLE IF NOT EXISTS test (id INT);\")"
   ]
  },
  {
   "cell_type": "code",
   "execution_count": null,
   "id": "66314dd8",
   "metadata": {
    "ExecuteTime": {
     "end_time": "2022-11-21T19:26:07.717851Z",
     "start_time": "2022-11-21T19:26:07.717851Z"
    }
   },
   "outputs": [],
   "source": [
    "conn.execute(\"CREATE TABLE IF NOT EXISTS students (name VARCHAR(255), age INT, studentNum INT PRIMARY KEY);\")"
   ]
  },
  {
   "cell_type": "code",
   "execution_count": null,
   "id": "235c1825",
   "metadata": {
    "ExecuteTime": {
     "end_time": "2022-11-21T19:26:07.717851Z",
     "start_time": "2022-11-21T19:26:07.717851Z"
    }
   },
   "outputs": [],
   "source": [
    "conn.execute(\"SHOW TABLES;\")\n",
    "for result in conn:\n",
    "    print(result)"
   ]
  },
  {
   "cell_type": "code",
   "execution_count": null,
   "id": "68dc35fc",
   "metadata": {
    "ExecuteTime": {
     "end_time": "2022-11-21T19:26:07.727854Z",
     "start_time": "2022-11-21T19:26:07.727854Z"
    }
   },
   "outputs": [],
   "source": [
    "# Will give an error - why?\n",
    "#conn.execute(\"INSERT INTO students (name, age, studentNum) VALUES (Joe, 45, 123);\")"
   ]
  },
  {
   "cell_type": "code",
   "execution_count": null,
   "id": "1e292c24",
   "metadata": {
    "ExecuteTime": {
     "end_time": "2022-11-21T19:26:07.727854Z",
     "start_time": "2022-11-21T19:26:07.727854Z"
    },
    "scrolled": true
   },
   "outputs": [],
   "source": [
    "conn.execute(\"INSERT INTO students (name, age, studentNum) VALUES ('Joe', 45, 123);\")"
   ]
  },
  {
   "cell_type": "code",
   "execution_count": null,
   "id": "c93951b2",
   "metadata": {
    "ExecuteTime": {
     "end_time": "2022-11-21T19:26:07.727854Z",
     "start_time": "2022-11-21T19:26:07.727854Z"
    }
   },
   "outputs": [],
   "source": [
    "conn.execute(\"SELECT * FROM students\")\n",
    "for result in conn:\n",
    "    print(result)"
   ]
  },
  {
   "cell_type": "code",
   "execution_count": null,
   "id": "ea5a75f9",
   "metadata": {
    "ExecuteTime": {
     "end_time": "2022-11-21T19:26:07.727854Z",
     "start_time": "2022-11-21T19:26:07.727854Z"
    }
   },
   "outputs": [],
   "source": [
    "db = mysql.connector.connect(\n",
    "    host=\"localhost\",\n",
    "    user=\"pda2022\",\n",
    "    password=\"pda2022\",\n",
    "    database = \"students\"\n",
    ")\n",
    "print(db)\n",
    "conn = db.cursor()"
   ]
  },
  {
   "cell_type": "code",
   "execution_count": null,
   "id": "5f1ab5e5",
   "metadata": {
    "ExecuteTime": {
     "end_time": "2022-11-21T19:26:07.727854Z",
     "start_time": "2022-11-21T19:26:07.727854Z"
    }
   },
   "outputs": [],
   "source": [
    "# No result??\n",
    "conn.execute(\"SELECT * FROM students;\")\n",
    "for result in conn:\n",
    "    print(result)"
   ]
  },
  {
   "cell_type": "code",
   "execution_count": null,
   "id": "e10b2550",
   "metadata": {
    "ExecuteTime": {
     "end_time": "2022-11-21T19:26:07.727854Z",
     "start_time": "2022-11-21T19:26:07.727854Z"
    }
   },
   "outputs": [],
   "source": [
    "conn.execute(\"INSERT INTO students (name, age, studentNum) VALUES ('Joe', 45, 124);\")"
   ]
  },
  {
   "cell_type": "code",
   "execution_count": null,
   "id": "a84be7e6",
   "metadata": {
    "ExecuteTime": {
     "end_time": "2022-11-21T19:26:07.727854Z",
     "start_time": "2022-11-21T19:26:07.727854Z"
    }
   },
   "outputs": [],
   "source": [
    "# Need to commit the changes to save them\n",
    "db.commit()"
   ]
  },
  {
   "cell_type": "code",
   "execution_count": null,
   "id": "3ae758d1",
   "metadata": {
    "ExecuteTime": {
     "end_time": "2022-11-21T19:26:07.727854Z",
     "start_time": "2022-11-21T19:26:07.727854Z"
    }
   },
   "outputs": [],
   "source": [
    "conn.execute(\"SELECT * FROM students;\")\n",
    "for result in conn:\n",
    "    print(result)"
   ]
  },
  {
   "cell_type": "code",
   "execution_count": null,
   "id": "31597552",
   "metadata": {
    "ExecuteTime": {
     "end_time": "2022-11-21T19:26:07.727854Z",
     "start_time": "2022-11-21T19:26:07.727854Z"
    }
   },
   "outputs": [],
   "source": [
    "db = mysql.connector.connect(\n",
    "    host=\"localhost\",\n",
    "    user=\"pda2022\",\n",
    "    password=\"pda2022\",\n",
    "    database = \"students\"\n",
    ")\n",
    "print(db)\n",
    "conn = db.cursor()"
   ]
  },
  {
   "cell_type": "code",
   "execution_count": null,
   "id": "ba60f656",
   "metadata": {
    "ExecuteTime": {
     "end_time": "2022-11-21T19:26:07.727854Z",
     "start_time": "2022-11-21T19:26:07.727854Z"
    }
   },
   "outputs": [],
   "source": [
    "conn.execute(\"SELECT * FROM students;\")\n",
    "for result in conn:\n",
    "    print(result)"
   ]
  },
  {
   "cell_type": "code",
   "execution_count": null,
   "id": "05013c53",
   "metadata": {
    "ExecuteTime": {
     "end_time": "2022-11-21T19:26:07.737854Z",
     "start_time": "2022-11-21T19:26:07.737854Z"
    }
   },
   "outputs": [],
   "source": [
    "conn.execute(\"ALTER TABLE students ADD COLUMN programme VARCHAR(255);\")"
   ]
  },
  {
   "cell_type": "code",
   "execution_count": null,
   "id": "192162a6",
   "metadata": {
    "ExecuteTime": {
     "end_time": "2022-11-21T19:26:07.737854Z",
     "start_time": "2022-11-21T19:26:07.737854Z"
    }
   },
   "outputs": [],
   "source": [
    "conn.execute(\"UPDATE students SET programme = 'MSc Data Analytics' WHERE name = 'Joe';\")"
   ]
  },
  {
   "cell_type": "code",
   "execution_count": null,
   "id": "84838fe9",
   "metadata": {
    "ExecuteTime": {
     "end_time": "2022-11-21T19:26:07.737854Z",
     "start_time": "2022-11-21T19:26:07.737854Z"
    }
   },
   "outputs": [],
   "source": [
    "conn.execute(\"SELECT * FROM students\")\n",
    "for result in conn:\n",
    "    print(result)"
   ]
  },
  {
   "cell_type": "code",
   "execution_count": null,
   "id": "762577c3",
   "metadata": {
    "ExecuteTime": {
     "end_time": "2022-11-21T19:26:07.737854Z",
     "start_time": "2022-11-21T19:26:07.737854Z"
    }
   },
   "outputs": [],
   "source": [
    "sql = \"INSERT INTO students (name, age, studentNum, programme) VALUES (%s, %s, %s, %s)\"\n",
    "vals = [\n",
    "    ('Alice', 63, 125, 'MSc Data Analytics'),\n",
    "    ('Bob', 47, 126, 'BSc Computing and IT'),\n",
    "]\n",
    "\n",
    "conn.executemany(sql, vals)\n",
    "db.commit()"
   ]
  },
  {
   "cell_type": "code",
   "execution_count": null,
   "id": "babceb3c",
   "metadata": {
    "ExecuteTime": {
     "end_time": "2022-11-21T19:26:07.737854Z",
     "start_time": "2022-11-21T19:26:07.737854Z"
    }
   },
   "outputs": [],
   "source": [
    "conn.execute(\"SELECT * FROM students\")\n",
    "for result in conn:\n",
    "    print(result)"
   ]
  },
  {
   "cell_type": "code",
   "execution_count": null,
   "id": "0719a26b",
   "metadata": {
    "ExecuteTime": {
     "end_time": "2022-11-21T19:26:07.737854Z",
     "start_time": "2022-11-21T19:26:07.737854Z"
    }
   },
   "outputs": [],
   "source": [
    "conn.execute(\"SELECT * FROM students WHERE programme = 'MSc Data Analytics'\")\n",
    "for result in conn:\n",
    "    print(result)"
   ]
  },
  {
   "cell_type": "markdown",
   "id": "51e22d07",
   "metadata": {},
   "source": [
    "# Exercise 1\n",
    "\n",
    "Create a new table called programmes\n",
    "\n",
    "The columns are the programme name (primary key), as well as up to 6 modules\n",
    "\n",
    "Insert the MSc Data Analytics with the modules for this semester"
   ]
  },
  {
   "cell_type": "markdown",
   "id": "ecc4bb6b",
   "metadata": {},
   "source": [
    "# Exercise 2\n",
    "\n",
    "Read one of the company .csv files\n",
    "\n",
    "Store it in a table in a new database"
   ]
  },
  {
   "cell_type": "code",
   "execution_count": null,
   "id": "705df9dc",
   "metadata": {},
   "outputs": [],
   "source": []
  },
  {
   "cell_type": "code",
   "execution_count": null,
   "id": "cd015bbb",
   "metadata": {},
   "outputs": [],
   "source": []
  },
  {
   "cell_type": "code",
   "execution_count": null,
   "id": "01c71d1a",
   "metadata": {},
   "outputs": [],
   "source": []
  },
  {
   "cell_type": "code",
   "execution_count": null,
   "id": "13ab2e48",
   "metadata": {},
   "outputs": [],
   "source": []
  },
  {
   "cell_type": "code",
   "execution_count": null,
   "id": "6c2e9887",
   "metadata": {},
   "outputs": [],
   "source": []
  },
  {
   "cell_type": "code",
   "execution_count": null,
   "id": "85c54ba6",
   "metadata": {},
   "outputs": [],
   "source": []
  },
  {
   "cell_type": "code",
   "execution_count": null,
   "id": "b6515cc1",
   "metadata": {
    "ExecuteTime": {
     "end_time": "2022-11-21T19:26:07.737854Z",
     "start_time": "2022-11-21T19:26:07.737854Z"
    }
   },
   "outputs": [],
   "source": [
    "def userInput():\n",
    "    name = input(\"What is your name?\\n\")\n",
    "    age = input(\"What is your age?\\n\")\n",
    "    studentNum = input(\"What is your student number?\\n\")\n",
    "    conn.execute(f\"INSERT INTO students (name, age, studentNum) VALUES ('{name}', {age}, {studentNum})\")"
   ]
  },
  {
   "cell_type": "code",
   "execution_count": null,
   "id": "dfd447c4",
   "metadata": {
    "ExecuteTime": {
     "end_time": "2022-11-21T19:26:07.737854Z",
     "start_time": "2022-11-21T19:26:07.737854Z"
    }
   },
   "outputs": [],
   "source": [
    "# Jack, 30, 130\n",
    "userInput()"
   ]
  },
  {
   "cell_type": "code",
   "execution_count": null,
   "id": "79085e46",
   "metadata": {
    "ExecuteTime": {
     "end_time": "2022-11-21T19:26:07.737854Z",
     "start_time": "2022-11-21T19:26:07.737854Z"
    }
   },
   "outputs": [],
   "source": [
    "# Jill, 30, 129\n",
    "userInput()"
   ]
  },
  {
   "cell_type": "code",
   "execution_count": null,
   "id": "933a86c2",
   "metadata": {
    "ExecuteTime": {
     "end_time": "2022-11-21T19:26:07.747855Z",
     "start_time": "2022-11-21T19:26:07.747855Z"
    }
   },
   "outputs": [],
   "source": [
    "conn.execute(\"SELECT * FROM students\")\n",
    "for result in conn:\n",
    "    print(result)"
   ]
  },
  {
   "cell_type": "code",
   "execution_count": null,
   "id": "5ff01ce4",
   "metadata": {
    "ExecuteTime": {
     "end_time": "2022-11-21T19:26:07.747855Z",
     "start_time": "2022-11-21T19:26:07.747855Z"
    },
    "scrolled": true
   },
   "outputs": [],
   "source": [
    "# SQL injection - will delete the table!!\n",
    "# Randall, 38, 42);DROP TABLE students;--\n",
    "userInput()"
   ]
  },
  {
   "cell_type": "code",
   "execution_count": null,
   "id": "ee90bb5f",
   "metadata": {},
   "outputs": [],
   "source": []
  }
 ],
 "metadata": {
  "kernelspec": {
   "display_name": "Python 3 (ipykernel)",
   "language": "python",
   "name": "python3"
  },
  "language_info": {
   "codemirror_mode": {
    "name": "ipython",
    "version": 3
   },
   "file_extension": ".py",
   "mimetype": "text/x-python",
   "name": "python",
   "nbconvert_exporter": "python",
   "pygments_lexer": "ipython3",
   "version": "3.9.12"
  }
 },
 "nbformat": 4,
 "nbformat_minor": 5
}
