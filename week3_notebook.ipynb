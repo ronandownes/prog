{
 "cells": [
  {
   "cell_type": "markdown",
   "id": "116ac402",
   "metadata": {},
   "source": [
    "## Recap"
   ]
  },
  {
   "cell_type": "code",
   "execution_count": 1,
   "id": "61ee7b20",
   "metadata": {
    "ExecuteTime": {
     "end_time": "2022-10-03T19:13:57.722667Z",
     "start_time": "2022-10-03T19:13:57.711657Z"
    }
   },
   "outputs": [],
   "source": [
    "x = 1"
   ]
  },
  {
   "cell_type": "code",
   "execution_count": 2,
   "id": "d068a9cb",
   "metadata": {
    "ExecuteTime": {
     "end_time": "2022-10-03T19:14:01.285005Z",
     "start_time": "2022-10-03T19:14:01.279000Z"
    }
   },
   "outputs": [
    {
     "name": "stdout",
     "output_type": "stream",
     "text": [
      "1\n"
     ]
    }
   ],
   "source": [
    "print(x)"
   ]
  },
  {
   "cell_type": "code",
   "execution_count": 3,
   "id": "d235b6a7",
   "metadata": {
    "ExecuteTime": {
     "end_time": "2022-10-03T19:14:04.593697Z",
     "start_time": "2022-10-03T19:14:04.574680Z"
    }
   },
   "outputs": [
    {
     "data": {
      "text/plain": [
       "3"
      ]
     },
     "execution_count": 3,
     "metadata": {},
     "output_type": "execute_result"
    }
   ],
   "source": [
    "x + 2"
   ]
  },
  {
   "cell_type": "code",
   "execution_count": 4,
   "id": "e92b95fd",
   "metadata": {
    "ExecuteTime": {
     "end_time": "2022-10-03T19:14:11.738470Z",
     "start_time": "2022-10-03T19:14:11.726460Z"
    }
   },
   "outputs": [],
   "source": [
    "x = 10"
   ]
  },
  {
   "cell_type": "code",
   "execution_count": 5,
   "id": "7a3679d5",
   "metadata": {
    "ExecuteTime": {
     "end_time": "2022-10-03T19:14:13.092735Z",
     "start_time": "2022-10-03T19:14:13.085729Z"
    }
   },
   "outputs": [
    {
     "data": {
      "text/plain": [
       "10"
      ]
     },
     "execution_count": 5,
     "metadata": {},
     "output_type": "execute_result"
    }
   ],
   "source": [
    "x"
   ]
  },
  {
   "cell_type": "code",
   "execution_count": 6,
   "id": "ec1a7b83",
   "metadata": {
    "ExecuteTime": {
     "end_time": "2022-10-03T19:14:27.972223Z",
     "start_time": "2022-10-03T19:14:27.966218Z"
    }
   },
   "outputs": [],
   "source": [
    "x = x * 5"
   ]
  },
  {
   "cell_type": "code",
   "execution_count": 7,
   "id": "c105a2db",
   "metadata": {
    "ExecuteTime": {
     "end_time": "2022-10-03T19:14:29.584362Z",
     "start_time": "2022-10-03T19:14:29.567345Z"
    }
   },
   "outputs": [
    {
     "data": {
      "text/plain": [
       "50"
      ]
     },
     "execution_count": 7,
     "metadata": {},
     "output_type": "execute_result"
    }
   ],
   "source": [
    "x"
   ]
  },
  {
   "cell_type": "code",
   "execution_count": 8,
   "id": "4f9b06d2",
   "metadata": {
    "ExecuteTime": {
     "end_time": "2022-10-03T19:15:01.341298Z",
     "start_time": "2022-10-03T19:15:00.943368Z"
    }
   },
   "outputs": [
    {
     "ename": "NameError",
     "evalue": "name 'y' is not defined",
     "output_type": "error",
     "traceback": [
      "\u001b[1;31m---------------------------------------------------------------------------\u001b[0m",
      "\u001b[1;31mNameError\u001b[0m                                 Traceback (most recent call last)",
      "Input \u001b[1;32mIn [8]\u001b[0m, in \u001b[0;36m<cell line: 1>\u001b[1;34m()\u001b[0m\n\u001b[1;32m----> 1\u001b[0m y \u001b[38;5;241m=\u001b[39m \u001b[43my\u001b[49m \u001b[38;5;241m*\u001b[39m\u001b[38;5;241m2\u001b[39m\n",
      "\u001b[1;31mNameError\u001b[0m: name 'y' is not defined"
     ]
    }
   ],
   "source": [
    "y = y *2"
   ]
  },
  {
   "cell_type": "markdown",
   "id": "d28627b7",
   "metadata": {},
   "source": [
    "## Lists (Arrays)"
   ]
  },
  {
   "cell_type": "code",
   "execution_count": 9,
   "id": "454931db",
   "metadata": {
    "ExecuteTime": {
     "end_time": "2022-10-03T19:16:35.318690Z",
     "start_time": "2022-10-03T19:16:35.310684Z"
    }
   },
   "outputs": [
    {
     "name": "stdout",
     "output_type": "stream",
     "text": [
      "[1, 5, 8, 13]\n"
     ]
    }
   ],
   "source": [
    "list1 = [1, 5, 8, 13]\n",
    "print(list1)"
   ]
  },
  {
   "cell_type": "code",
   "execution_count": 12,
   "id": "93ab6b4c",
   "metadata": {
    "ExecuteTime": {
     "end_time": "2022-10-03T19:18:50.332653Z",
     "start_time": "2022-10-03T19:18:50.319641Z"
    }
   },
   "outputs": [],
   "source": [
    "list2 = [\"Python is fun!\", 5, 6.25, True, list1]"
   ]
  },
  {
   "cell_type": "code",
   "execution_count": 17,
   "id": "15bebddd",
   "metadata": {
    "ExecuteTime": {
     "end_time": "2022-10-03T19:21:24.854599Z",
     "start_time": "2022-10-03T19:21:24.846591Z"
    }
   },
   "outputs": [
    {
     "data": {
      "text/plain": [
       "['Python is fun!', 5, 6.25, True, [1, 5, 8, 13]]"
      ]
     },
     "execution_count": 17,
     "metadata": {},
     "output_type": "execute_result"
    }
   ],
   "source": [
    "list2"
   ]
  },
  {
   "cell_type": "code",
   "execution_count": 16,
   "id": "68d29621",
   "metadata": {
    "ExecuteTime": {
     "end_time": "2022-10-03T19:21:11.467383Z",
     "start_time": "2022-10-03T19:21:11.455373Z"
    }
   },
   "outputs": [
    {
     "data": {
      "text/plain": [
       "4"
      ]
     },
     "execution_count": 16,
     "metadata": {},
     "output_type": "execute_result"
    }
   ],
   "source": [
    "list2\n",
    "2+2"
   ]
  },
  {
   "cell_type": "code",
   "execution_count": 14,
   "id": "12ad1367",
   "metadata": {
    "ExecuteTime": {
     "end_time": "2022-10-03T19:20:01.343633Z",
     "start_time": "2022-10-03T19:20:01.326618Z"
    }
   },
   "outputs": [
    {
     "data": {
      "text/plain": [
       "[2, 5, 7, 8]"
      ]
     },
     "execution_count": 14,
     "metadata": {},
     "output_type": "execute_result"
    }
   ],
   "source": [
    "[2, 5, 7, 8]"
   ]
  },
  {
   "cell_type": "code",
   "execution_count": 15,
   "id": "a1648708",
   "metadata": {
    "ExecuteTime": {
     "end_time": "2022-10-03T19:20:29.426499Z",
     "start_time": "2022-10-03T19:20:29.422496Z"
    }
   },
   "outputs": [],
   "source": [
    "list3 = [3, 5, [\"Sam\"]]"
   ]
  },
  {
   "cell_type": "code",
   "execution_count": 18,
   "id": "fcd95900",
   "metadata": {
    "ExecuteTime": {
     "end_time": "2022-10-03T19:21:43.276901Z",
     "start_time": "2022-10-03T19:21:43.262889Z"
    }
   },
   "outputs": [
    {
     "data": {
      "text/plain": [
       "[3, 5, ['Sam']]"
      ]
     },
     "execution_count": 18,
     "metadata": {},
     "output_type": "execute_result"
    }
   ],
   "source": [
    "list3"
   ]
  },
  {
   "cell_type": "code",
   "execution_count": 21,
   "id": "2b5ff504",
   "metadata": {
    "ExecuteTime": {
     "end_time": "2022-10-03T19:22:13.730486Z",
     "start_time": "2022-10-03T19:22:13.726482Z"
    }
   },
   "outputs": [],
   "source": [
    "list3 = [\"Hello\", \"World\", 17, 55]"
   ]
  },
  {
   "cell_type": "code",
   "execution_count": 22,
   "id": "8024b284",
   "metadata": {
    "ExecuteTime": {
     "end_time": "2022-10-03T19:22:14.550348Z",
     "start_time": "2022-10-03T19:22:14.543342Z"
    }
   },
   "outputs": [
    {
     "data": {
      "text/plain": [
       "['Hello', 'World', 17, 55]"
      ]
     },
     "execution_count": 22,
     "metadata": {},
     "output_type": "execute_result"
    }
   ],
   "source": [
    "list3"
   ]
  },
  {
   "cell_type": "code",
   "execution_count": 23,
   "id": "73d505b8",
   "metadata": {
    "ExecuteTime": {
     "end_time": "2022-10-03T19:23:20.045097Z",
     "start_time": "2022-10-03T19:23:20.031085Z"
    }
   },
   "outputs": [
    {
     "data": {
      "text/plain": [
       "'World'"
      ]
     },
     "execution_count": 23,
     "metadata": {},
     "output_type": "execute_result"
    }
   ],
   "source": [
    "list3[1]"
   ]
  },
  {
   "cell_type": "markdown",
   "id": "14725179",
   "metadata": {},
   "source": [
    "Python counts from 0!!"
   ]
  },
  {
   "cell_type": "code",
   "execution_count": 24,
   "id": "91696368",
   "metadata": {
    "ExecuteTime": {
     "end_time": "2022-10-03T19:23:37.956939Z",
     "start_time": "2022-10-03T19:23:37.950934Z"
    }
   },
   "outputs": [
    {
     "data": {
      "text/plain": [
       "'Hello'"
      ]
     },
     "execution_count": 24,
     "metadata": {},
     "output_type": "execute_result"
    }
   ],
   "source": [
    "list3[0]"
   ]
  },
  {
   "cell_type": "code",
   "execution_count": 25,
   "id": "71154878",
   "metadata": {
    "ExecuteTime": {
     "end_time": "2022-10-03T19:23:49.122294Z",
     "start_time": "2022-10-03T19:23:49.119292Z"
    }
   },
   "outputs": [],
   "source": [
    "list4 = []"
   ]
  },
  {
   "cell_type": "code",
   "execution_count": 26,
   "id": "8fa969ff",
   "metadata": {
    "ExecuteTime": {
     "end_time": "2022-10-03T19:23:52.512001Z",
     "start_time": "2022-10-03T19:23:52.494986Z"
    }
   },
   "outputs": [
    {
     "data": {
      "text/plain": [
       "[]"
      ]
     },
     "execution_count": 26,
     "metadata": {},
     "output_type": "execute_result"
    }
   ],
   "source": [
    "list4"
   ]
  },
  {
   "cell_type": "code",
   "execution_count": 27,
   "id": "39b70103",
   "metadata": {
    "ExecuteTime": {
     "end_time": "2022-10-03T19:24:09.801711Z",
     "start_time": "2022-10-03T19:24:09.790701Z"
    }
   },
   "outputs": [],
   "source": [
    "if list4:\n",
    "    print(\"Hi\")"
   ]
  },
  {
   "cell_type": "code",
   "execution_count": 28,
   "id": "11e2d316",
   "metadata": {
    "ExecuteTime": {
     "end_time": "2022-10-03T19:24:28.791157Z",
     "start_time": "2022-10-03T19:24:28.784151Z"
    }
   },
   "outputs": [
    {
     "name": "stdout",
     "output_type": "stream",
     "text": [
      "Hi\n"
     ]
    }
   ],
   "source": [
    "if list3:\n",
    "    print(\"Hi\")"
   ]
  },
  {
   "cell_type": "code",
   "execution_count": 29,
   "id": "cc67143f",
   "metadata": {
    "ExecuteTime": {
     "end_time": "2022-10-03T19:24:58.339527Z",
     "start_time": "2022-10-03T19:24:58.335523Z"
    }
   },
   "outputs": [
    {
     "data": {
      "text/plain": [
       "'Hello'"
      ]
     },
     "execution_count": 29,
     "metadata": {},
     "output_type": "execute_result"
    }
   ],
   "source": [
    "list3[0]"
   ]
  },
  {
   "cell_type": "code",
   "execution_count": 30,
   "id": "b4ec170a",
   "metadata": {
    "ExecuteTime": {
     "end_time": "2022-10-03T19:25:07.232536Z",
     "start_time": "2022-10-03T19:25:07.215521Z"
    }
   },
   "outputs": [],
   "source": [
    "list3[0] = \"Goodbye\""
   ]
  },
  {
   "cell_type": "code",
   "execution_count": 31,
   "id": "18a302cb",
   "metadata": {
    "ExecuteTime": {
     "end_time": "2022-10-03T19:25:09.561172Z",
     "start_time": "2022-10-03T19:25:09.552164Z"
    }
   },
   "outputs": [
    {
     "data": {
      "text/plain": [
       "['Goodbye', 'World', 17, 55]"
      ]
     },
     "execution_count": 31,
     "metadata": {},
     "output_type": "execute_result"
    }
   ],
   "source": [
    "list3"
   ]
  },
  {
   "cell_type": "code",
   "execution_count": 32,
   "id": "93c55091",
   "metadata": {
    "ExecuteTime": {
     "end_time": "2022-10-03T19:25:59.134518Z",
     "start_time": "2022-10-03T19:25:59.119505Z"
    }
   },
   "outputs": [
    {
     "ename": "IndexError",
     "evalue": "list index out of range",
     "output_type": "error",
     "traceback": [
      "\u001b[1;31m---------------------------------------------------------------------------\u001b[0m",
      "\u001b[1;31mIndexError\u001b[0m                                Traceback (most recent call last)",
      "Input \u001b[1;32mIn [32]\u001b[0m, in \u001b[0;36m<cell line: 1>\u001b[1;34m()\u001b[0m\n\u001b[1;32m----> 1\u001b[0m \u001b[43mlist3\u001b[49m\u001b[43m[\u001b[49m\u001b[38;5;241;43m4\u001b[39;49m\u001b[43m]\u001b[49m\n",
      "\u001b[1;31mIndexError\u001b[0m: list index out of range"
     ]
    }
   ],
   "source": [
    "list3[4]"
   ]
  },
  {
   "cell_type": "code",
   "execution_count": 33,
   "id": "b4edfd26",
   "metadata": {
    "ExecuteTime": {
     "end_time": "2022-10-03T19:27:09.922289Z",
     "start_time": "2022-10-03T19:27:09.904273Z"
    }
   },
   "outputs": [
    {
     "data": {
      "text/plain": [
       "[1, 5, 8, 13]"
      ]
     },
     "execution_count": 33,
     "metadata": {},
     "output_type": "execute_result"
    }
   ],
   "source": [
    "list1"
   ]
  },
  {
   "cell_type": "code",
   "execution_count": 34,
   "id": "90bdb12e",
   "metadata": {
    "ExecuteTime": {
     "end_time": "2022-10-03T19:27:12.369180Z",
     "start_time": "2022-10-03T19:27:12.360171Z"
    }
   },
   "outputs": [
    {
     "data": {
      "text/plain": [
       "['Python is fun!', 5, 6.25, True, [1, 5, 8, 13]]"
      ]
     },
     "execution_count": 34,
     "metadata": {},
     "output_type": "execute_result"
    }
   ],
   "source": [
    "list2"
   ]
  },
  {
   "cell_type": "code",
   "execution_count": 35,
   "id": "b49eedea",
   "metadata": {
    "ExecuteTime": {
     "end_time": "2022-10-03T19:27:18.038720Z",
     "start_time": "2022-10-03T19:27:18.031713Z"
    }
   },
   "outputs": [],
   "source": [
    "list1 = 4"
   ]
  },
  {
   "cell_type": "code",
   "execution_count": 36,
   "id": "d07df89e",
   "metadata": {
    "ExecuteTime": {
     "end_time": "2022-10-03T19:27:20.042809Z",
     "start_time": "2022-10-03T19:27:20.036804Z"
    }
   },
   "outputs": [
    {
     "data": {
      "text/plain": [
       "4"
      ]
     },
     "execution_count": 36,
     "metadata": {},
     "output_type": "execute_result"
    }
   ],
   "source": [
    "list1"
   ]
  },
  {
   "cell_type": "code",
   "execution_count": 37,
   "id": "bd3f591a",
   "metadata": {
    "ExecuteTime": {
     "end_time": "2022-10-03T19:27:22.271492Z",
     "start_time": "2022-10-03T19:27:22.256478Z"
    }
   },
   "outputs": [
    {
     "data": {
      "text/plain": [
       "['Python is fun!', 5, 6.25, True, [1, 5, 8, 13]]"
      ]
     },
     "execution_count": 37,
     "metadata": {},
     "output_type": "execute_result"
    }
   ],
   "source": [
    "list2"
   ]
  },
  {
   "cell_type": "code",
   "execution_count": 38,
   "id": "306483cd",
   "metadata": {
    "ExecuteTime": {
     "end_time": "2022-10-03T19:28:20.469353Z",
     "start_time": "2022-10-03T19:28:20.463348Z"
    }
   },
   "outputs": [],
   "source": [
    "x = 1"
   ]
  },
  {
   "cell_type": "code",
   "execution_count": 39,
   "id": "adf1dc74",
   "metadata": {
    "ExecuteTime": {
     "end_time": "2022-10-03T19:28:23.083163Z",
     "start_time": "2022-10-03T19:28:23.072154Z"
    }
   },
   "outputs": [],
   "source": [
    "y = x"
   ]
  },
  {
   "cell_type": "code",
   "execution_count": 40,
   "id": "08c89599",
   "metadata": {
    "ExecuteTime": {
     "end_time": "2022-10-03T19:28:25.043923Z",
     "start_time": "2022-10-03T19:28:25.039919Z"
    }
   },
   "outputs": [],
   "source": [
    "x = 4"
   ]
  },
  {
   "cell_type": "code",
   "execution_count": 41,
   "id": "14187b4b",
   "metadata": {
    "ExecuteTime": {
     "end_time": "2022-10-03T19:28:26.015806Z",
     "start_time": "2022-10-03T19:28:25.999792Z"
    }
   },
   "outputs": [
    {
     "data": {
      "text/plain": [
       "1"
      ]
     },
     "execution_count": 41,
     "metadata": {},
     "output_type": "execute_result"
    }
   ],
   "source": [
    "y"
   ]
  },
  {
   "cell_type": "code",
   "execution_count": 42,
   "id": "2836a8c4",
   "metadata": {
    "ExecuteTime": {
     "end_time": "2022-10-03T19:29:52.882364Z",
     "start_time": "2022-10-03T19:29:52.863347Z"
    }
   },
   "outputs": [
    {
     "data": {
      "text/plain": [
       "[1, 5, 8, 13]"
      ]
     },
     "execution_count": 42,
     "metadata": {},
     "output_type": "execute_result"
    }
   ],
   "source": [
    "list2[4]"
   ]
  },
  {
   "cell_type": "code",
   "execution_count": 44,
   "id": "bd4bc233",
   "metadata": {
    "ExecuteTime": {
     "end_time": "2022-10-03T19:30:12.243215Z",
     "start_time": "2022-10-03T19:30:12.225197Z"
    }
   },
   "outputs": [
    {
     "data": {
      "text/plain": [
       "13"
      ]
     },
     "execution_count": 44,
     "metadata": {},
     "output_type": "execute_result"
    }
   ],
   "source": [
    "list2[4][3]"
   ]
  },
  {
   "cell_type": "code",
   "execution_count": 45,
   "id": "5b2cdd6f",
   "metadata": {
    "ExecuteTime": {
     "end_time": "2022-10-03T19:30:28.159936Z",
     "start_time": "2022-10-03T19:30:28.144923Z"
    }
   },
   "outputs": [],
   "source": [
    "list2[4][3] = 42"
   ]
  },
  {
   "cell_type": "code",
   "execution_count": 47,
   "id": "c7957b21",
   "metadata": {
    "ExecuteTime": {
     "end_time": "2022-10-03T19:31:17.924216Z",
     "start_time": "2022-10-03T19:31:17.920212Z"
    }
   },
   "outputs": [
    {
     "name": "stdout",
     "output_type": "stream",
     "text": [
      "['Python is fun!', 5, 6.25, True, [1, 5, 8, 42]]\n"
     ]
    }
   ],
   "source": [
    "print(list2)"
   ]
  },
  {
   "cell_type": "code",
   "execution_count": 49,
   "id": "0462247f",
   "metadata": {
    "ExecuteTime": {
     "end_time": "2022-10-03T19:32:49.802401Z",
     "start_time": "2022-10-03T19:32:49.793393Z"
    }
   },
   "outputs": [],
   "source": [
    "list2[4].append(\"Magic\")"
   ]
  },
  {
   "cell_type": "code",
   "execution_count": 50,
   "id": "4b4591fe",
   "metadata": {
    "ExecuteTime": {
     "end_time": "2022-10-03T19:33:02.562275Z",
     "start_time": "2022-10-03T19:33:02.544259Z"
    }
   },
   "outputs": [
    {
     "data": {
      "text/plain": [
       "['Python is fun!', 5, 6.25, True, [1, 5, 8, 42, 'Magic']]"
      ]
     },
     "execution_count": 50,
     "metadata": {},
     "output_type": "execute_result"
    }
   ],
   "source": [
    "list2"
   ]
  },
  {
   "cell_type": "code",
   "execution_count": 51,
   "id": "6512f954",
   "metadata": {
    "ExecuteTime": {
     "end_time": "2022-10-03T19:33:42.021362Z",
     "start_time": "2022-10-03T19:33:42.016357Z"
    }
   },
   "outputs": [],
   "source": [
    "list2.append(\"Cool append\")"
   ]
  },
  {
   "cell_type": "code",
   "execution_count": 52,
   "id": "ae26339a",
   "metadata": {
    "ExecuteTime": {
     "end_time": "2022-10-03T19:33:44.004360Z",
     "start_time": "2022-10-03T19:33:44.000356Z"
    }
   },
   "outputs": [
    {
     "data": {
      "text/plain": [
       "['Python is fun!', 5, 6.25, True, [1, 5, 8, 42, 'Magic'], 'Cool append']"
      ]
     },
     "execution_count": 52,
     "metadata": {},
     "output_type": "execute_result"
    }
   ],
   "source": [
    "list2"
   ]
  },
  {
   "cell_type": "code",
   "execution_count": 53,
   "id": "2795945f",
   "metadata": {
    "ExecuteTime": {
     "end_time": "2022-10-03T19:34:08.787729Z",
     "start_time": "2022-10-03T19:34:08.784726Z"
    }
   },
   "outputs": [],
   "source": [
    "del list2[0]"
   ]
  },
  {
   "cell_type": "code",
   "execution_count": 54,
   "id": "4f3c0b6b",
   "metadata": {
    "ExecuteTime": {
     "end_time": "2022-10-03T19:34:11.625356Z",
     "start_time": "2022-10-03T19:34:11.616348Z"
    }
   },
   "outputs": [
    {
     "data": {
      "text/plain": [
       "[5, 6.25, True, [1, 5, 8, 42, 'Magic'], 'Cool append']"
      ]
     },
     "execution_count": 54,
     "metadata": {},
     "output_type": "execute_result"
    }
   ],
   "source": [
    "list2"
   ]
  },
  {
   "cell_type": "code",
   "execution_count": 55,
   "id": "4f99a807",
   "metadata": {
    "ExecuteTime": {
     "end_time": "2022-10-03T19:34:40.089628Z",
     "start_time": "2022-10-03T19:34:40.080621Z"
    }
   },
   "outputs": [
    {
     "name": "stdout",
     "output_type": "stream",
     "text": [
      "[5, 6.25, True, [1, 5, 8, 42, 'Magic']]\n"
     ]
    }
   ],
   "source": [
    "del list2[4]\n",
    "print(list2)"
   ]
  },
  {
   "cell_type": "code",
   "execution_count": 57,
   "id": "1a66e710",
   "metadata": {
    "ExecuteTime": {
     "end_time": "2022-10-03T19:35:14.402253Z",
     "start_time": "2022-10-03T19:35:14.384237Z"
    }
   },
   "outputs": [
    {
     "data": {
      "text/plain": [
       "5"
      ]
     },
     "execution_count": 57,
     "metadata": {},
     "output_type": "execute_result"
    }
   ],
   "source": [
    "list2.pop(0)"
   ]
  },
  {
   "cell_type": "code",
   "execution_count": 58,
   "id": "6f41c073",
   "metadata": {
    "ExecuteTime": {
     "end_time": "2022-10-03T19:35:28.747114Z",
     "start_time": "2022-10-03T19:35:28.737106Z"
    }
   },
   "outputs": [
    {
     "data": {
      "text/plain": [
       "[6.25, True, [1, 5, 8, 42, 'Magic']]"
      ]
     },
     "execution_count": 58,
     "metadata": {},
     "output_type": "execute_result"
    }
   ],
   "source": [
    "list2"
   ]
  },
  {
   "cell_type": "code",
   "execution_count": 59,
   "id": "1b0b6716",
   "metadata": {
    "ExecuteTime": {
     "end_time": "2022-10-03T19:35:53.151435Z",
     "start_time": "2022-10-03T19:35:53.136422Z"
    }
   },
   "outputs": [],
   "source": [
    "deleted_value = list2.pop(1)"
   ]
  },
  {
   "cell_type": "code",
   "execution_count": 60,
   "id": "091a01d7",
   "metadata": {
    "ExecuteTime": {
     "end_time": "2022-10-03T19:35:59.474798Z",
     "start_time": "2022-10-03T19:35:59.456781Z"
    }
   },
   "outputs": [
    {
     "data": {
      "text/plain": [
       "True"
      ]
     },
     "execution_count": 60,
     "metadata": {},
     "output_type": "execute_result"
    }
   ],
   "source": [
    "deleted_value"
   ]
  },
  {
   "cell_type": "code",
   "execution_count": 61,
   "id": "0810a9a4",
   "metadata": {
    "ExecuteTime": {
     "end_time": "2022-10-03T19:36:04.203231Z",
     "start_time": "2022-10-03T19:36:04.193223Z"
    }
   },
   "outputs": [
    {
     "data": {
      "text/plain": [
       "[6.25, [1, 5, 8, 42, 'Magic']]"
      ]
     },
     "execution_count": 61,
     "metadata": {},
     "output_type": "execute_result"
    }
   ],
   "source": [
    "list2"
   ]
  },
  {
   "cell_type": "code",
   "execution_count": 82,
   "id": "8c992118",
   "metadata": {
    "ExecuteTime": {
     "end_time": "2022-10-03T19:48:20.817000Z",
     "start_time": "2022-10-03T19:48:20.801986Z"
    }
   },
   "outputs": [],
   "source": [
    "list5 = [4, 2, 8, 9, 11, 6]"
   ]
  },
  {
   "cell_type": "code",
   "execution_count": 83,
   "id": "4b164fe7",
   "metadata": {
    "ExecuteTime": {
     "end_time": "2022-10-03T19:48:21.250424Z",
     "start_time": "2022-10-03T19:48:21.235411Z"
    }
   },
   "outputs": [],
   "source": [
    "list5.sort()"
   ]
  },
  {
   "cell_type": "code",
   "execution_count": 84,
   "id": "9236b021",
   "metadata": {
    "ExecuteTime": {
     "end_time": "2022-10-03T19:48:21.811642Z",
     "start_time": "2022-10-03T19:48:21.793625Z"
    }
   },
   "outputs": [
    {
     "data": {
      "text/plain": [
       "[2, 4, 6, 8, 9, 11]"
      ]
     },
     "execution_count": 84,
     "metadata": {},
     "output_type": "execute_result"
    }
   ],
   "source": [
    "list5"
   ]
  },
  {
   "cell_type": "code",
   "execution_count": 65,
   "id": "c225a9a6",
   "metadata": {
    "ExecuteTime": {
     "end_time": "2022-10-03T19:39:52.281397Z",
     "start_time": "2022-10-03T19:39:52.273390Z"
    }
   },
   "outputs": [
    {
     "data": {
      "text/plain": [
       "['Goodbye', 'World', 17, 55]"
      ]
     },
     "execution_count": 65,
     "metadata": {},
     "output_type": "execute_result"
    }
   ],
   "source": [
    "list3"
   ]
  },
  {
   "cell_type": "code",
   "execution_count": 66,
   "id": "8ec2288f",
   "metadata": {
    "ExecuteTime": {
     "end_time": "2022-10-03T19:40:01.129733Z",
     "start_time": "2022-10-03T19:40:01.106712Z"
    }
   },
   "outputs": [
    {
     "ename": "TypeError",
     "evalue": "'<' not supported between instances of 'int' and 'str'",
     "output_type": "error",
     "traceback": [
      "\u001b[1;31m---------------------------------------------------------------------------\u001b[0m",
      "\u001b[1;31mTypeError\u001b[0m                                 Traceback (most recent call last)",
      "Input \u001b[1;32mIn [66]\u001b[0m, in \u001b[0;36m<cell line: 1>\u001b[1;34m()\u001b[0m\n\u001b[1;32m----> 1\u001b[0m \u001b[43mlist3\u001b[49m\u001b[38;5;241;43m.\u001b[39;49m\u001b[43msort\u001b[49m\u001b[43m(\u001b[49m\u001b[43m)\u001b[49m\n",
      "\u001b[1;31mTypeError\u001b[0m: '<' not supported between instances of 'int' and 'str'"
     ]
    }
   ],
   "source": [
    "list3.sort()"
   ]
  },
  {
   "cell_type": "code",
   "execution_count": 74,
   "id": "186aa1a6",
   "metadata": {
    "ExecuteTime": {
     "end_time": "2022-10-03T19:42:22.508987Z",
     "start_time": "2022-10-03T19:42:22.497976Z"
    }
   },
   "outputs": [
    {
     "name": "stdout",
     "output_type": "stream",
     "text": [
      "[11, 9, 8, 6, 4, 2]\n"
     ]
    }
   ],
   "source": [
    "list5.sort(reverse=True)\n",
    "print(list5)"
   ]
  },
  {
   "cell_type": "code",
   "execution_count": 69,
   "id": "c9667a6c",
   "metadata": {
    "ExecuteTime": {
     "end_time": "2022-10-03T19:40:56.570022Z",
     "start_time": "2022-10-03T19:40:56.562013Z"
    }
   },
   "outputs": [
    {
     "data": {
      "text/plain": [
       "4"
      ]
     },
     "execution_count": 69,
     "metadata": {},
     "output_type": "execute_result"
    }
   ],
   "source": [
    "list1"
   ]
  },
  {
   "cell_type": "code",
   "execution_count": 70,
   "id": "949bd08d",
   "metadata": {
    "ExecuteTime": {
     "end_time": "2022-10-03T19:41:08.068192Z",
     "start_time": "2022-10-03T19:41:08.065189Z"
    }
   },
   "outputs": [
    {
     "name": "stdout",
     "output_type": "stream",
     "text": [
      "[6.25, [1, 5, 8, 42, 'Magic']] ['Goodbye', 'World', 17, 55]\n"
     ]
    }
   ],
   "source": [
    "print(list2, list3)"
   ]
  },
  {
   "cell_type": "code",
   "execution_count": 71,
   "id": "1430db72",
   "metadata": {
    "ExecuteTime": {
     "end_time": "2022-10-03T19:41:26.354043Z",
     "start_time": "2022-10-03T19:41:26.337028Z"
    }
   },
   "outputs": [],
   "source": [
    "list3.extend(list2)"
   ]
  },
  {
   "cell_type": "code",
   "execution_count": 72,
   "id": "a163a7ca",
   "metadata": {
    "ExecuteTime": {
     "end_time": "2022-10-03T19:41:28.783222Z",
     "start_time": "2022-10-03T19:41:28.770210Z"
    }
   },
   "outputs": [
    {
     "data": {
      "text/plain": [
       "['Goodbye', 'World', 17, 55, 6.25, [1, 5, 8, 42, 'Magic']]"
      ]
     },
     "execution_count": 72,
     "metadata": {},
     "output_type": "execute_result"
    }
   ],
   "source": [
    "list3"
   ]
  },
  {
   "cell_type": "code",
   "execution_count": 75,
   "id": "622a0b02",
   "metadata": {
    "ExecuteTime": {
     "end_time": "2022-10-03T19:44:22.065286Z",
     "start_time": "2022-10-03T19:44:22.050272Z"
    }
   },
   "outputs": [
    {
     "data": {
      "text/plain": [
       "['Goodbye', 'World', 17]"
      ]
     },
     "execution_count": 75,
     "metadata": {},
     "output_type": "execute_result"
    }
   ],
   "source": [
    "list3[:3]"
   ]
  },
  {
   "cell_type": "code",
   "execution_count": 76,
   "id": "f99ad423",
   "metadata": {
    "ExecuteTime": {
     "end_time": "2022-10-03T19:44:30.026635Z",
     "start_time": "2022-10-03T19:44:30.017628Z"
    }
   },
   "outputs": [
    {
     "data": {
      "text/plain": [
       "[55, 6.25, [1, 5, 8, 42, 'Magic']]"
      ]
     },
     "execution_count": 76,
     "metadata": {},
     "output_type": "execute_result"
    }
   ],
   "source": [
    "list3[3:]"
   ]
  },
  {
   "cell_type": "markdown",
   "id": "2299ea3d",
   "metadata": {},
   "source": [
    "Sort doesn't return any values (\"Sorts in place\") so there is nothing to assign to the new list6"
   ]
  },
  {
   "cell_type": "code",
   "execution_count": 81,
   "id": "31f8697b",
   "metadata": {
    "ExecuteTime": {
     "end_time": "2022-10-03T19:47:11.100186Z",
     "start_time": "2022-10-03T19:47:11.089177Z"
    }
   },
   "outputs": [],
   "source": [
    "list6 = [4, 6, 2, 8, 3]\n",
    "list6 = list6.sort(reverse = True) "
   ]
  },
  {
   "cell_type": "markdown",
   "id": "3599177c",
   "metadata": {},
   "source": [
    "## Loops\n",
    "### For loops"
   ]
  },
  {
   "cell_type": "code",
   "execution_count": 85,
   "id": "72444447",
   "metadata": {
    "ExecuteTime": {
     "end_time": "2022-10-03T19:56:10.107583Z",
     "start_time": "2022-10-03T19:56:10.098575Z"
    }
   },
   "outputs": [
    {
     "name": "stdout",
     "output_type": "stream",
     "text": [
      "[2, 4, 6, 8, 9, 11]\n"
     ]
    }
   ],
   "source": [
    "print(list5)"
   ]
  },
  {
   "cell_type": "code",
   "execution_count": 86,
   "id": "f696989b",
   "metadata": {
    "ExecuteTime": {
     "end_time": "2022-10-03T19:56:47.894921Z",
     "start_time": "2022-10-03T19:56:47.889917Z"
    }
   },
   "outputs": [
    {
     "name": "stdout",
     "output_type": "stream",
     "text": [
      "4\n",
      "16\n",
      "36\n",
      "64\n",
      "81\n",
      "121\n"
     ]
    }
   ],
   "source": [
    "for number in list5:\n",
    "    print(number**2)\n",
    "    #print(2**2)\n",
    "    #print(4**2)\n",
    "    "
   ]
  },
  {
   "cell_type": "code",
   "execution_count": 87,
   "id": "d78f8806",
   "metadata": {
    "ExecuteTime": {
     "end_time": "2022-10-03T19:58:24.562771Z",
     "start_time": "2022-10-03T19:58:24.546757Z"
    }
   },
   "outputs": [
    {
     "name": "stdout",
     "output_type": "stream",
     "text": [
      "4\n",
      "16\n",
      "36\n",
      "64\n",
      "81\n",
      "121\n"
     ]
    }
   ],
   "source": [
    "for Monday in list5:\n",
    "    print(Monday**2)"
   ]
  },
  {
   "cell_type": "code",
   "execution_count": 88,
   "id": "76c56cc8",
   "metadata": {
    "ExecuteTime": {
     "end_time": "2022-10-03T19:58:58.320667Z",
     "start_time": "2022-10-03T19:58:58.307655Z"
    }
   },
   "outputs": [
    {
     "data": {
      "text/plain": [
       "[6.25, [1, 5, 8, 42, 'Magic']]"
      ]
     },
     "execution_count": 88,
     "metadata": {},
     "output_type": "execute_result"
    }
   ],
   "source": [
    "list2"
   ]
  },
  {
   "cell_type": "code",
   "execution_count": 89,
   "id": "b67ff0dc",
   "metadata": {
    "ExecuteTime": {
     "end_time": "2022-10-03T19:59:12.295875Z",
     "start_time": "2022-10-03T19:59:12.289870Z"
    }
   },
   "outputs": [
    {
     "name": "stdout",
     "output_type": "stream",
     "text": [
      "6.25\n",
      "[1, 5, 8, 42, 'Magic']\n"
     ]
    }
   ],
   "source": [
    "for element in list2:\n",
    "    print(element)\n",
    "    "
   ]
  },
  {
   "cell_type": "code",
   "execution_count": 90,
   "id": "4dcc8012",
   "metadata": {
    "ExecuteTime": {
     "end_time": "2022-10-03T20:00:02.271560Z",
     "start_time": "2022-10-03T20:00:02.258548Z"
    }
   },
   "outputs": [
    {
     "data": {
      "text/plain": [
       "[2, 4, 6, 8, 9, 11]"
      ]
     },
     "execution_count": 90,
     "metadata": {},
     "output_type": "execute_result"
    }
   ],
   "source": [
    "list5"
   ]
  },
  {
   "cell_type": "code",
   "execution_count": 91,
   "id": "e929126a",
   "metadata": {
    "ExecuteTime": {
     "end_time": "2022-10-03T20:00:31.332847Z",
     "start_time": "2022-10-03T20:00:31.329844Z"
    }
   },
   "outputs": [
    {
     "name": "stdout",
     "output_type": "stream",
     "text": [
      "2\n",
      "6\n",
      "12\n",
      "20\n",
      "29\n",
      "40\n"
     ]
    }
   ],
   "source": [
    "total = 0\n",
    "for number in list5:\n",
    "    total = total + number\n",
    "    print(total)"
   ]
  },
  {
   "cell_type": "code",
   "execution_count": 92,
   "id": "1e29e5bf",
   "metadata": {
    "ExecuteTime": {
     "end_time": "2022-10-03T20:01:44.541832Z",
     "start_time": "2022-10-03T20:01:44.530822Z"
    }
   },
   "outputs": [
    {
     "name": "stdout",
     "output_type": "stream",
     "text": [
      "2\n",
      "6\n",
      "12\n",
      "20\n",
      "29\n",
      "40\n"
     ]
    }
   ],
   "source": [
    "total = 0\n",
    "for number in list5:\n",
    "    total += number\n",
    "    print(total)"
   ]
  },
  {
   "cell_type": "code",
   "execution_count": 93,
   "id": "26abf20e",
   "metadata": {
    "ExecuteTime": {
     "end_time": "2022-10-03T20:02:04.773558Z",
     "start_time": "2022-10-03T20:02:04.754541Z"
    }
   },
   "outputs": [
    {
     "data": {
      "text/plain": [
       "6.666666666666667"
      ]
     },
     "execution_count": 93,
     "metadata": {},
     "output_type": "execute_result"
    }
   ],
   "source": [
    "total/len(list5)"
   ]
  },
  {
   "cell_type": "code",
   "execution_count": 94,
   "id": "eb4318f0",
   "metadata": {
    "ExecuteTime": {
     "end_time": "2022-10-03T20:04:06.979800Z",
     "start_time": "2022-10-03T20:04:06.963786Z"
    }
   },
   "outputs": [
    {
     "data": {
      "text/plain": [
       "[2, 4, 6, 8, 9, 11]"
      ]
     },
     "execution_count": 94,
     "metadata": {},
     "output_type": "execute_result"
    }
   ],
   "source": [
    "list5"
   ]
  },
  {
   "cell_type": "code",
   "execution_count": 95,
   "id": "e7ce45a2",
   "metadata": {
    "ExecuteTime": {
     "end_time": "2022-10-03T20:05:17.886873Z",
     "start_time": "2022-10-03T20:05:17.874863Z"
    }
   },
   "outputs": [],
   "source": [
    "numbers = []\n",
    "for number in list5:\n",
    "    if number%3 == 0:\n",
    "        numbers.append(number)"
   ]
  },
  {
   "cell_type": "code",
   "execution_count": 96,
   "id": "25430d86",
   "metadata": {
    "ExecuteTime": {
     "end_time": "2022-10-03T20:05:31.825522Z",
     "start_time": "2022-10-03T20:05:31.811510Z"
    }
   },
   "outputs": [
    {
     "name": "stdout",
     "output_type": "stream",
     "text": [
      "11\n"
     ]
    }
   ],
   "source": [
    "print(number)"
   ]
  },
  {
   "cell_type": "code",
   "execution_count": 97,
   "id": "e2814862",
   "metadata": {
    "ExecuteTime": {
     "end_time": "2022-10-03T20:06:01.106957Z",
     "start_time": "2022-10-03T20:06:01.091945Z"
    }
   },
   "outputs": [
    {
     "name": "stdout",
     "output_type": "stream",
     "text": [
      "[6, 9]\n"
     ]
    }
   ],
   "source": [
    "print(numbers)"
   ]
  },
  {
   "cell_type": "code",
   "execution_count": 100,
   "id": "c74cd191",
   "metadata": {
    "ExecuteTime": {
     "end_time": "2022-10-03T20:07:25.454483Z",
     "start_time": "2022-10-03T20:07:25.445475Z"
    }
   },
   "outputs": [
    {
     "name": "stdout",
     "output_type": "stream",
     "text": [
      "2\n",
      "4\n",
      "8\n",
      "11\n"
     ]
    }
   ],
   "source": [
    "numbers = []\n",
    "for number in list5:\n",
    "    if number%3 == 0:\n",
    "        continue\n",
    "    print(number)"
   ]
  },
  {
   "cell_type": "code",
   "execution_count": 99,
   "id": "e5f11104",
   "metadata": {
    "ExecuteTime": {
     "end_time": "2022-10-03T20:07:11.578514Z",
     "start_time": "2022-10-03T20:07:11.572508Z"
    }
   },
   "outputs": [
    {
     "data": {
      "text/plain": [
       "[2, 4, 6, 8, 9, 11]"
      ]
     },
     "execution_count": 99,
     "metadata": {},
     "output_type": "execute_result"
    }
   ],
   "source": [
    "list5"
   ]
  },
  {
   "cell_type": "code",
   "execution_count": 101,
   "id": "e4a5503c",
   "metadata": {
    "ExecuteTime": {
     "end_time": "2022-10-03T20:08:52.945458Z",
     "start_time": "2022-10-03T20:08:52.932446Z"
    }
   },
   "outputs": [
    {
     "data": {
      "text/plain": [
       "6"
      ]
     },
     "execution_count": 101,
     "metadata": {},
     "output_type": "execute_result"
    }
   ],
   "source": [
    "len(list5)"
   ]
  },
  {
   "cell_type": "code",
   "execution_count": 102,
   "id": "542c9e11",
   "metadata": {
    "ExecuteTime": {
     "end_time": "2022-10-03T20:09:57.786388Z",
     "start_time": "2022-10-03T20:09:57.779382Z"
    }
   },
   "outputs": [
    {
     "data": {
      "text/plain": [
       "range(0, 10)"
      ]
     },
     "execution_count": 102,
     "metadata": {},
     "output_type": "execute_result"
    }
   ],
   "source": [
    "range(10)"
   ]
  },
  {
   "cell_type": "code",
   "execution_count": 103,
   "id": "eae8d20a",
   "metadata": {
    "ExecuteTime": {
     "end_time": "2022-10-03T20:10:13.960315Z",
     "start_time": "2022-10-03T20:10:13.956310Z"
    }
   },
   "outputs": [
    {
     "name": "stdout",
     "output_type": "stream",
     "text": [
      "0\n",
      "1\n",
      "2\n",
      "3\n",
      "4\n",
      "5\n",
      "6\n",
      "7\n",
      "8\n",
      "9\n"
     ]
    }
   ],
   "source": [
    "for num in range(10):\n",
    "    print(num)"
   ]
  },
  {
   "cell_type": "code",
   "execution_count": 104,
   "id": "16058b99",
   "metadata": {
    "ExecuteTime": {
     "end_time": "2022-10-03T20:10:27.986669Z",
     "start_time": "2022-10-03T20:10:27.971656Z"
    }
   },
   "outputs": [
    {
     "data": {
      "text/plain": [
       "[2, 4, 6, 8, 9, 11]"
      ]
     },
     "execution_count": 104,
     "metadata": {},
     "output_type": "execute_result"
    }
   ],
   "source": [
    "list5"
   ]
  },
  {
   "cell_type": "code",
   "execution_count": 105,
   "id": "520c3312",
   "metadata": {
    "ExecuteTime": {
     "end_time": "2022-10-03T20:10:55.873646Z",
     "start_time": "2022-10-03T20:10:55.862636Z"
    }
   },
   "outputs": [
    {
     "name": "stdout",
     "output_type": "stream",
     "text": [
      "2\n",
      "4\n",
      "6\n",
      "8\n",
      "9\n",
      "11\n"
     ]
    }
   ],
   "source": [
    "for num in range(len(list5)):\n",
    "    print(list5[num])"
   ]
  },
  {
   "cell_type": "code",
   "execution_count": 109,
   "id": "2fb8d3ae",
   "metadata": {
    "ExecuteTime": {
     "end_time": "2022-10-03T20:12:26.731625Z",
     "start_time": "2022-10-03T20:12:26.721616Z"
    }
   },
   "outputs": [
    {
     "name": "stdout",
     "output_type": "stream",
     "text": [
      "6\n",
      "8\n",
      "9\n",
      "11\n"
     ]
    }
   ],
   "source": [
    "for num in range(2, len(list5)):\n",
    "    print(list5[num])"
   ]
  },
  {
   "cell_type": "code",
   "execution_count": 108,
   "id": "cdf7d2c3",
   "metadata": {
    "ExecuteTime": {
     "end_time": "2022-10-03T20:12:24.958926Z",
     "start_time": "2022-10-03T20:12:24.944914Z"
    }
   },
   "outputs": [
    {
     "name": "stdout",
     "output_type": "stream",
     "text": [
      "6\n",
      "8\n"
     ]
    }
   ],
   "source": [
    "for num in range(2, len(list5)-2):\n",
    "    print(list5[num])"
   ]
  },
  {
   "cell_type": "code",
   "execution_count": 110,
   "id": "896543f9",
   "metadata": {
    "ExecuteTime": {
     "end_time": "2022-10-03T20:12:54.415733Z",
     "start_time": "2022-10-03T20:12:54.401608Z"
    }
   },
   "outputs": [
    {
     "name": "stdout",
     "output_type": "stream",
     "text": [
      "2\n",
      "6\n",
      "9\n"
     ]
    }
   ],
   "source": [
    "for num in range(0, len(list5), 2):\n",
    "    print(list5[num])"
   ]
  },
  {
   "cell_type": "code",
   "execution_count": 111,
   "id": "f91d1e3a",
   "metadata": {
    "ExecuteTime": {
     "end_time": "2022-10-03T20:12:59.183849Z",
     "start_time": "2022-10-03T20:12:59.169835Z"
    }
   },
   "outputs": [
    {
     "data": {
      "text/plain": [
       "[2, 4, 6, 8, 9, 11]"
      ]
     },
     "execution_count": 111,
     "metadata": {},
     "output_type": "execute_result"
    }
   ],
   "source": [
    "list5"
   ]
  },
  {
   "cell_type": "code",
   "execution_count": 113,
   "id": "5c2207af",
   "metadata": {
    "ExecuteTime": {
     "end_time": "2022-10-03T20:14:40.628465Z",
     "start_time": "2022-10-03T20:14:40.625462Z"
    }
   },
   "outputs": [
    {
     "name": "stdout",
     "output_type": "stream",
     "text": [
      "11\n",
      "8\n",
      "4\n"
     ]
    }
   ],
   "source": [
    "for num in range(len(list5)-1, 0-1 , -2):\n",
    "    print(list5[num])"
   ]
  },
  {
   "cell_type": "code",
   "execution_count": 114,
   "id": "513f736e",
   "metadata": {
    "ExecuteTime": {
     "end_time": "2022-10-03T20:14:56.777034Z",
     "start_time": "2022-10-03T20:14:56.769342Z"
    }
   },
   "outputs": [
    {
     "data": {
      "text/plain": [
       "6"
      ]
     },
     "execution_count": 114,
     "metadata": {},
     "output_type": "execute_result"
    }
   ],
   "source": [
    "len(list5)"
   ]
  },
  {
   "cell_type": "code",
   "execution_count": 115,
   "id": "cfee6484",
   "metadata": {
    "ExecuteTime": {
     "end_time": "2022-10-03T20:18:20.424401Z",
     "start_time": "2022-10-03T20:18:20.418395Z"
    }
   },
   "outputs": [
    {
     "name": "stdout",
     "output_type": "stream",
     "text": [
      "11\n",
      "6\n"
     ]
    }
   ],
   "source": [
    "for num in range(len(list5)-1, 0-1 , -3):\n",
    "    print(list5[num])"
   ]
  },
  {
   "cell_type": "code",
   "execution_count": 116,
   "id": "0b0a73c3",
   "metadata": {
    "ExecuteTime": {
     "end_time": "2022-10-03T20:18:45.050135Z",
     "start_time": "2022-10-03T20:18:45.042129Z"
    }
   },
   "outputs": [],
   "source": [
    "list5.append(1)"
   ]
  },
  {
   "cell_type": "code",
   "execution_count": 117,
   "id": "cf30f446",
   "metadata": {
    "ExecuteTime": {
     "end_time": "2022-10-03T20:18:48.121261Z",
     "start_time": "2022-10-03T20:18:48.114255Z"
    }
   },
   "outputs": [
    {
     "data": {
      "text/plain": [
       "[2, 4, 6, 8, 9, 11, 1]"
      ]
     },
     "execution_count": 117,
     "metadata": {},
     "output_type": "execute_result"
    }
   ],
   "source": [
    "list5"
   ]
  },
  {
   "cell_type": "code",
   "execution_count": 120,
   "id": "61e832ba",
   "metadata": {
    "ExecuteTime": {
     "end_time": "2022-10-03T20:19:12.117000Z",
     "start_time": "2022-10-03T20:19:12.113997Z"
    }
   },
   "outputs": [
    {
     "name": "stdout",
     "output_type": "stream",
     "text": [
      "1\n",
      "9\n",
      "6\n",
      "2\n"
     ]
    }
   ],
   "source": [
    "for num in range(len(list5)-1, 0-1 , -2):\n",
    "    print(list5[num])"
   ]
  },
  {
   "cell_type": "code",
   "execution_count": 121,
   "id": "e8e1963b",
   "metadata": {
    "ExecuteTime": {
     "end_time": "2022-10-03T20:19:16.593696Z",
     "start_time": "2022-10-03T20:19:16.578682Z"
    }
   },
   "outputs": [
    {
     "name": "stdout",
     "output_type": "stream",
     "text": [
      "1\n",
      "9\n",
      "6\n"
     ]
    }
   ],
   "source": [
    "for num in range(len(list5)-1, 0 , -2):\n",
    "    print(list5[num])"
   ]
  },
  {
   "cell_type": "markdown",
   "id": "3d8acf53",
   "metadata": {},
   "source": [
    "### While Loops"
   ]
  },
  {
   "cell_type": "code",
   "execution_count": 122,
   "id": "6acdca19",
   "metadata": {
    "ExecuteTime": {
     "end_time": "2022-10-03T20:21:18.487380Z",
     "start_time": "2022-10-03T20:21:18.482375Z"
    }
   },
   "outputs": [
    {
     "name": "stdout",
     "output_type": "stream",
     "text": [
      "0\n",
      "1\n",
      "2\n",
      "3\n",
      "4\n",
      "5\n",
      "6\n",
      "7\n",
      "8\n",
      "9\n"
     ]
    }
   ],
   "source": [
    "n = 0\n",
    "while n < 10:\n",
    "    print(n)\n",
    "    n += 1"
   ]
  },
  {
   "cell_type": "markdown",
   "id": "f983653e",
   "metadata": {},
   "source": [
    "# WARNING DO NOT RUN"
   ]
  },
  {
   "cell_type": "code",
   "execution_count": null,
   "id": "6e2edf70",
   "metadata": {
    "ExecuteTime": {
     "end_time": "2022-10-03T20:21:57.677031Z",
     "start_time": "2022-10-03T20:21:44.450190Z"
    }
   },
   "outputs": [],
   "source": [
    "n = 0\n",
    "while n < 10:\n",
    "    print(n)"
   ]
  },
  {
   "cell_type": "code",
   "execution_count": 124,
   "id": "49af0b56",
   "metadata": {
    "ExecuteTime": {
     "end_time": "2022-10-03T20:24:13.306888Z",
     "start_time": "2022-10-03T20:24:13.298881Z"
    }
   },
   "outputs": [
    {
     "name": "stdout",
     "output_type": "stream",
     "text": [
      "0\n",
      "1\n",
      "2\n",
      "3\n",
      "4\n",
      "5\n",
      "6\n",
      "7\n",
      "8\n",
      "9\n"
     ]
    }
   ],
   "source": [
    "n = 0\n",
    "while True:\n",
    "    print(n)\n",
    "    n += 1\n",
    "    if n == 10:\n",
    "        break"
   ]
  },
  {
   "cell_type": "code",
   "execution_count": 125,
   "id": "af394597",
   "metadata": {
    "ExecuteTime": {
     "end_time": "2022-10-03T20:25:19.728698Z",
     "start_time": "2022-10-03T20:25:19.714686Z"
    }
   },
   "outputs": [
    {
     "data": {
      "text/plain": [
       "[2, 4, 6, 8, 9, 11, 1]"
      ]
     },
     "execution_count": 125,
     "metadata": {},
     "output_type": "execute_result"
    }
   ],
   "source": [
    "list5"
   ]
  },
  {
   "cell_type": "code",
   "execution_count": 126,
   "id": "a5493ad7",
   "metadata": {
    "ExecuteTime": {
     "end_time": "2022-10-03T20:26:34.038844Z",
     "start_time": "2022-10-03T20:26:34.034840Z"
    }
   },
   "outputs": [],
   "source": [
    "for num in list5:\n",
    "    for i in range(100):\n",
    "        n = 0\n",
    "        while n < 10:\n",
    "            n += num+i"
   ]
  },
  {
   "cell_type": "code",
   "execution_count": null,
   "id": "cbea9d9d",
   "metadata": {},
   "outputs": [],
   "source": []
  }
 ],
 "metadata": {
  "kernelspec": {
   "display_name": "Python 3 (ipykernel)",
   "language": "python",
   "name": "python3"
  },
  "language_info": {
   "codemirror_mode": {
    "name": "ipython",
    "version": 3
   },
   "file_extension": ".py",
   "mimetype": "text/x-python",
   "name": "python",
   "nbconvert_exporter": "python",
   "pygments_lexer": "ipython3",
   "version": "3.9.12"
  }
 },
 "nbformat": 4,
 "nbformat_minor": 5
}
