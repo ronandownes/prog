{
 "cells": [
  {
   "cell_type": "code",
   "execution_count": 1,
   "id": "30ec77fd",
   "metadata": {
    "ExecuteTime": {
     "end_time": "2022-12-05T20:17:17.210187Z",
     "start_time": "2022-12-05T20:17:10.280357Z"
    }
   },
   "outputs": [
    {
     "name": "stdout",
     "output_type": "stream",
     "text": [
      "Defaulting to user installation because normal site-packages is not writeable\n",
      "Requirement already satisfied: python-dotenv in c:\\users\\sam\\appdata\\roaming\\python\\python39\\site-packages (0.21.0)\n"
     ]
    }
   ],
   "source": [
    "!pip install python-dotenv"
   ]
  },
  {
   "cell_type": "code",
   "execution_count": 2,
   "id": "38432758",
   "metadata": {
    "ExecuteTime": {
     "end_time": "2022-12-05T20:18:12.522834Z",
     "start_time": "2022-12-05T20:18:12.504817Z"
    }
   },
   "outputs": [],
   "source": [
    "from dotenv import dotenv_values\n",
    "\n",
    "config = dotenv_values(\".env\")"
   ]
  },
  {
   "cell_type": "code",
   "execution_count": 3,
   "id": "eac70c12",
   "metadata": {
    "ExecuteTime": {
     "end_time": "2022-12-05T20:18:52.702096Z",
     "start_time": "2022-12-05T20:18:52.697092Z"
    }
   },
   "outputs": [],
   "source": [
    "# Don't actually print the .env values"
   ]
  },
  {
   "cell_type": "code",
   "execution_count": 5,
   "id": "eb1dff62",
   "metadata": {
    "ExecuteTime": {
     "end_time": "2022-12-05T20:19:09.204490Z",
     "start_time": "2022-12-05T20:19:09.192479Z"
    }
   },
   "outputs": [
    {
     "name": "stdout",
     "output_type": "stream",
     "text": [
      "MuLjaBIBiINqqAN7tEZFz7wHG\n"
     ]
    }
   ],
   "source": [
    "print(config[\"API_KEY\"])"
   ]
  },
  {
   "cell_type": "code",
   "execution_count": 6,
   "id": "ab74ca9f",
   "metadata": {
    "ExecuteTime": {
     "end_time": "2022-12-05T20:22:50.919062Z",
     "start_time": "2022-12-05T20:22:48.200941Z"
    }
   },
   "outputs": [
    {
     "name": "stdout",
     "output_type": "stream",
     "text": [
      "Defaulting to user installation because normal site-packages is not writeable\n",
      "Requirement already satisfied: requests in c:\\users\\sam\\appdata\\roaming\\python\\python39\\site-packages (2.25.0)\n",
      "Requirement already satisfied: urllib3<1.27,>=1.21.1 in c:\\programdata\\anaconda3\\lib\\site-packages (from requests) (1.26.9)\n",
      "Requirement already satisfied: idna<3,>=2.5 in c:\\users\\sam\\appdata\\roaming\\python\\python39\\site-packages (from requests) (2.10)\n",
      "Requirement already satisfied: chardet<4,>=3.0.2 in c:\\users\\sam\\appdata\\roaming\\python\\python39\\site-packages (from requests) (3.0.4)\n",
      "Requirement already satisfied: certifi>=2017.4.17 in c:\\programdata\\anaconda3\\lib\\site-packages (from requests) (2021.10.8)\n"
     ]
    }
   ],
   "source": [
    "!pip install requests"
   ]
  },
  {
   "cell_type": "code",
   "execution_count": 7,
   "id": "f5138d46",
   "metadata": {
    "ExecuteTime": {
     "end_time": "2022-12-05T20:23:09.762727Z",
     "start_time": "2022-12-05T20:23:09.688734Z"
    }
   },
   "outputs": [],
   "source": [
    "import requests\n",
    "import json"
   ]
  },
  {
   "cell_type": "code",
   "execution_count": 9,
   "id": "63c431d4",
   "metadata": {
    "ExecuteTime": {
     "end_time": "2022-12-05T20:35:01.256395Z",
     "start_time": "2022-12-05T20:35:00.842394Z"
    }
   },
   "outputs": [
    {
     "name": "stdout",
     "output_type": "stream",
     "text": [
      "{\n",
      "    \"data\": [\n",
      "        {\n",
      "            \"edit_history_tweet_ids\": [\n",
      "                \"1599864902868344833\"\n",
      "            ],\n",
      "            \"id\": \"1599864902868344833\",\n",
      "            \"text\": \"@MusketeerRobbie Most World Cup winners will have similar runs won’t they. For example, Brazil in 2002 beat England but apart from that it was China, Costa Rica, Turkey twice and a crap Belgium.\"\n",
      "        },\n",
      "        {\n",
      "            \"edit_history_tweet_ids\": [\n",
      "                \"1599864902583455744\"\n",
      "            ],\n",
      "            \"id\": \"1599864902583455744\",\n",
      "            \"text\": \"📺Live Stream\\n\\nFIFA World Cup Qatar 2022 🏆\\n\\nBrazil 🇧🇷 vs 🇰🇷 South Korea LIVE Streaming\\n\\n#كأس_العالم_قطر2022\\n#FIFAWorldCup #Qatar2022 #BRAKOR\\n\\nHD Stream link ⤵️🔔\\n\\n🔗Live 𝐋𝐢𝐧𝐤&gt;&gt; https://t.co/yRNgwpkNVk\\n\\n#BRA  #Korea #brazilteam\\n\\nazsxfd cvxsrw\"\n",
      "        },\n",
      "        {\n",
      "            \"edit_history_tweet_ids\": [\n",
      "                \"1599864900171759616\"\n",
      "            ],\n",
      "            \"id\": \"1599864900171759616\",\n",
      "            \"text\": \"#Brazil #SouthKorea #BrazilvsSouthKorea #FIFAWorldCupQatar2022\\n\\n🎥Live Stream\\n\\n📺Brazil vs South Korea\\n\\n🔴Live Link▶️ https://t.co/ixEesNCyTB\\n🔴Live Link▶️ https://t.co/ixEesNCyTB\\n🔴Live Link▶️ https://t.co/ixEesNCyTB\\n\\nFIFA World Cup Qatar 2022\\nhttps://t.co/iRmc3cDPNY\\nttujjy\"\n",
      "        },\n",
      "        {\n",
      "            \"edit_history_tweet_ids\": [\n",
      "                \"1599864898439491584\"\n",
      "            ],\n",
      "            \"id\": \"1599864898439491584\",\n",
      "            \"text\": \"(LIVE) Streaming Brazil vs South Korea FIFA World Cup 2022\\n Live\\nBrazil vs South Korea\\nBrazil vs South Korea Live\\n👇 👇\\n🔴𝕃𝕀𝕍𝔼 𝐋𝐢𝐧𝐤🔴 https://t.co/S9AQ6NvstR\\n\\n🔴𝕃𝕀𝕍𝔼 𝐋𝐢𝐧𝐤🔴 https://t.co/S9AQ6NvstR\\n\\narwe457u8i\"\n",
      "        },\n",
      "        {\n",
      "            \"edit_history_tweet_ids\": [\n",
      "                \"1599864893133684737\"\n",
      "            ],\n",
      "            \"id\": \"1599864893133684737\",\n",
      "            \"text\": \"#Brazil #SouthKorea #BrazilvsSouthKorea #FIFAWorldCupQatar2022\\n\\n🎥Live Stream\\n\\n📺Brazil vs South Korea\\n\\n🔴Live Link▶️ https://t.co/ixEesNCyTB\\n🔴Live Link▶️ https://t.co/ixEesNCyTB\\n🔴Live Link▶️ https://t.co/ixEesNCyTB\\n\\nFIFA World Cup Qatar 2022\\nhttps://t.co/iRmc3cDPNY\\nttujjt\"\n",
      "        },\n",
      "        {\n",
      "            \"edit_history_tweet_ids\": [\n",
      "                \"1599864892756234240\"\n",
      "            ],\n",
      "            \"id\": \"1599864892756234240\",\n",
      "            \"text\": \"📺Live Stream\\n\\nFIFA World Cup Qatar 2022 🏆\\n\\nBrazil 🇧🇷 vs 🇰🇷 South Korea LIVE Streaming\\n\\n#كأس_العالم_قطر2022\\n#FIFAWorldCup #Qatar2022 #BRAKOR\\n\\nHD Stream link ⤵️🔔\\n\\n🔗Live 𝐋𝐢𝐧𝐤&gt;&gt; https://t.co/yRNgwpkNVk\\n\\n#BRA  #Korea #brazilteam\\n\\naszxf vcxsrw\"\n",
      "        },\n",
      "        {\n",
      "            \"edit_history_tweet_ids\": [\n",
      "                \"1599864892500344832\"\n",
      "            ],\n",
      "            \"id\": \"1599864892500344832\",\n",
      "            \"text\": \"(LIVE) Streaming Brazil vs South Korea FIFA World Cup 2022\\n Live\\nBrazil vs South Korea\\nBrazil vs South Korea Live\\n👇 👇\\n🔴𝕃𝕀𝕍𝔼 𝐋𝐢𝐧𝐤🔴 https://t.co/rsJBgLknis\\n\\n🔴𝕃𝕀𝕍𝔼 𝐋𝐢𝐧𝐤🔴 https://t.co/rsJBgLknis\\n\\nzser5ui\"\n",
      "        },\n",
      "        {\n",
      "            \"edit_history_tweet_ids\": [\n",
      "                \"1599864891610787840\"\n",
      "            ],\n",
      "            \"id\": \"1599864891610787840\",\n",
      "            \"text\": \"@bora_carr0t Brazil is smoking SK in the World Cup rn https://t.co/7nR3Z2HTTH\"\n",
      "        },\n",
      "        {\n",
      "            \"edit_history_tweet_ids\": [\n",
      "                \"1599864891304730696\"\n",
      "            ],\n",
      "            \"id\": \"1599864891304730696\",\n",
      "            \"text\": \"📺 Watch Live Stream | World Cup 2022\\n\\n⚽️ Brazil vs South Korea ⤵️\\n\\n🔴➤4K: https://t.co/E1WLMxbFK3\\n\\n🔴➤HD: https://t.co/E1WLMxbFK3\\n\\n🔴➤SD: https://t.co/E1WLMxbFK3\\n\\n#BRAKOR\\n\\n📦 app 👨🏽‍❤️‍👨🏻\"\n",
      "        },\n",
      "        {\n",
      "            \"edit_history_tweet_ids\": [\n",
      "                \"1599864889668837376\"\n",
      "            ],\n",
      "            \"id\": \"1599864889668837376\",\n",
      "            \"text\": \"@FIFAWorldCup @CBF_Futebol Just a theory but hear me out… could it be that Qatar purchased an all set final of the World Cup from you guys at FIFA? Brazil against eg France? We all know how much France “love” Qatar and we certainly know how much FIFA loves money (bribes)… just throwing it out there…\"\n",
      "        },\n",
      "        {\n",
      "            \"edit_history_tweet_ids\": [\n",
      "                \"1599864887236517888\"\n",
      "            ],\n",
      "            \"id\": \"1599864887236517888\",\n",
      "            \"text\": \"#Brazil #SouthKorea #BrazilvsSouthKorea #FIFAWorldCupQatar2022\\n\\n🎥Live Stream\\n\\n📺Brazil vs South Korea\\n\\n🔴Live Link▶️ https://t.co/ixEesNCyTB\\n🔴Live Link▶️ https://t.co/ixEesNCyTB\\n🔴Live Link▶️ https://t.co/ixEesNCyTB\\n\\nFIFA World Cup Qatar 2022\\nhttps://t.co/iRmc3cDPNY\\nttujjr\"\n",
      "        },\n",
      "        {\n",
      "            \"edit_history_tweet_ids\": [\n",
      "                \"1599864886238281729\"\n",
      "            ],\n",
      "            \"id\": \"1599864886238281729\",\n",
      "            \"text\": \"(LIVE) Streaming Brazil vs South Korea FIFA World Cup 2022\\n Live\\nBrazil vs South Korea\\nBrazil vs South Korea Live\\n👇 👇\\n🔴𝕃𝕀𝕍𝔼 𝐋𝐢𝐧𝐤🔴 https://t.co/S9AQ6NvstR\\n\\n🔴𝕃𝕀𝕍𝔼 𝐋𝐢𝐧𝐤🔴 https://t.co/S9AQ6NvstR\\n\\nxdftk\"\n",
      "        },\n",
      "        {\n",
      "            \"edit_history_tweet_ids\": [\n",
      "                \"1599864882937331712\"\n",
      "            ],\n",
      "            \"id\": \"1599864882937331712\",\n",
      "            \"text\": \"📺Live Stream\\n\\nFIFA World Cup Qatar 2022 🏆\\n\\nBrazil 🇧🇷 vs 🇰🇷 South Korea LIVE Streaming\\n\\n#كأس_العالم_قطر2022\\n#FIFAWorldCup #Qatar2022 #BRAKOR\\n\\nHD Stream link ⤵️🔔\\n\\n🔗Live 𝐋𝐢𝐧𝐤&gt;&gt; https://t.co/yRNgwpkNVk\\n\\n#BRA  #Korea #brazilteam\\n\\naszxf dcvsrw\"\n",
      "        },\n",
      "        {\n",
      "            \"edit_history_tweet_ids\": [\n",
      "                \"1599864882278858753\"\n",
      "            ],\n",
      "            \"id\": \"1599864882278858753\",\n",
      "            \"text\": \"🏆FIFA World Cup 2022 Live Stream Full HD\\n\\n🆚Brazil vs South Korea\\n🆚South Korea vs Brazil\\n\\n📲Mobile⤵️\\nLink: https://t.co/WB2Hz8m6mH\\n\\n💻PC⤵️\\nLink: https://t.co/WB2Hz8m6mH\\n\\n#Brazil #Korea #KoreavsBrazil #Qatar2022 #FIFAWorldCupQatar2022 #Neymar #vini #Vinicius https://t.co/F8EcAK2sme\"\n",
      "        },\n",
      "        {\n",
      "            \"edit_history_tweet_ids\": [\n",
      "                \"1599864881632935936\"\n",
      "            ],\n",
      "            \"id\": \"1599864881632935936\",\n",
      "            \"text\": \"MATCH DAY\\n🏆Live Stream\\n\\n🆚Brazil vs South Korea Live\\n\\n🔴Live Link: https://t.co/mtwF2otCSt\\n🔴Live Link: https://t.co/mtwF2otCSt\\n\\n#Brazil #Korea #BRAKOR #KOR #FIFAWorldCup\\n#FIFAWorldCupQatar2022 #WorldCup2022 #Qatar2022\\n\\n!Enjoy Streaming !!Retweet 🔄 + Like ❤️\\ndsgsdh\"\n",
      "        },\n",
      "        {\n",
      "            \"edit_history_tweet_ids\": [\n",
      "                \"1599864881507106816\"\n",
      "            ],\n",
      "            \"id\": \"1599864881507106816\",\n",
      "            \"text\": \"#Brazil #SouthKorea #BrazilvsSouthKorea #FIFAWorldCupQatar2022\\n\\n🎥Live Stream\\n\\n📺Brazil vs South Korea\\n\\n🔴Live Link▶️ https://t.co/ixEesNCyTB\\n🔴Live Link▶️ https://t.co/ixEesNCyTB\\n🔴Live Link▶️ https://t.co/ixEesNCyTB\\n\\nFIFA World Cup Qatar 2022\\nhttps://t.co/iRmc3cDPNY\\nttujje\"\n",
      "        },\n",
      "        {\n",
      "            \"edit_history_tweet_ids\": [\n",
      "                \"1599864880655654912\"\n",
      "            ],\n",
      "            \"id\": \"1599864880655654912\",\n",
      "            \"text\": \"(LIVE) Streaming Brazil vs South Korea FIFA World Cup 2022\\n Live\\nBrazil vs South Korea\\nBrazil vs South Korea Live\\n👇 👇\\n🔴𝕃𝕀𝕍𝔼 𝐋𝐢𝐧𝐤🔴 https://t.co/rsJBgLknis\\n\\n🔴𝕃𝕀𝕍𝔼 𝐋𝐢𝐧𝐤🔴 https://t.co/rsJBgLknis\\n\\nzsfdgrhj\"\n",
      "        },\n",
      "        {\n",
      "            \"edit_history_tweet_ids\": [\n",
      "                \"1599864875534413824\"\n",
      "            ],\n",
      "            \"id\": \"1599864875534413824\",\n",
      "            \"text\": \"🏆FIFA World Cup 2022 Live Stream Full HD\\n\\n🆚Brazil vs South Korea\\n🆚South Korea vs Brazil\\n\\n📲Mobile⤵️\\nLink: https://t.co/wBaqHKUPgX\\n\\n💻PC⤵️\\nLink: https://t.co/wBaqHKUPgX\\n\\n#Brazil #Korea #KoreavsBrazil #Qatar2022 #FIFAWorldCupQatar2022 #Neymar #vini #Vinicius https://t.co/B9R6N654Hj\"\n",
      "        },\n",
      "        {\n",
      "            \"edit_history_tweet_ids\": [\n",
      "                \"1599864875379220480\"\n",
      "            ],\n",
      "            \"id\": \"1599864875379220480\",\n",
      "            \"text\": \"#Brazil #SouthKorea #BrazilvsSouthKorea #FIFAWorldCupQatar2022\\n\\n🎥Live Stream\\n\\n📺Brazil vs South Korea\\n\\n🔴Live Link▶️ https://t.co/ixEesNCyTB\\n🔴Live Link▶️ https://t.co/ixEesNCyTB\\n🔴Live Link▶️ https://t.co/ixEesNCyTB\\n\\nFIFA World Cup Qatar 2022\\nhttps://t.co/iRmc3cDPNY\\nttujjw\"\n",
      "        },\n",
      "        {\n",
      "            \"edit_history_tweet_ids\": [\n",
      "                \"1599864875022700545\"\n",
      "            ],\n",
      "            \"id\": \"1599864875022700545\",\n",
      "            \"text\": \"📺 Watch Live Stream | World Cup 2022\\n\\n⚽️ Brazil vs South Korea ⤵️\\n\\n🔴➤4K: https://t.co/2hzOQbG0kY\\n\\n🔴➤HD: https://t.co/2hzOQbG0kY\\n\\n🔴➤SD: https://t.co/2hzOQbG0kY\\n\\n#BRAKOR\\nhttps://t.co/8DtClmQUL4 \\nTplz\"\n",
      "        },\n",
      "        {\n",
      "            \"edit_history_tweet_ids\": [\n",
      "                \"1599864874448097280\"\n",
      "            ],\n",
      "            \"id\": \"1599864874448097280\",\n",
      "            \"text\": \"(LIVE) Streaming Brazil vs South Korea FIFA World Cup 2022\\n Live\\nBrazil vs South Korea\\nBrazil vs South Korea Live\\n👇 👇\\n🔴𝕃𝕀𝕍𝔼 𝐋𝐢𝐧𝐤🔴 https://t.co/S9AQ6NvstR\\n\\n🔴𝕃𝕀𝕍𝔼 𝐋𝐢𝐧𝐤🔴 https://t.co/S9AQ6NvstR\\n\\nsery5ui\"\n",
      "        },\n",
      "        {\n",
      "            \"edit_history_tweet_ids\": [\n",
      "                \"1599864871637901312\"\n",
      "            ],\n",
      "            \"id\": \"1599864871637901312\",\n",
      "            \"text\": \"Watch FIFA World Cup Qatar 2022 Live Stream Free Online\\n\\n🔴Link📺 https://t.co/D5rYILmlmS\\n\\n🆚Brazil vs South Korea 2022 prediction\\n🆚Brazil vs South Korea\\n🆚FIFA World Cup Qatar\\n🆚Brazil vs South Korea:2022 World Cup\\n\\n🔴Link📺 https://t.co/D5rYILmlmS https://t.co/HIoo0k0MyG\"\n",
      "        },\n",
      "        {\n",
      "            \"edit_history_tweet_ids\": [\n",
      "                \"1599864870861930496\"\n",
      "            ],\n",
      "            \"id\": \"1599864870861930496\",\n",
      "            \"text\": \"📺Live Stream\\n\\nFIFA World Cup Qatar 2022 🏆\\n\\nBrazil 🇧🇷 vs 🇰🇷 South Korea LIVE Streaming\\n\\n#كأس_العالم_قطر2022\\n#FIFAWorldCup #Qatar2022 #BRAKOR\\n\\nHD Stream link ⤵️🔔\\n\\n🔗Live 𝐋𝐢𝐧𝐤&gt;&gt; https://t.co/yRNgwpkNVk\\n\\n#BRA  #Korea #brazilteam\\n\\nazfdxcv sxewr\"\n",
      "        },\n",
      "        {\n",
      "            \"edit_history_tweet_ids\": [\n",
      "                \"1599864870383636480\"\n",
      "            ],\n",
      "            \"id\": \"1599864870383636480\",\n",
      "            \"text\": \"📺 Watch Live Stream | World Cup 2022\\n\\n⚽️ Brazil vs South Korea ⤵️\\n\\n🔴➤4K: https://t.co/yKISOz3LNQ\\n\\n🔴➤HD: https://t.co/yKISOz3LNQ\\n\\n🔴➤SD: https://t.co/yKISOz3LNQ\\n\\n#BRAKOR\\n\\n🪅 live2 👩🏾\"\n",
      "        },\n",
      "        {\n",
      "            \"edit_history_tweet_ids\": [\n",
      "                \"1599864869553344512\"\n",
      "            ],\n",
      "            \"id\": \"1599864869553344512\",\n",
      "            \"text\": \"#Brazil #SouthKorea #BrazilvsSouthKorea #FIFAWorldCupQatar2022\\n\\n🎥Live Stream\\n\\n📺Brazil vs South Korea\\n\\n🔴Live Link▶️ https://t.co/ixEesNCyTB\\n🔴Live Link▶️ https://t.co/ixEesNCyTB\\n🔴Live Link▶️ https://t.co/ixEesNCyTB\\n\\nFIFA World Cup Qatar 2022\\nhttps://t.co/iRmc3cDPNY\\nttujjq\"\n",
      "        }\n",
      "    ],\n",
      "    \"meta\": {\n",
      "        \"newest_id\": \"1599864902868344833\",\n",
      "        \"oldest_id\": \"1599864869553344512\",\n",
      "        \"result_count\": 25,\n",
      "        \"next_token\": \"b26v89c19zqg8o3fpzhn0i4fzov6dqv5zr7iyvtn3wbr1\"\n",
      "    }\n",
      "}\n"
     ]
    }
   ],
   "source": [
    "bearer_token = config[\"BEARER_TOKEN\"]\n",
    "\n",
    "search_url = \"https://api.twitter.com/2/tweets/search/recent\"\n",
    "\n",
    "query_params = {\n",
    "    # Escaping the character \\\"\n",
    "    'query' : \"\\\"World Cup\\\" Brazil -is:retweet\",\n",
    "    'max_results' : '25',\n",
    "    'tweet.fields': 'author_id',\n",
    "    'user.fields': 'name'\n",
    "}\n",
    "\n",
    "def bearer_oauth(r):\n",
    "    r.headers[\"Authorization\"] = f\"Bearer {bearer_token}\"\n",
    "    r.headers[\"User-Agent\"] = \"v2RecentSearchPython\"\n",
    "    return r\n",
    "\n",
    "def connect_to_endpoint(url, params):\n",
    "    response = requests.get(url, auth=bearer_oauth, params=params)\n",
    "    #response.status_code\n",
    "    # 200 is good\n",
    "    # everything else is an error\n",
    "    # 404 page not found\n",
    "    return response.json()\n",
    "\n",
    "json_response = connect_to_endpoint(search_url, query_params)\n",
    "\n",
    "parsedRes = json.dumps(json_response, indent=4, ensure_ascii=False)\n",
    "print(parsedRes)"
   ]
  },
  {
   "cell_type": "code",
   "execution_count": 10,
   "id": "4f0e14db",
   "metadata": {
    "ExecuteTime": {
     "end_time": "2022-12-05T20:37:10.058490Z",
     "start_time": "2022-12-05T20:37:10.043476Z"
    }
   },
   "outputs": [],
   "source": [
    "# pagination"
   ]
  },
  {
   "cell_type": "code",
   "execution_count": 12,
   "id": "caa61ce9",
   "metadata": {
    "ExecuteTime": {
     "end_time": "2022-12-05T20:42:17.640526Z",
     "start_time": "2022-12-05T20:42:17.243882Z"
    }
   },
   "outputs": [
    {
     "name": "stdout",
     "output_type": "stream",
     "text": [
      "{\n",
      "    \"data\": [\n",
      "        {\n",
      "            \"text\": \"LIVE STREAM HD 🏆 FIFA World Cup 2022 🏆\\n    brazil 🇧🇷 vs 🇰🇷 south korea \\n\\n Live of the Live stream 👇💙\\n\\n 🔴𝐋𝐢𝐯𝐞 𝐋𝐢𝐧𝐤 📺https://t.co/L8iv7NciDr\\n\\n 🔴𝐋𝐢𝐯𝐞 𝐋𝐢𝐧𝐤 📺 https://t.co/L8iv7NciDr\\n \\n Retweet🔄+ Like ❤️ To Support US \\n       #FIFAWorldCup#\\ntgdrsfgg\",\n",
      "            \"author_id\": \"1242790368422137856\",\n",
      "            \"edit_history_tweet_ids\": [\n",
      "                \"1599866731023192064\"\n",
      "            ],\n",
      "            \"id\": \"1599866731023192064\"\n",
      "        },\n",
      "        {\n",
      "            \"text\": \"📺Watch Live Streaming........\\n\\n   🇧🇷 Brazil vs South Korea 🇰🇷\\n👉 https://t.co/qWb70WRrxX\\n\\n 🔹 LINK Vidio/SCTV Stream\\n \\n     🇧🇷 Brazil vs South Korea 🇰🇷\\n👉  https://t.co/jZCMqN5Gkz\\n\\n⚽️ FIFA World Cup Qatar\\n🗓️ 05 December 2022\\n🏆 #PialaDunia2022 #WorldCup2022\\n\\n7*savasvav\",\n",
      "            \"author_id\": \"1593827764993687552\",\n",
      "            \"edit_history_tweet_ids\": [\n",
      "                \"1599866729597132800\"\n",
      "            ],\n",
      "            \"id\": \"1599866729597132800\"\n",
      "        },\n",
      "        {\n",
      "            \"text\": \"#Brazil #SouthKorea #BrazilvsSouthKorea #FIFAWorldCupQatar2022\\n\\n🎥Live Stream\\n\\n📺Brazil vs South Korea\\n\\n🔴Live Link▶️ https://t.co/ixEesNCyTB\\n🔴Live Link▶️ https://t.co/ixEesNCyTB\\n🔴Live Link▶️ https://t.co/ixEesNCyTB\\n\\nFIFA World Cup Qatar 2022\\nhttps://t.co/iRmc3cDPNY\\nuadvfiume\",\n",
      "            \"author_id\": \"1254432446700871685\",\n",
      "            \"edit_history_tweet_ids\": [\n",
      "                \"1599866728624054272\"\n",
      "            ],\n",
      "            \"id\": \"1599866728624054272\"\n",
      "        },\n",
      "        {\n",
      "            \"text\": \"(LIVE) Streaming Brazil vs South Korea FIFA World Cup 2022\\n Live\\nBrazil vs South Korea\\nBrazil vs South Korea Live\\n👇 👇\\n🔴𝕃𝕀𝕍𝔼 𝐋𝐢𝐧𝐤🔴 https://t.co/S9AQ6NvstR\\n\\n🔴𝕃𝕀𝕍𝔼 𝐋𝐢𝐧𝐤🔴 https://t.co/S9AQ6NvstR\\n\\nzfreuj\",\n",
      "            \"author_id\": \"1553969619152408576\",\n",
      "            \"edit_history_tweet_ids\": [\n",
      "                \"1599866727537737729\"\n",
      "            ],\n",
      "            \"id\": \"1599866727537737729\"\n",
      "        },\n",
      "        {\n",
      "            \"text\": \"📺 Watch Live Stream | World Cup 2022\\n\\n⚽️ Brazil vs South Korea ⤵️\\n\\n🔴➤4K: https://t.co/YH98R5Br5L\\n\\n🔴➤HD: https://t.co/YH98R5Br5L\\n\\n🔴➤SD: https://t.co/YH98R5Br5L\\n\\n#BRAKOR\\nhttps://t.co/0uzRURmUGR \\ncSpI\",\n",
      "            \"author_id\": \"805200667\",\n",
      "            \"edit_history_tweet_ids\": [\n",
      "                \"1599866725729984512\"\n",
      "            ],\n",
      "            \"id\": \"1599866725729984512\"\n",
      "        },\n",
      "        {\n",
      "            \"text\": \"FIFA World Cup 2022, Brazil vs South Korea Live Score\\n\\nLive HD\\n👇\\n\\nMobile📱\\n🔴👉 https://t.co/DL5GpeqmvC\\n\\nComputer🖥️\\n🔴👉 https://t.co/KzKiK5a4as\\n\\nBrasil x Coreia do Sul ao vivo\\nFIFA World Cup Qatar 2022\\n#BRAKOR #FIFAWorldCup #Qatar #Brazil #SouthKorea\\nEnjoy Streaming\\nwr https://t.co/pRfmv3GFjH\",\n",
      "            \"author_id\": \"1598730127373791232\",\n",
      "            \"edit_history_tweet_ids\": [\n",
      "                \"1599866724299309056\"\n",
      "            ],\n",
      "            \"id\": \"1599866724299309056\"\n",
      "        },\n",
      "        {\n",
      "            \"text\": \"#Brazil #SouthKorea #BrazilvsSouthKorea #FIFAWorldCupQatar2022\\n\\n🎥Live Stream\\n\\n📺Brazil vs South Korea\\n\\n🔴Live Link▶️ https://t.co/ixEesNCyTB\\n🔴Live Link▶️ https://t.co/ixEesNCyTB\\n🔴Live Link▶️ https://t.co/ixEesNCyTB\\n\\nFIFA World Cup Qatar 2022\\nhttps://t.co/iRmc3cDPNY\\nuadvfiumw\",\n",
      "            \"author_id\": \"1254432446700871685\",\n",
      "            \"edit_history_tweet_ids\": [\n",
      "                \"1599866722940760064\"\n",
      "            ],\n",
      "            \"id\": \"1599866722940760064\"\n",
      "        },\n",
      "        {\n",
      "            \"text\": \"⚽FIFA World Cup\\n\\nBrazil vs South Korea \\n🔴𝙇𝙄𝙑𝙀🔴 https://t.co/h75TiHN04f\\n\\nBrazil vs South Korea\\n📺 Watch🔴 https://t.co/TgwQBv8E9Z\\n\\n#FIFAWorldCup2022 \\n#Qatar2022\\n#LiveStreaming CVB FGCJNM GUFVYKIUYK8OFYV\",\n",
      "            \"author_id\": \"1571847258764881922\",\n",
      "            \"edit_history_tweet_ids\": [\n",
      "                \"1599866721338560512\"\n",
      "            ],\n",
      "            \"id\": \"1599866721338560512\"\n",
      "        },\n",
      "        {\n",
      "            \"text\": \"LIVE STREAM HD 🏆 FIFA World Cup 2022 🏆\\n    brazil 🇧🇷 vs 🇰🇷 south korea \\n\\n Live of the Live stream 👇💙\\n\\n 🔴𝐋𝐢𝐯𝐞 𝐋𝐢𝐧𝐤 📺https://t.co/L8iv7NciDr\\n\\n 🔴𝐋𝐢𝐯𝐞 𝐋𝐢𝐧𝐤 📺 https://t.co/L8iv7NciDr\\n \\n Retweet🔄+ Like ❤️ To Support US \\n       #FIFAWorldCup#\\nyth\",\n",
      "            \"author_id\": \"1242790368422137856\",\n",
      "            \"edit_history_tweet_ids\": [\n",
      "                \"1599866719925043200\"\n",
      "            ],\n",
      "            \"id\": \"1599866719925043200\"\n",
      "        },\n",
      "        {\n",
      "            \"text\": \"📺Watch Live Streaming........\\n\\n   🇧🇷 Brazil vs South Korea 🇰🇷\\n👉 https://t.co/qWb70WRrxX\\n\\n 🔹 LINK Vidio/SCTV Stream\\n \\n     🇧🇷 Brazil vs South Korea 🇰🇷\\n👉  https://t.co/jZCMqN5Gkz\\n\\n⚽️ FIFA World Cup Qatar\\n🗓️ 05 December 2022\\n🏆 #PialaDunia2022 #WorldCup2022\\n\\n7*advadcvasc\",\n",
      "            \"author_id\": \"1593827764993687552\",\n",
      "            \"edit_history_tweet_ids\": [\n",
      "                \"1599866718012440577\"\n",
      "            ],\n",
      "            \"id\": \"1599866718012440577\"\n",
      "        },\n",
      "        {\n",
      "            \"text\": \"Brazil bringing on their third choice keeper screams “we’re winning this world cup” doesn’t it…\",\n",
      "            \"author_id\": \"4854063353\",\n",
      "            \"edit_history_tweet_ids\": [\n",
      "                \"1599866717316214784\"\n",
      "            ],\n",
      "            \"id\": \"1599866717316214784\"\n",
      "        },\n",
      "        {\n",
      "            \"text\": \"#Brazil #SouthKorea  #Brazil_vs_SouthKorea  #Brasil #FIFAWorldCupQatar2022 #livestream #livefootball \\n\\n🎥Live Stream \\n\\n📺Brazil vs South Korea Live\\n\\n🔴Live Link▶️ https://t.co/b5YPEOfHJI\\n🔴Live Link▶️ https://t.co/enRFW7Hczr\\n\\nFIFA World Cup Qatar 2022 https://t.co/0duZbmYEqO\",\n",
      "            \"author_id\": \"1587438940377608192\",\n",
      "            \"edit_history_tweet_ids\": [\n",
      "                \"1599866717311995905\"\n",
      "            ],\n",
      "            \"id\": \"1599866717311995905\"\n",
      "        },\n",
      "        {\n",
      "            \"text\": \"#Brazil #SouthKorea #BrazilvsSouthKorea #FIFAWorldCupQatar2022\\n\\n🎥Live Stream\\n\\n📺Brazil vs South Korea\\n\\n🔴Live Link▶️ https://t.co/ixEesNCyTB\\n🔴Live Link▶️ https://t.co/ixEesNCyTB\\n🔴Live Link▶️ https://t.co/ixEesNCyTB\\n\\nFIFA World Cup Qatar 2022\\nhttps://t.co/iRmc3cDPNY\\nuadvfiumq\",\n",
      "            \"author_id\": \"1254432446700871685\",\n",
      "            \"edit_history_tweet_ids\": [\n",
      "                \"1599866717156827136\"\n",
      "            ],\n",
      "            \"id\": \"1599866717156827136\"\n",
      "        },\n",
      "        {\n",
      "            \"text\": \"“Here nigga damn” minutes for their 3rd choice goalkeeper in the KNOCKOUT ROUNDS? Brazil are definitely winning this World Cup 😭\",\n",
      "            \"author_id\": \"1052722959419359233\",\n",
      "            \"edit_history_tweet_ids\": [\n",
      "                \"1599866714652491776\"\n",
      "            ],\n",
      "            \"id\": \"1599866714652491776\"\n",
      "        },\n",
      "        {\n",
      "            \"text\": \"i once asked a wise man “who are we with in the world cup” and he unhesitatingly said “brazil” and i’ve never been more proud and he’s never been more precise.\",\n",
      "            \"author_id\": \"1235283241403371523\",\n",
      "            \"edit_history_tweet_ids\": [\n",
      "                \"1599866711624548352\"\n",
      "            ],\n",
      "            \"id\": \"1599866711624548352\"\n",
      "        },\n",
      "        {\n",
      "            \"text\": \"LIVE STREAM HD 🏆 FIFA World Cup 2022 🏆\\n    brazil 🇧🇷 vs 🇰🇷 south korea \\n\\n Live of the Live stream 👇💙\\n\\n 🔴𝐋𝐢𝐯𝐞 𝐋𝐢𝐧𝐤 📺https://t.co/L8iv7NciDr\\n\\n 🔴𝐋𝐢𝐯𝐞 𝐋𝐢𝐧𝐤 📺 https://t.co/L8iv7NciDr\\n \\n Retweet🔄+ Like ❤️ To Support US \\n       #FIFAWorldCup#\\n5t4ert\",\n",
      "            \"author_id\": \"1242790368422137856\",\n",
      "            \"edit_history_tweet_ids\": [\n",
      "                \"1599866710093594625\"\n",
      "            ],\n",
      "            \"id\": \"1599866710093594625\"\n",
      "        },\n",
      "        {\n",
      "            \"text\": \"Brazil bringing on their third choice goalkeeper for the last 10 minutes. That means every single player in the squad has had some minutes at this World Cup.\\n\\n#BRA | #KOR | #FIFAWorldCup https://t.co/VAnf0lXhQV\",\n",
      "            \"author_id\": \"462312323\",\n",
      "            \"edit_history_tweet_ids\": [\n",
      "                \"1599866709355249664\"\n",
      "            ],\n",
      "            \"id\": \"1599866709355249664\"\n",
      "        },\n",
      "        {\n",
      "            \"text\": \"⚽FIFA World Cup\\n\\nBrazil vs South Korea \\n🔴𝙇𝙄𝙑𝙀🔴 https://t.co/h75TiHN04f\\n\\nBrazil vs South Korea\\n📺 Watch🔴 https://t.co/TgwQBv8E9Z\\n\\n#FIFAWorldCup2022 \\n#Qatar2022\\n#LiveStreaming CBV FGVNJGHJKVUY\",\n",
      "            \"author_id\": \"1571847258764881922\",\n",
      "            \"edit_history_tweet_ids\": [\n",
      "                \"1599866707174383617\"\n",
      "            ],\n",
      "            \"id\": \"1599866707174383617\"\n",
      "        },\n",
      "        {\n",
      "            \"text\": \"ewr4erdf📺Watch Live Streaming........\\n\\n   🇧🇷 Brazil vs South Korea 🇰🇷\\n👉 https://t.co/qWb70WRrxX\\n\\n 🔹 LINK Vidio/SCTV Stream\\n \\n     🇧🇷 Brazil vs South Korea 🇰🇷\\n👉  https://t.co/jZCMqN5Gkz\\n\\n⚽️ FIFA World Cup Qatar\\n🗓️ 05 December 2022\\n🏆 #PialaDunia2022 #WorldCup2022\\n\\n7*dsfdd\",\n",
      "            \"author_id\": \"1593827764993687552\",\n",
      "            \"edit_history_tweet_ids\": [\n",
      "                \"1599866707002392576\"\n",
      "            ],\n",
      "            \"id\": \"1599866707002392576\"\n",
      "        },\n",
      "        {\n",
      "            \"text\": \"Brazil subbing their keeper in a knockout World Cup game like it's the Rest of the World XI on Soccer Aid throwing on Paddy Kielty for some minutes.\",\n",
      "            \"author_id\": \"14387275\",\n",
      "            \"edit_history_tweet_ids\": [\n",
      "                \"1599866706439962625\"\n",
      "            ],\n",
      "            \"id\": \"1599866706439962625\"\n",
      "        },\n",
      "        {\n",
      "            \"text\": \"𝗨𝗦𝗘 𝗧𝗛𝗘 𝗦𝗤𝗨𝗔𝗗\\n\\nWeverton has come on in place of Alisson for Brazil.\\n\\nThey've now used all 26 players in their World Cup squad across their four games.\\n\\n#FIFAWorldCup | #BRA\",\n",
      "            \"author_id\": \"1557666049918656517\",\n",
      "            \"edit_history_tweet_ids\": [\n",
      "                \"1599866702581313538\"\n",
      "            ],\n",
      "            \"id\": \"1599866702581313538\"\n",
      "        },\n",
      "        {\n",
      "            \"text\": \"LIVE STREAM HD 🏆 FIFA World Cup 2022 🏆\\n    brazil 🇧🇷 vs 🇰🇷 south korea \\n\\n Live of the Live stream 👇💙\\n\\n 🔴𝐋𝐢𝐯𝐞 𝐋𝐢𝐧𝐤 📺https://t.co/L8iv7NciDr\\n\\n 🔴𝐋𝐢𝐯𝐞 𝐋𝐢𝐧𝐤 📺 https://t.co/L8iv7NciDr\\n \\n Retweet🔄+ Like ❤️ To Support US \\n       #FIFAWorldCup#\\nfedfgg\",\n",
      "            \"author_id\": \"1242790368422137856\",\n",
      "            \"edit_history_tweet_ids\": [\n",
      "                \"1599866699167469568\"\n",
      "            ],\n",
      "            \"id\": \"1599866699167469568\"\n",
      "        },\n",
      "        {\n",
      "            \"text\": \"Brazil  vs South-Korea Live | FOOTBALL LIVE TODAY | FULL MATCH LIVE 2022 |FIFA World Cup Qatar 2022\\n🛑LIVE📺📱👉https://t.co/ft0w5DrhNz\\n🛑LIVE📺📱👉https://t.co/ft0w5DrhNz\\n#LivefootballFIFA #WorldCup2022Live  #footballLive2022 #FIFA #FIFA #Brazil #NEYMAR #CBF  ERDGFXVC\",\n",
      "            \"author_id\": \"1596610978971811840\",\n",
      "            \"edit_history_tweet_ids\": [\n",
      "                \"1599866698966106112\"\n",
      "            ],\n",
      "            \"id\": \"1599866698966106112\"\n",
      "        },\n",
      "        {\n",
      "            \"text\": \"(LIVE) Streaming Brazil vs South Korea FIFA World Cup 2022\\n Live\\nBrazil vs South Korea\\nBrazil vs South Korea Live\\n👇 👇\\n🔴𝕃𝕀𝕍𝔼 𝐋𝐢𝐧𝐤🔴 https://t.co/S9AQ6NvstR\\n\\n🔴𝕃𝕀𝕍𝔼 𝐋𝐢𝐧𝐤🔴 https://t.co/S9AQ6NvstR\\n\\nszdfhj\",\n",
      "            \"author_id\": \"1553969619152408576\",\n",
      "            \"edit_history_tweet_ids\": [\n",
      "                \"1599866696755728384\"\n",
      "            ],\n",
      "            \"id\": \"1599866696755728384\"\n",
      "        },\n",
      "        {\n",
      "            \"text\": \"#Brazil #SouthKorea  #Brazil_vs_SouthKorea  #Brasil #FIFAWorldCupQatar2022 #livestream #livefootball \\n\\n🎥Live Stream \\n\\n📺Brazil vs South Korea Live\\n\\n🔴Live Link▶️ https://t.co/b5YPEOfHJI\\n🔴Live Link▶️ https://t.co/enRFW7Hczr\\n\\nFIFA World Cup Qatar 2022 https://t.co/ERShAEMuK6\",\n",
      "            \"author_id\": \"1587438940377608192\",\n",
      "            \"edit_history_tweet_ids\": [\n",
      "                \"1599866694536925185\"\n",
      "            ],\n",
      "            \"id\": \"1599866694536925185\"\n",
      "        }\n",
      "    ],\n",
      "    \"meta\": {\n",
      "        \"newest_id\": \"1599866731023192064\",\n",
      "        \"oldest_id\": \"1599866694536925185\",\n",
      "        \"result_count\": 25,\n",
      "        \"next_token\": \"b26v89c19zqg8o3fpzhn0i4g2poq7utbapaj8dk188ha5\"\n",
      "    }\n",
      "}\n"
     ]
    }
   ],
   "source": [
    "query_params = {\n",
    "    # Escaping the character \\\"\n",
    "    'query' : \"\\\"World Cup\\\" Brazil -is:retweet\",\n",
    "    'max_results' : '25',\n",
    "    'tweet.fields': 'author_id',\n",
    "    'user.fields': 'name',\n",
    "}\n",
    "json_response = connect_to_endpoint(search_url, query_params)\n",
    "\n",
    "parsedRes = json.dumps(json_response, indent=4, ensure_ascii=False)\n",
    "print(parsedRes)"
   ]
  },
  {
   "cell_type": "code",
   "execution_count": 14,
   "id": "bd2f10fc",
   "metadata": {
    "ExecuteTime": {
     "end_time": "2022-12-05T21:10:08.544221Z",
     "start_time": "2022-12-05T21:10:05.689703Z"
    }
   },
   "outputs": [
    {
     "name": "stdout",
     "output_type": "stream",
     "text": [
      "Defaulting to user installation because normal site-packages is not writeable\n",
      "Requirement already satisfied: twitter-stream.py in c:\\users\\sam\\appdata\\roaming\\python\\python39\\site-packages (0.8.8)\n",
      "Requirement already satisfied: requests-oauthlib==1.3.0 in c:\\users\\sam\\appdata\\roaming\\python\\python39\\site-packages (from twitter-stream.py) (1.3.0)\n",
      "Requirement already satisfied: requests==2.25.0 in c:\\users\\sam\\appdata\\roaming\\python\\python39\\site-packages (from twitter-stream.py) (2.25.0)\n",
      "Requirement already satisfied: PyYAML==5.4.1 in c:\\users\\sam\\appdata\\roaming\\python\\python39\\site-packages (from twitter-stream.py) (5.4.1)\n",
      "Requirement already satisfied: chardet<4,>=3.0.2 in c:\\users\\sam\\appdata\\roaming\\python\\python39\\site-packages (from requests==2.25.0->twitter-stream.py) (3.0.4)\n",
      "Requirement already satisfied: certifi>=2017.4.17 in c:\\programdata\\anaconda3\\lib\\site-packages (from requests==2.25.0->twitter-stream.py) (2021.10.8)\n",
      "Requirement already satisfied: idna<3,>=2.5 in c:\\users\\sam\\appdata\\roaming\\python\\python39\\site-packages (from requests==2.25.0->twitter-stream.py) (2.10)\n",
      "Requirement already satisfied: urllib3<1.27,>=1.21.1 in c:\\programdata\\anaconda3\\lib\\site-packages (from requests==2.25.0->twitter-stream.py) (1.26.9)\n",
      "Requirement already satisfied: oauthlib>=3.0.0 in c:\\users\\sam\\appdata\\roaming\\python\\python39\\site-packages (from requests-oauthlib==1.3.0->twitter-stream.py) (3.2.1)\n"
     ]
    }
   ],
   "source": [
    "!pip install twitter-stream.py"
   ]
  },
  {
   "cell_type": "code",
   "execution_count": 19,
   "id": "aa13270b",
   "metadata": {
    "ExecuteTime": {
     "end_time": "2022-12-05T21:22:42.071462Z",
     "start_time": "2022-12-05T21:22:42.058451Z"
    }
   },
   "outputs": [],
   "source": [
    "twitter_keys=f'''keys:\n",
    "    access_token: {config[\"API_KEY\"]}\n",
    "    access_token_secret: {config[\"API_KEY_SECRET\"]}\n",
    "    bearer_token: {config[\"BEARER_TOKEN\"]}\n",
    "'''\n",
    "with open(\"C:/Users/Sam/.twitter-keys.yaml\", \"w\") as file:\n",
    "    file.write(twitter_keys)\n",
    "with open(\"C:/Users/Sam/.twitter_keys.yaml\", \"w\") as file:\n",
    "    file.write(twitter_keys)    \n",
    "#On mac\n",
    "# \"~/.twitter-keys.yaml\""
   ]
  },
  {
   "cell_type": "code",
   "execution_count": 16,
   "id": "f5be21bd",
   "metadata": {
    "ExecuteTime": {
     "end_time": "2022-12-05T21:22:09.134137Z",
     "start_time": "2022-12-05T21:22:09.130133Z"
    }
   },
   "outputs": [],
   "source": [
    "\n",
    "testString = '''\n",
    "a\n",
    "    bc\n",
    "    sam\n",
    "4'''"
   ]
  },
  {
   "cell_type": "code",
   "execution_count": 18,
   "id": "a5f5a7a8",
   "metadata": {
    "ExecuteTime": {
     "end_time": "2022-12-05T21:22:19.407455Z",
     "start_time": "2022-12-05T21:22:19.402450Z"
    }
   },
   "outputs": [
    {
     "name": "stdout",
     "output_type": "stream",
     "text": [
      "\n",
      "a\n",
      "    bc\n",
      "    sam\n",
      "4\n"
     ]
    }
   ],
   "source": [
    "print(testString)"
   ]
  },
  {
   "cell_type": "code",
   "execution_count": 20,
   "id": "9942860c",
   "metadata": {
    "ExecuteTime": {
     "end_time": "2022-12-05T21:24:07.665462Z",
     "start_time": "2022-12-05T21:24:07.499044Z"
    }
   },
   "outputs": [],
   "source": [
    "# import json\n",
    "from twitter_stream import FilteredStream\n",
    "from time import time\n",
    "\n",
    "start = time()"
   ]
  },
  {
   "cell_type": "code",
   "execution_count": 21,
   "id": "d1cdb59d",
   "metadata": {
    "ExecuteTime": {
     "end_time": "2022-12-05T21:24:09.914057Z",
     "start_time": "2022-12-05T21:24:09.898044Z"
    }
   },
   "outputs": [
    {
     "data": {
      "text/plain": [
       "1670275447.6499124"
      ]
     },
     "execution_count": 21,
     "metadata": {},
     "output_type": "execute_result"
    }
   ],
   "source": [
    "start"
   ]
  },
  {
   "cell_type": "code",
   "execution_count": 22,
   "id": "d8cabbe2",
   "metadata": {
    "ExecuteTime": {
     "end_time": "2022-12-05T21:24:13.151344Z",
     "start_time": "2022-12-05T21:24:13.146340Z"
    }
   },
   "outputs": [
    {
     "data": {
      "text/plain": [
       "1670275447.6499124"
      ]
     },
     "execution_count": 22,
     "metadata": {},
     "output_type": "execute_result"
    }
   ],
   "source": [
    "start"
   ]
  },
  {
   "cell_type": "code",
   "execution_count": 23,
   "id": "09d74ebd",
   "metadata": {
    "ExecuteTime": {
     "end_time": "2022-12-05T21:24:16.619862Z",
     "start_time": "2022-12-05T21:24:16.602845Z"
    }
   },
   "outputs": [
    {
     "data": {
      "text/plain": [
       "1670275456.6038475"
      ]
     },
     "execution_count": 23,
     "metadata": {},
     "output_type": "execute_result"
    }
   ],
   "source": [
    "time()"
   ]
  },
  {
   "cell_type": "code",
   "execution_count": 25,
   "id": "1e1a46a2",
   "metadata": {
    "ExecuteTime": {
     "end_time": "2022-12-05T21:31:32.519086Z",
     "start_time": "2022-12-05T21:30:47.932029Z"
    }
   },
   "outputs": [
    {
     "name": "stdout",
     "output_type": "stream",
     "text": [
      "{\n",
      "    \"data\": {\n",
      "        \"edit_history_tweet_ids\": [\n",
      "            \"1599879003124662272\"\n",
      "        ],\n",
      "        \"id\": \"1599879003124662272\",\n",
      "        \"text\": \"RT @americamag: .@DanLipinski: Pro-life politicians should rally around a 15-week abortion ban \\nhttps://t.co/aO6rGlk8mX\"\n",
      "    },\n",
      "    \"matching_rules\": [\n",
      "        {\n",
      "            \"id\": \"1590047576933687297\",\n",
      "            \"tag\": \"election\"\n",
      "        }\n",
      "    ]\n",
      "}\n",
      "There are: 1 tweets, about 0.10133161937306608 tweets per second.\n",
      "{\n",
      "    \"data\": {\n",
      "        \"edit_history_tweet_ids\": [\n",
      "            \"1599879020405223425\"\n",
      "        ],\n",
      "        \"id\": \"1599879020405223425\",\n",
      "        \"text\": \"@AdellaLandstrom You’re right. I have to keep remembering that. It has been tough after the way people voted in the midterms. I don’t have much hope for Herschel Walker\"\n",
      "    },\n",
      "    \"matching_rules\": [\n",
      "        {\n",
      "            \"id\": \"1590047576933687297\",\n",
      "            \"tag\": \"election\"\n",
      "        }\n",
      "    ]\n",
      "}\n",
      "There are: 2 tweets, about 0.1424070420440917 tweets per second.\n",
      "{\n",
      "    \"data\": {\n",
      "        \"edit_history_tweet_ids\": [\n",
      "            \"1599879032710959104\"\n",
      "        ],\n",
      "        \"id\": \"1599879032710959104\",\n",
      "        \"text\": \"RT @harrisonjaime: .@SenRickScott said he doesn’t regret his extreme plan to put Social Security and Medicare on the chopping block “one bi…\"\n",
      "    },\n",
      "    \"matching_rules\": [\n",
      "        {\n",
      "            \"id\": \"1590047576933687297\",\n",
      "            \"tag\": \"election\"\n",
      "        }\n",
      "    ]\n",
      "}\n",
      "There are: 3 tweets, about 0.17750586698870272 tweets per second.\n",
      "{\n",
      "    \"data\": {\n",
      "        \"edit_history_tweet_ids\": [\n",
      "            \"1599879045575069697\"\n",
      "        ],\n",
      "        \"id\": \"1599879045575069697\",\n",
      "        \"text\": \"@MiamiHerald Even the GOP found out he's a thief.\"\n",
      "    },\n",
      "    \"matching_rules\": [\n",
      "        {\n",
      "            \"id\": \"1590047576933687297\",\n",
      "            \"tag\": \"election\"\n",
      "        }\n",
      "    ]\n",
      "}\n",
      "There are: 4 tweets, about 0.2012957993789774 tweets per second.\n"
     ]
    },
    {
     "ename": "KeyboardInterrupt",
     "evalue": "",
     "output_type": "error",
     "traceback": [
      "\u001b[1;31m---------------------------------------------------------------------------\u001b[0m",
      "\u001b[1;31mKeyboardInterrupt\u001b[0m                         Traceback (most recent call last)",
      "Input \u001b[1;32mIn [25]\u001b[0m, in \u001b[0;36m<cell line: 18>\u001b[1;34m()\u001b[0m\n\u001b[0;32m     16\u001b[0m stream\u001b[38;5;241m.\u001b[39madd_rule(data\u001b[38;5;241m=\u001b[39mrule)\n\u001b[0;32m     17\u001b[0m tweetList \u001b[38;5;241m=\u001b[39m []\n\u001b[1;32m---> 18\u001b[0m \u001b[38;5;28;01mfor\u001b[39;00m tweet \u001b[38;5;129;01min\u001b[39;00m stream\u001b[38;5;241m.\u001b[39mconnect():\n\u001b[0;32m     19\u001b[0m     parsedTweet \u001b[38;5;241m=\u001b[39m json\u001b[38;5;241m.\u001b[39mdumps(tweet, indent\u001b[38;5;241m=\u001b[39m\u001b[38;5;241m4\u001b[39m, ensure_ascii\u001b[38;5;241m=\u001b[39m\u001b[38;5;28;01mFalse\u001b[39;00m)\n\u001b[0;32m     20\u001b[0m     tweetList\u001b[38;5;241m.\u001b[39mappend(parsedTweet)\n",
      "File \u001b[1;32m~\\AppData\\Roaming\\Python\\Python39\\site-packages\\twitter_stream.py:105\u001b[0m, in \u001b[0;36mAPI.connect\u001b[1;34m(self)\u001b[0m\n\u001b[0;32m     98\u001b[0m response \u001b[38;5;241m=\u001b[39m \u001b[38;5;28mself\u001b[39m\u001b[38;5;241m.\u001b[39mapi(\n\u001b[0;32m     99\u001b[0m     method\u001b[38;5;241m=\u001b[39m\u001b[38;5;124m\"\u001b[39m\u001b[38;5;124mGET\u001b[39m\u001b[38;5;124m\"\u001b[39m,\n\u001b[0;32m    100\u001b[0m     endpoint\u001b[38;5;241m=\u001b[39m\u001b[38;5;28mself\u001b[39m\u001b[38;5;241m.\u001b[39m_endpoint,\n\u001b[0;32m    101\u001b[0m     stream\u001b[38;5;241m=\u001b[39m\u001b[38;5;28mself\u001b[39m\u001b[38;5;241m.\u001b[39m_stream,\n\u001b[0;32m    102\u001b[0m     params\u001b[38;5;241m=\u001b[39m\u001b[38;5;28mself\u001b[39m\u001b[38;5;241m.\u001b[39m_params,\n\u001b[0;32m    103\u001b[0m )\n\u001b[0;32m    104\u001b[0m response\u001b[38;5;241m.\u001b[39mraise_for_status()\n\u001b[1;32m--> 105\u001b[0m \u001b[38;5;28;01mfor\u001b[39;00m response_lines \u001b[38;5;129;01min\u001b[39;00m response\u001b[38;5;241m.\u001b[39miter_lines():\n\u001b[0;32m    106\u001b[0m     \u001b[38;5;66;03m# Twitter streaming API will send an empty line At least every 20 seconds to keep the connection open\u001b[39;00m\n\u001b[0;32m    107\u001b[0m     \u001b[38;5;28;01mif\u001b[39;00m \u001b[38;5;28mlen\u001b[39m(response_lines) \u001b[38;5;241m==\u001b[39m \u001b[38;5;241m0\u001b[39m:\n\u001b[0;32m    108\u001b[0m         \u001b[38;5;28;01mcontinue\u001b[39;00m\n",
      "File \u001b[1;32m~\\AppData\\Roaming\\Python\\Python39\\site-packages\\requests\\models.py:797\u001b[0m, in \u001b[0;36mResponse.iter_lines\u001b[1;34m(self, chunk_size, decode_unicode, delimiter)\u001b[0m\n\u001b[0;32m    788\u001b[0m \u001b[38;5;124;03m\"\"\"Iterates over the response data, one line at a time.  When\u001b[39;00m\n\u001b[0;32m    789\u001b[0m \u001b[38;5;124;03mstream=True is set on the request, this avoids reading the\u001b[39;00m\n\u001b[0;32m    790\u001b[0m \u001b[38;5;124;03mcontent at once into memory for large responses.\u001b[39;00m\n\u001b[0;32m    791\u001b[0m \n\u001b[0;32m    792\u001b[0m \u001b[38;5;124;03m.. note:: This method is not reentrant safe.\u001b[39;00m\n\u001b[0;32m    793\u001b[0m \u001b[38;5;124;03m\"\"\"\u001b[39;00m\n\u001b[0;32m    795\u001b[0m pending \u001b[38;5;241m=\u001b[39m \u001b[38;5;28;01mNone\u001b[39;00m\n\u001b[1;32m--> 797\u001b[0m \u001b[38;5;28;01mfor\u001b[39;00m chunk \u001b[38;5;129;01min\u001b[39;00m \u001b[38;5;28mself\u001b[39m\u001b[38;5;241m.\u001b[39miter_content(chunk_size\u001b[38;5;241m=\u001b[39mchunk_size, decode_unicode\u001b[38;5;241m=\u001b[39mdecode_unicode):\n\u001b[0;32m    799\u001b[0m     \u001b[38;5;28;01mif\u001b[39;00m pending \u001b[38;5;129;01mis\u001b[39;00m \u001b[38;5;129;01mnot\u001b[39;00m \u001b[38;5;28;01mNone\u001b[39;00m:\n\u001b[0;32m    800\u001b[0m         chunk \u001b[38;5;241m=\u001b[39m pending \u001b[38;5;241m+\u001b[39m chunk\n",
      "File \u001b[1;32m~\\AppData\\Roaming\\Python\\Python39\\site-packages\\requests\\models.py:753\u001b[0m, in \u001b[0;36mResponse.iter_content.<locals>.generate\u001b[1;34m()\u001b[0m\n\u001b[0;32m    751\u001b[0m \u001b[38;5;28;01mif\u001b[39;00m \u001b[38;5;28mhasattr\u001b[39m(\u001b[38;5;28mself\u001b[39m\u001b[38;5;241m.\u001b[39mraw, \u001b[38;5;124m'\u001b[39m\u001b[38;5;124mstream\u001b[39m\u001b[38;5;124m'\u001b[39m):\n\u001b[0;32m    752\u001b[0m     \u001b[38;5;28;01mtry\u001b[39;00m:\n\u001b[1;32m--> 753\u001b[0m         \u001b[38;5;28;01mfor\u001b[39;00m chunk \u001b[38;5;129;01min\u001b[39;00m \u001b[38;5;28mself\u001b[39m\u001b[38;5;241m.\u001b[39mraw\u001b[38;5;241m.\u001b[39mstream(chunk_size, decode_content\u001b[38;5;241m=\u001b[39m\u001b[38;5;28;01mTrue\u001b[39;00m):\n\u001b[0;32m    754\u001b[0m             \u001b[38;5;28;01myield\u001b[39;00m chunk\n\u001b[0;32m    755\u001b[0m     \u001b[38;5;28;01mexcept\u001b[39;00m ProtocolError \u001b[38;5;28;01mas\u001b[39;00m e:\n",
      "File \u001b[1;32mC:\\ProgramData\\Anaconda3\\lib\\site-packages\\urllib3\\response.py:575\u001b[0m, in \u001b[0;36mHTTPResponse.stream\u001b[1;34m(self, amt, decode_content)\u001b[0m\n\u001b[0;32m    559\u001b[0m \u001b[38;5;124;03m\"\"\"\u001b[39;00m\n\u001b[0;32m    560\u001b[0m \u001b[38;5;124;03mA generator wrapper for the read() method. A call will block until\u001b[39;00m\n\u001b[0;32m    561\u001b[0m \u001b[38;5;124;03m``amt`` bytes have been read from the connection or until the\u001b[39;00m\n\u001b[1;32m   (...)\u001b[0m\n\u001b[0;32m    572\u001b[0m \u001b[38;5;124;03m    'content-encoding' header.\u001b[39;00m\n\u001b[0;32m    573\u001b[0m \u001b[38;5;124;03m\"\"\"\u001b[39;00m\n\u001b[0;32m    574\u001b[0m \u001b[38;5;28;01mif\u001b[39;00m \u001b[38;5;28mself\u001b[39m\u001b[38;5;241m.\u001b[39mchunked \u001b[38;5;129;01mand\u001b[39;00m \u001b[38;5;28mself\u001b[39m\u001b[38;5;241m.\u001b[39msupports_chunked_reads():\n\u001b[1;32m--> 575\u001b[0m     \u001b[38;5;28;01mfor\u001b[39;00m line \u001b[38;5;129;01min\u001b[39;00m \u001b[38;5;28mself\u001b[39m\u001b[38;5;241m.\u001b[39mread_chunked(amt, decode_content\u001b[38;5;241m=\u001b[39mdecode_content):\n\u001b[0;32m    576\u001b[0m         \u001b[38;5;28;01myield\u001b[39;00m line\n\u001b[0;32m    577\u001b[0m \u001b[38;5;28;01melse\u001b[39;00m:\n",
      "File \u001b[1;32mC:\\ProgramData\\Anaconda3\\lib\\site-packages\\urllib3\\response.py:767\u001b[0m, in \u001b[0;36mHTTPResponse.read_chunked\u001b[1;34m(self, amt, decode_content)\u001b[0m\n\u001b[0;32m    764\u001b[0m     \u001b[38;5;28;01mreturn\u001b[39;00m\n\u001b[0;32m    766\u001b[0m \u001b[38;5;28;01mwhile\u001b[39;00m \u001b[38;5;28;01mTrue\u001b[39;00m:\n\u001b[1;32m--> 767\u001b[0m     \u001b[38;5;28;43mself\u001b[39;49m\u001b[38;5;241;43m.\u001b[39;49m\u001b[43m_update_chunk_length\u001b[49m\u001b[43m(\u001b[49m\u001b[43m)\u001b[49m\n\u001b[0;32m    768\u001b[0m     \u001b[38;5;28;01mif\u001b[39;00m \u001b[38;5;28mself\u001b[39m\u001b[38;5;241m.\u001b[39mchunk_left \u001b[38;5;241m==\u001b[39m \u001b[38;5;241m0\u001b[39m:\n\u001b[0;32m    769\u001b[0m         \u001b[38;5;28;01mbreak\u001b[39;00m\n",
      "File \u001b[1;32mC:\\ProgramData\\Anaconda3\\lib\\site-packages\\urllib3\\response.py:697\u001b[0m, in \u001b[0;36mHTTPResponse._update_chunk_length\u001b[1;34m(self)\u001b[0m\n\u001b[0;32m    695\u001b[0m \u001b[38;5;28;01mif\u001b[39;00m \u001b[38;5;28mself\u001b[39m\u001b[38;5;241m.\u001b[39mchunk_left \u001b[38;5;129;01mis\u001b[39;00m \u001b[38;5;129;01mnot\u001b[39;00m \u001b[38;5;28;01mNone\u001b[39;00m:\n\u001b[0;32m    696\u001b[0m     \u001b[38;5;28;01mreturn\u001b[39;00m\n\u001b[1;32m--> 697\u001b[0m line \u001b[38;5;241m=\u001b[39m \u001b[38;5;28;43mself\u001b[39;49m\u001b[38;5;241;43m.\u001b[39;49m\u001b[43m_fp\u001b[49m\u001b[38;5;241;43m.\u001b[39;49m\u001b[43mfp\u001b[49m\u001b[38;5;241;43m.\u001b[39;49m\u001b[43mreadline\u001b[49m\u001b[43m(\u001b[49m\u001b[43m)\u001b[49m\n\u001b[0;32m    698\u001b[0m line \u001b[38;5;241m=\u001b[39m line\u001b[38;5;241m.\u001b[39msplit(\u001b[38;5;124mb\u001b[39m\u001b[38;5;124m\"\u001b[39m\u001b[38;5;124m;\u001b[39m\u001b[38;5;124m\"\u001b[39m, \u001b[38;5;241m1\u001b[39m)[\u001b[38;5;241m0\u001b[39m]\n\u001b[0;32m    699\u001b[0m \u001b[38;5;28;01mtry\u001b[39;00m:\n",
      "File \u001b[1;32mC:\\ProgramData\\Anaconda3\\lib\\socket.py:704\u001b[0m, in \u001b[0;36mSocketIO.readinto\u001b[1;34m(self, b)\u001b[0m\n\u001b[0;32m    702\u001b[0m \u001b[38;5;28;01mwhile\u001b[39;00m \u001b[38;5;28;01mTrue\u001b[39;00m:\n\u001b[0;32m    703\u001b[0m     \u001b[38;5;28;01mtry\u001b[39;00m:\n\u001b[1;32m--> 704\u001b[0m         \u001b[38;5;28;01mreturn\u001b[39;00m \u001b[38;5;28;43mself\u001b[39;49m\u001b[38;5;241;43m.\u001b[39;49m\u001b[43m_sock\u001b[49m\u001b[38;5;241;43m.\u001b[39;49m\u001b[43mrecv_into\u001b[49m\u001b[43m(\u001b[49m\u001b[43mb\u001b[49m\u001b[43m)\u001b[49m\n\u001b[0;32m    705\u001b[0m     \u001b[38;5;28;01mexcept\u001b[39;00m timeout:\n\u001b[0;32m    706\u001b[0m         \u001b[38;5;28mself\u001b[39m\u001b[38;5;241m.\u001b[39m_timeout_occurred \u001b[38;5;241m=\u001b[39m \u001b[38;5;28;01mTrue\u001b[39;00m\n",
      "File \u001b[1;32mC:\\ProgramData\\Anaconda3\\lib\\ssl.py:1241\u001b[0m, in \u001b[0;36mSSLSocket.recv_into\u001b[1;34m(self, buffer, nbytes, flags)\u001b[0m\n\u001b[0;32m   1237\u001b[0m     \u001b[38;5;28;01mif\u001b[39;00m flags \u001b[38;5;241m!=\u001b[39m \u001b[38;5;241m0\u001b[39m:\n\u001b[0;32m   1238\u001b[0m         \u001b[38;5;28;01mraise\u001b[39;00m \u001b[38;5;167;01mValueError\u001b[39;00m(\n\u001b[0;32m   1239\u001b[0m           \u001b[38;5;124m\"\u001b[39m\u001b[38;5;124mnon-zero flags not allowed in calls to recv_into() on \u001b[39m\u001b[38;5;132;01m%s\u001b[39;00m\u001b[38;5;124m\"\u001b[39m \u001b[38;5;241m%\u001b[39m\n\u001b[0;32m   1240\u001b[0m           \u001b[38;5;28mself\u001b[39m\u001b[38;5;241m.\u001b[39m\u001b[38;5;18m__class__\u001b[39m)\n\u001b[1;32m-> 1241\u001b[0m     \u001b[38;5;28;01mreturn\u001b[39;00m \u001b[38;5;28;43mself\u001b[39;49m\u001b[38;5;241;43m.\u001b[39;49m\u001b[43mread\u001b[49m\u001b[43m(\u001b[49m\u001b[43mnbytes\u001b[49m\u001b[43m,\u001b[49m\u001b[43m \u001b[49m\u001b[43mbuffer\u001b[49m\u001b[43m)\u001b[49m\n\u001b[0;32m   1242\u001b[0m \u001b[38;5;28;01melse\u001b[39;00m:\n\u001b[0;32m   1243\u001b[0m     \u001b[38;5;28;01mreturn\u001b[39;00m \u001b[38;5;28msuper\u001b[39m()\u001b[38;5;241m.\u001b[39mrecv_into(buffer, nbytes, flags)\n",
      "File \u001b[1;32mC:\\ProgramData\\Anaconda3\\lib\\ssl.py:1099\u001b[0m, in \u001b[0;36mSSLSocket.read\u001b[1;34m(self, len, buffer)\u001b[0m\n\u001b[0;32m   1097\u001b[0m \u001b[38;5;28;01mtry\u001b[39;00m:\n\u001b[0;32m   1098\u001b[0m     \u001b[38;5;28;01mif\u001b[39;00m buffer \u001b[38;5;129;01mis\u001b[39;00m \u001b[38;5;129;01mnot\u001b[39;00m \u001b[38;5;28;01mNone\u001b[39;00m:\n\u001b[1;32m-> 1099\u001b[0m         \u001b[38;5;28;01mreturn\u001b[39;00m \u001b[38;5;28;43mself\u001b[39;49m\u001b[38;5;241;43m.\u001b[39;49m\u001b[43m_sslobj\u001b[49m\u001b[38;5;241;43m.\u001b[39;49m\u001b[43mread\u001b[49m\u001b[43m(\u001b[49m\u001b[38;5;28;43mlen\u001b[39;49m\u001b[43m,\u001b[49m\u001b[43m \u001b[49m\u001b[43mbuffer\u001b[49m\u001b[43m)\u001b[49m\n\u001b[0;32m   1100\u001b[0m     \u001b[38;5;28;01melse\u001b[39;00m:\n\u001b[0;32m   1101\u001b[0m         \u001b[38;5;28;01mreturn\u001b[39;00m \u001b[38;5;28mself\u001b[39m\u001b[38;5;241m.\u001b[39m_sslobj\u001b[38;5;241m.\u001b[39mread(\u001b[38;5;28mlen\u001b[39m)\n",
      "\u001b[1;31mKeyboardInterrupt\u001b[0m: "
     ]
    }
   ],
   "source": [
    "# import json\n",
    "from twitter_stream import FilteredStream\n",
    "from time import time\n",
    "\n",
    "start = time()\n",
    "stream = FilteredStream()\n",
    "rule = {\n",
    "    \"add\" : [\n",
    "        {\n",
    "            \"value\": '\"World Cup\" -is:retweet ', \n",
    "             \"tag\": \"soccer\"\n",
    "        }\n",
    "    ]\n",
    "}\n",
    "\n",
    "stream.add_rule(data=rule)\n",
    "tweetList = []\n",
    "for tweet in stream.connect():\n",
    "    parsedTweet = json.dumps(tweet, indent=4, ensure_ascii=False)\n",
    "    tweetList.append(parsedTweet)\n",
    "    print(parsedTweet)\n",
    "    print(f\"There are: {len(tweetList)} tweets, about {len(tweetList)/(time()-start)} tweets per second.\")"
   ]
  },
  {
   "cell_type": "code",
   "execution_count": 26,
   "id": "fa0b3ee6",
   "metadata": {
    "ExecuteTime": {
     "end_time": "2022-12-05T21:31:51.646583Z",
     "start_time": "2022-12-05T21:31:51.642579Z"
    }
   },
   "outputs": [
    {
     "data": {
      "text/plain": [
       "['{\\n    \"data\": {\\n        \"edit_history_tweet_ids\": [\\n            \"1599879003124662272\"\\n        ],\\n        \"id\": \"1599879003124662272\",\\n        \"text\": \"RT @americamag: .@DanLipinski: Pro-life politicians should rally around a 15-week abortion ban \\\\nhttps://t.co/aO6rGlk8mX\"\\n    },\\n    \"matching_rules\": [\\n        {\\n            \"id\": \"1590047576933687297\",\\n            \"tag\": \"election\"\\n        }\\n    ]\\n}',\n",
       " '{\\n    \"data\": {\\n        \"edit_history_tweet_ids\": [\\n            \"1599879020405223425\"\\n        ],\\n        \"id\": \"1599879020405223425\",\\n        \"text\": \"@AdellaLandstrom You’re right. I have to keep remembering that. It has been tough after the way people voted in the midterms. I don’t have much hope for Herschel Walker\"\\n    },\\n    \"matching_rules\": [\\n        {\\n            \"id\": \"1590047576933687297\",\\n            \"tag\": \"election\"\\n        }\\n    ]\\n}',\n",
       " '{\\n    \"data\": {\\n        \"edit_history_tweet_ids\": [\\n            \"1599879032710959104\"\\n        ],\\n        \"id\": \"1599879032710959104\",\\n        \"text\": \"RT @harrisonjaime: .@SenRickScott said he doesn’t regret his extreme plan to put Social Security and Medicare on the chopping block “one bi…\"\\n    },\\n    \"matching_rules\": [\\n        {\\n            \"id\": \"1590047576933687297\",\\n            \"tag\": \"election\"\\n        }\\n    ]\\n}',\n",
       " '{\\n    \"data\": {\\n        \"edit_history_tweet_ids\": [\\n            \"1599879045575069697\"\\n        ],\\n        \"id\": \"1599879045575069697\",\\n        \"text\": \"@MiamiHerald Even the GOP found out he\\'s a thief.\"\\n    },\\n    \"matching_rules\": [\\n        {\\n            \"id\": \"1590047576933687297\",\\n            \"tag\": \"election\"\\n        }\\n    ]\\n}']"
      ]
     },
     "execution_count": 26,
     "metadata": {},
     "output_type": "execute_result"
    }
   ],
   "source": [
    "tweetList"
   ]
  },
  {
   "cell_type": "code",
   "execution_count": null,
   "id": "caa8176b",
   "metadata": {},
   "outputs": [],
   "source": []
  }
 ],
 "metadata": {
  "kernelspec": {
   "display_name": "Python 3 (ipykernel)",
   "language": "python",
   "name": "python3"
  },
  "language_info": {
   "codemirror_mode": {
    "name": "ipython",
    "version": 3
   },
   "file_extension": ".py",
   "mimetype": "text/x-python",
   "name": "python",
   "nbconvert_exporter": "python",
   "pygments_lexer": "ipython3",
   "version": "3.9.12"
  }
 },
 "nbformat": 4,
 "nbformat_minor": 5
}
