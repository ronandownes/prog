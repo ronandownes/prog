{
 "cells": [
  {
   "cell_type": "markdown",
   "id": "05cc2131",
   "metadata": {},
   "source": [
    " \n",
    " ## identity comparison\n",
    " In Python, \"is\" is a keyword used for identity comparison. It is used to check whether two variables refer to the same object in memory. This is different from the \"==\" operator, which is used for value comparison and checks if the contents of the variables are equal.\n",
    "\n",
    "Let's dive into more detail about the \"is\" keyword:\n",
    "\n",
    "1. Identity comparison using \"is\":\n",
    "When you use the \"is\" keyword, Python checks if both variables point to the same memory location, meaning they refer to the same object. If they do, the \"is\" comparison returns True; otherwise, it returns False.\n",
    "\n",
    "Example:\n",
    "\n",
    "```python\n",
    "# Integers\n",
    "a = 5\n",
    "b = 5\n",
    "print(a is b)  # True, as integers are immutable and small integers are cached in memory.\n",
    "\n",
    "# Lists\n",
    "list1 = [1, 2, 3]\n",
    "list2 = list1\n",
    "print(list1 is list2)  # True, as both variables refer to the same list object in memory.\n",
    "\n",
    "list3 = [1, 2, 3]\n",
    "print(list1 is list3)  # False, even if the contents are the same, they are different objects.\n",
    "\n",
    "# Strings\n",
    "str1 = \"hello\"\n",
    "str2 = \"hello\"\n",
    "print(str1 is str2)  # True, as strings are immutable and small strings are cached in memory.\n",
    "\n",
    "str3 = \"world\"\n",
    "print(str1 is str3)  # False, they are different string objects.\n",
    "```\n",
    "\n",
    "2. \"is not\" keyword:\n",
    "Python also provides the \"is not\" keyword, which is the negation of the \"is\" keyword. It returns True if the two variables do not refer to the same object.\n",
    "\n",
    "Example:\n",
    "\n",
    "```python\n",
    "a = 10\n",
    "b = 20\n",
    "print(a is not b)  # True, as a and b are different objects.\n",
    "\n",
    "str1 = \"hello\"\n",
    "str2 = \"world\"\n",
    "print(str1 is not str2)  # True, they are different string objects.\n",
    "```\n",
    "\n",
    "It's essential to understand the difference between \"is\" and \"==\":\n",
    "\n",
    "- \"is\" is used for identity comparison, checking if two variables refer to the same object.\n",
    "- \"==\" is used for value comparison, checking if the contents of the variables are equal.\n",
    "\n",
    "In most cases, you'll want to use \"==\" for comparing values, while \"is\" is used to check for identical objects, like when comparing variables with the value `None`.\n",
    "\n",
    "Example:\n",
    "\n",
    "```python\n",
    "x = [1, 2, 3]\n",
    "y = x\n",
    "\n",
    "if x is y:\n",
    "    print(\"x and y refer to the same object\")\n",
    "\n",
    "if x == y:\n",
    "    print(\"x and y have the same content\")\n",
    "```\n",
    "\n",
    "I hope this clarifies the usage of \"is\" in Python! If you have any more questions or need further clarification, feel free to ask. Happy coding!"
   ]
  },
  {
   "cell_type": "code",
   "execution_count": 1,
   "id": "474465ac",
   "metadata": {},
   "outputs": [
    {
     "name": "stdout",
     "output_type": "stream",
     "text": [
      "True\n",
      "True\n",
      "False\n",
      "True\n",
      "False\n"
     ]
    }
   ],
   "source": [
    "# Integers\n",
    "a = 5\n",
    "b = 5\n",
    "print(a is b)  # True, as integers are immutable \n",
    "# and small integers are cached in memory.\n",
    "\n",
    "# Lists\n",
    "list1 = [1, 2, 3]\n",
    "list2 = list1\n",
    "print(list1 is list2)  # True, as both variables refer to the same list object in memory.\n",
    "\n",
    "list3 = [1, 2, 3]\n",
    "print(list1 is list3)  # False, even if the contents are the same,\n",
    "#they are different objects.\n",
    "\n",
    "# Strings\n",
    "str1 = \"hello\"\n",
    "str2 = \"hello\"\n",
    "print(str1 is str2)  # True, as strings are immutable \n",
    "#and small strings are cached in memory.\n",
    "\n",
    "str3 = \"world\"\n",
    "print(str1 is str3)  # False, they are different string objects.\n"
   ]
  },
  {
   "cell_type": "code",
   "execution_count": 2,
   "id": "29df9be1",
   "metadata": {},
   "outputs": [
    {
     "name": "stdout",
     "output_type": "stream",
     "text": [
      "True\n",
      "True\n"
     ]
    }
   ],
   "source": [
    "a = 10\n",
    "b = 20\n",
    "print(a is not b)  # True, as a and b are different objects.\n",
    "\n",
    "str1 = \"hello\"\n",
    "str2 = \"world\"\n",
    "print(str1 is not str2)  # True, they are different string objects.\n"
   ]
  },
  {
   "cell_type": "code",
   "execution_count": 3,
   "id": "1991bf79",
   "metadata": {},
   "outputs": [
    {
     "name": "stdout",
     "output_type": "stream",
     "text": [
      "x and y refer to the same object\n",
      "x and y have the same content\n"
     ]
    }
   ],
   "source": [
    "x = [1, 2, 3]\n",
    "y = x\n",
    "\n",
    "if x is y:\n",
    "    print(\"x and y refer to the same object\")\n",
    "\n",
    "if x == y:\n",
    "    print(\"x and y have the same content\")\n"
   ]
  },
  {
   "cell_type": "code",
   "execution_count": 4,
   "id": "eac2cfd7",
   "metadata": {},
   "outputs": [
    {
     "name": "stdout",
     "output_type": "stream",
     "text": [
      "x and y have the same content\n"
     ]
    }
   ],
   "source": [
    "x =2\n",
    "y = 6/3\n",
    "\n",
    "if x is y:\n",
    "    print(\"x and y refer to the same object\")\n",
    "\n",
    "if x == y:\n",
    "    print(\"x and y have the same content\")\n"
   ]
  },
  {
   "cell_type": "code",
   "execution_count": 5,
   "id": "61e787e5",
   "metadata": {},
   "outputs": [
    {
     "name": "stdout",
     "output_type": "stream",
     "text": [
      "x and y refer to the same object\n",
      "x and y have the same content\n"
     ]
    }
   ],
   "source": [
    "x = \"yes\"\n",
    "y =\"yes\"\n",
    "\n",
    "if x is y:\n",
    "    print(\"x and y refer to the same object\")\n",
    "\n",
    "if x == y:\n",
    "    print(\"x and y have the same content\")\n"
   ]
  },
  {
   "cell_type": "code",
   "execution_count": 6,
   "id": "674a26cf",
   "metadata": {},
   "outputs": [
    {
     "name": "stdout",
     "output_type": "stream",
     "text": [
      "x and y refer to the same object\n",
      "x and y have the same content\n"
     ]
    }
   ],
   "source": [
    "x = 8\n",
    "y = 8\n",
    "\n",
    "if x is y:\n",
    "    print(\"x and y refer to the same object\")\n",
    "\n",
    "if x == y:\n",
    "    print(\"x and y have the same content\")\n"
   ]
  },
  {
   "cell_type": "code",
   "execution_count": null,
   "id": "ae51ff64",
   "metadata": {},
   "outputs": [],
   "source": []
  }
 ],
 "metadata": {
  "kernelspec": {
   "display_name": "Python 3 (ipykernel)",
   "language": "python",
   "name": "python3"
  },
  "language_info": {
   "codemirror_mode": {
    "name": "ipython",
    "version": 3
   },
   "file_extension": ".py",
   "mimetype": "text/x-python",
   "name": "python",
   "nbconvert_exporter": "python",
   "pygments_lexer": "ipython3",
   "version": "3.9.13"
  },
  "toc": {
   "base_numbering": 1,
   "nav_menu": {},
   "number_sections": true,
   "sideBar": true,
   "skip_h1_title": true,
   "title_cell": "Table of Contents",
   "title_sidebar": "Contents",
   "toc_cell": false,
   "toc_position": {},
   "toc_section_display": true,
   "toc_window_display": true
  }
 },
 "nbformat": 4,
 "nbformat_minor": 5
}
