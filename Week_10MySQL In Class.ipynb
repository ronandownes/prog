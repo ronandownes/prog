{
 "cells": [
  {
   "cell_type": "code",
   "execution_count": null,
   "id": "1121cb5b",
   "metadata": {
    "ExecuteTime": {
     "end_time": "2022-11-21T21:00:53.664463Z",
     "start_time": "2022-11-21T21:00:48.297161Z"
    }
   },
   "outputs": [],
   "source": [
    "#!pip install mysql-connector-python"
   ]
  },
  {
   "cell_type": "code",
   "execution_count": 1,
   "id": "9de33898",
   "metadata": {
    "ExecuteTime": {
     "end_time": "2022-11-21T21:36:29.128416Z",
     "start_time": "2022-11-21T21:36:29.098390Z"
    }
   },
   "outputs": [],
   "source": [
    "import mysql.connector"
   ]
  },
  {
   "cell_type": "code",
   "execution_count": null,
   "id": "79255b20",
   "metadata": {
    "ExecuteTime": {
     "end_time": "2022-11-21T21:02:50.698971Z",
     "start_time": "2022-11-21T21:02:50.648928Z"
    }
   },
   "outputs": [],
   "source": [
    "db = mysql.connector.connect(\n",
    "    host=\"localhost\",\n",
    "    user=\"pda2022\", #root\n",
    "    password=\"pda2022\"\n",
    ")"
   ]
  },
  {
   "cell_type": "code",
   "execution_count": null,
   "id": "e1fb62a9",
   "metadata": {
    "ExecuteTime": {
     "end_time": "2022-11-21T21:02:56.401776Z",
     "start_time": "2022-11-21T21:02:56.391767Z"
    }
   },
   "outputs": [],
   "source": [
    "print(db)"
   ]
  },
  {
   "cell_type": "code",
   "execution_count": null,
   "id": "d2717a91",
   "metadata": {
    "ExecuteTime": {
     "end_time": "2022-11-21T21:04:53.616932Z",
     "start_time": "2022-11-21T21:04:53.607923Z"
    }
   },
   "outputs": [],
   "source": [
    "conn = db.cursor()\n",
    "\n",
    "#conn.execute(\"CREATE DATABASE students;\")\n",
    "conn.execute(\"CREATE DATABASE IF NOT EXISTS students;\")"
   ]
  },
  {
   "cell_type": "code",
   "execution_count": null,
   "id": "424cf713",
   "metadata": {
    "ExecuteTime": {
     "end_time": "2022-11-21T21:06:20.089865Z",
     "start_time": "2022-11-21T21:06:20.071849Z"
    }
   },
   "outputs": [],
   "source": [
    "conn.execute(\"SHOW DATABASES;\")"
   ]
  },
  {
   "cell_type": "code",
   "execution_count": null,
   "id": "112b319c",
   "metadata": {
    "ExecuteTime": {
     "end_time": "2022-11-21T21:06:51.332969Z",
     "start_time": "2022-11-21T21:06:50.552447Z"
    }
   },
   "outputs": [],
   "source": [
    "#conn.execute(\"SHOW DATABASES;\")"
   ]
  },
  {
   "cell_type": "code",
   "execution_count": null,
   "id": "4f683690",
   "metadata": {
    "ExecuteTime": {
     "end_time": "2022-11-21T21:07:09.533132Z",
     "start_time": "2022-11-21T21:07:09.529128Z"
    }
   },
   "outputs": [],
   "source": [
    "for result in conn:\n",
    "    print(result)"
   ]
  },
  {
   "cell_type": "code",
   "execution_count": null,
   "id": "dd140ec7",
   "metadata": {
    "ExecuteTime": {
     "end_time": "2022-11-21T21:13:21.434473Z",
     "start_time": "2022-11-21T21:13:21.416459Z"
    }
   },
   "outputs": [],
   "source": [
    "conn.execute(\"USE students;\")"
   ]
  },
  {
   "cell_type": "code",
   "execution_count": null,
   "id": "904971eb",
   "metadata": {
    "ExecuteTime": {
     "end_time": "2022-11-21T21:16:40.135404Z",
     "start_time": "2022-11-21T21:16:40.105377Z"
    }
   },
   "outputs": [],
   "source": [
    "db = mysql.connector.connect(\n",
    "    host=\"localhost\",\n",
    "    user=\"pda2022\", #root\n",
    "    password=\"pda2022\",\n",
    "    database=\"students\",\n",
    ")\n",
    "print(db)\n",
    "conn = db.cursor()"
   ]
  },
  {
   "cell_type": "code",
   "execution_count": null,
   "id": "9fba8ff5",
   "metadata": {
    "ExecuteTime": {
     "end_time": "2022-11-21T21:17:10.532851Z",
     "start_time": "2022-11-21T21:17:10.504825Z"
    }
   },
   "outputs": [],
   "source": [
    "conn.execute(\"CREATE TABLE test (id INT);\")"
   ]
  },
  {
   "cell_type": "code",
   "execution_count": null,
   "id": "fed23d03",
   "metadata": {
    "ExecuteTime": {
     "end_time": "2022-11-21T21:20:21.312952Z",
     "start_time": "2022-11-21T21:20:21.288635Z"
    }
   },
   "outputs": [],
   "source": [
    "conn.execute(\"CREATE TABLE students (name VARCHAR(255), age INT, studentNum INT NOT NULL PRIMARY KEY);\")"
   ]
  },
  {
   "cell_type": "code",
   "execution_count": null,
   "id": "65ef7c41",
   "metadata": {
    "ExecuteTime": {
     "end_time": "2022-11-21T21:21:31.304691Z",
     "start_time": "2022-11-21T21:21:31.288676Z"
    }
   },
   "outputs": [],
   "source": [
    "conn.execute(\"SHOW TABLES;\")"
   ]
  },
  {
   "cell_type": "code",
   "execution_count": null,
   "id": "bfd9697b",
   "metadata": {
    "ExecuteTime": {
     "end_time": "2022-11-21T21:21:40.520648Z",
     "start_time": "2022-11-21T21:21:40.504814Z"
    }
   },
   "outputs": [],
   "source": [
    "for result in conn:\n",
    "    print(result)"
   ]
  },
  {
   "cell_type": "code",
   "execution_count": null,
   "id": "87a1e350",
   "metadata": {
    "ExecuteTime": {
     "end_time": "2022-11-21T21:22:20.873586Z",
     "start_time": "2022-11-21T21:22:20.857573Z"
    }
   },
   "outputs": [],
   "source": [
    "conn.execute(\"DROP TABLE students\")"
   ]
  },
  {
   "cell_type": "code",
   "execution_count": null,
   "id": "8d071011",
   "metadata": {
    "ExecuteTime": {
     "end_time": "2022-11-21T21:22:29.947939Z",
     "start_time": "2022-11-21T21:22:29.928922Z"
    }
   },
   "outputs": [],
   "source": [
    "conn.execute(\"SHOW TABLES;\")\n",
    "for result in conn:\n",
    "    print(result)"
   ]
  },
  {
   "cell_type": "code",
   "execution_count": null,
   "id": "f45da2f4",
   "metadata": {
    "ExecuteTime": {
     "end_time": "2022-11-21T21:22:42.347732Z",
     "start_time": "2022-11-21T21:22:42.329715Z"
    }
   },
   "outputs": [],
   "source": [
    "conn.execute(\"CREATE TABLE students (name VARCHAR(255), age INT, studentNum INT NOT NULL PRIMARY KEY);\")"
   ]
  },
  {
   "cell_type": "code",
   "execution_count": null,
   "id": "e28ea065",
   "metadata": {
    "ExecuteTime": {
     "end_time": "2022-11-21T21:22:54.680736Z",
     "start_time": "2022-11-21T21:22:54.665721Z"
    }
   },
   "outputs": [],
   "source": [
    "conn.execute(\"SHOW TABLES;\")\n",
    "for result in conn:\n",
    "    print(result)"
   ]
  },
  {
   "cell_type": "code",
   "execution_count": null,
   "id": "fdcc700d",
   "metadata": {
    "ExecuteTime": {
     "end_time": "2022-11-21T21:23:51.935993Z",
     "start_time": "2022-11-21T21:23:51.849915Z"
    }
   },
   "outputs": [],
   "source": [
    "conn.execute(\"INSERT INTO students (name, age, studentNum) VALUES (Joe, 40, 123);\")"
   ]
  },
  {
   "cell_type": "code",
   "execution_count": null,
   "id": "f896780a",
   "metadata": {
    "ExecuteTime": {
     "end_time": "2022-11-21T21:24:26.876776Z",
     "start_time": "2022-11-21T21:24:26.873774Z"
    }
   },
   "outputs": [],
   "source": [
    "conn.execute(\"INSERT INTO students (name, age, studentNum) VALUES ('Joe', 40, 123);\")"
   ]
  },
  {
   "cell_type": "code",
   "execution_count": null,
   "id": "6466fe13",
   "metadata": {
    "ExecuteTime": {
     "end_time": "2022-11-21T21:24:45.819016Z",
     "start_time": "2022-11-21T21:24:45.802001Z"
    }
   },
   "outputs": [],
   "source": [
    "# Joe\n",
    "# 'Joe'"
   ]
  },
  {
   "cell_type": "code",
   "execution_count": null,
   "id": "201f4885",
   "metadata": {
    "ExecuteTime": {
     "end_time": "2022-11-21T21:25:36.855165Z",
     "start_time": "2022-11-21T21:25:36.827140Z"
    }
   },
   "outputs": [],
   "source": [
    "db = mysql.connector.connect(\n",
    "    host=\"localhost\",\n",
    "    user=\"pda2022\", #root\n",
    "    password=\"pda2022\",\n",
    "    database=\"students\",\n",
    ")\n",
    "print(db)\n",
    "conn = db.cursor()"
   ]
  },
  {
   "cell_type": "code",
   "execution_count": null,
   "id": "fba86cf7",
   "metadata": {
    "ExecuteTime": {
     "end_time": "2022-11-21T21:26:14.495713Z",
     "start_time": "2022-11-21T21:26:14.457835Z"
    }
   },
   "outputs": [],
   "source": [
    "conn.execute(\"SELECT * FROM students;\")\n",
    "for result in conn:\n",
    "    print(result)"
   ]
  },
  {
   "cell_type": "code",
   "execution_count": null,
   "id": "fdf5f75a",
   "metadata": {
    "ExecuteTime": {
     "end_time": "2022-11-21T21:27:43.638515Z",
     "start_time": "2022-11-21T21:27:43.638515Z"
    }
   },
   "outputs": [],
   "source": [
    "for result in conn:\n",
    "    print(result)"
   ]
  },
  {
   "cell_type": "code",
   "execution_count": null,
   "id": "d8ab400a",
   "metadata": {
    "ExecuteTime": {
     "end_time": "2022-11-21T21:27:43.637514Z",
     "start_time": "2022-11-21T21:26:52.745855Z"
    }
   },
   "outputs": [],
   "source": [
    "conn.execute(\"INSERT INTO students (name, age, studentNum) VALUES ('Joe', 40, 123);\")"
   ]
  },
  {
   "cell_type": "code",
   "execution_count": 2,
   "id": "36f85130",
   "metadata": {
    "ExecuteTime": {
     "end_time": "2022-11-21T21:36:41.821089Z",
     "start_time": "2022-11-21T21:36:41.787058Z"
    }
   },
   "outputs": [
    {
     "name": "stdout",
     "output_type": "stream",
     "text": [
      "<mysql.connector.connection.MySQLConnection object at 0x00000241B43A4460>\n"
     ]
    }
   ],
   "source": [
    "db = mysql.connector.connect(\n",
    "    host=\"localhost\",\n",
    "    user=\"pda2022\", #root\n",
    "    password=\"pda2022\",\n",
    "    database=\"students\",\n",
    ")\n",
    "print(db)\n",
    "conn = db.cursor()"
   ]
  },
  {
   "cell_type": "code",
   "execution_count": null,
   "id": "dd206e29",
   "metadata": {
    "ExecuteTime": {
     "end_time": "2022-11-21T21:28:04.250558Z",
     "start_time": "2022-11-21T21:28:04.234035Z"
    }
   },
   "outputs": [],
   "source": [
    "conn.execute(\"INSERT INTO students (name, age, studentNum) VALUES ('Joe', 40, 123);\")"
   ]
  },
  {
   "cell_type": "code",
   "execution_count": 3,
   "id": "e824daf0",
   "metadata": {
    "ExecuteTime": {
     "end_time": "2022-11-21T21:37:09.930217Z",
     "start_time": "2022-11-21T21:37:09.914203Z"
    }
   },
   "outputs": [
    {
     "name": "stdout",
     "output_type": "stream",
     "text": [
      "('Joe', 40, 123, None)\n"
     ]
    }
   ],
   "source": [
    "conn.execute(\"SELECT * FROM students;\")\n",
    "for result in conn:\n",
    "    print(result)"
   ]
  },
  {
   "cell_type": "code",
   "execution_count": null,
   "id": "963f8e19",
   "metadata": {
    "ExecuteTime": {
     "end_time": "2022-11-21T21:28:46.916929Z",
     "start_time": "2022-11-21T21:28:46.905919Z"
    }
   },
   "outputs": [],
   "source": [
    "db.commit()"
   ]
  },
  {
   "cell_type": "code",
   "execution_count": null,
   "id": "bfe33a59",
   "metadata": {
    "ExecuteTime": {
     "start_time": "2022-11-21T21:33:42.746Z"
    }
   },
   "outputs": [],
   "source": [
    "conn.execute(\"ALTER TABLE students ADD COLUMN programme VARCHAR(255);\")"
   ]
  },
  {
   "cell_type": "code",
   "execution_count": 4,
   "id": "61dcf5ef",
   "metadata": {
    "ExecuteTime": {
     "end_time": "2022-11-21T21:39:41.471291Z",
     "start_time": "2022-11-21T21:39:41.466286Z"
    }
   },
   "outputs": [],
   "source": [
    "conn.execute(\"UPDATE students SET programme = 'MSc Data Analytics' WHERE studentNum = 123;\")"
   ]
  },
  {
   "cell_type": "code",
   "execution_count": 5,
   "id": "686eef20",
   "metadata": {
    "ExecuteTime": {
     "end_time": "2022-11-21T21:39:50.510294Z",
     "start_time": "2022-11-21T21:39:50.506291Z"
    }
   },
   "outputs": [
    {
     "name": "stdout",
     "output_type": "stream",
     "text": [
      "('Joe', 40, 123, 'MSc Data Analytics')\n"
     ]
    }
   ],
   "source": [
    "conn.execute(\"SELECT * FROM students;\")\n",
    "for result in conn:\n",
    "    print(result)"
   ]
  },
  {
   "cell_type": "code",
   "execution_count": 15,
   "id": "7f62c1b0",
   "metadata": {
    "ExecuteTime": {
     "end_time": "2022-11-21T21:49:15.522119Z",
     "start_time": "2022-11-21T21:49:15.452055Z"
    }
   },
   "outputs": [
    {
     "ename": "IntegrityError",
     "evalue": "1062 (23000): Duplicate entry '125' for key 'students.PRIMARY'",
     "output_type": "error",
     "traceback": [
      "\u001b[1;31m---------------------------------------------------------------------------\u001b[0m",
      "\u001b[1;31mIntegrityError\u001b[0m                            Traceback (most recent call last)",
      "Input \u001b[1;32mIn [15]\u001b[0m, in \u001b[0;36m<cell line: 7>\u001b[1;34m()\u001b[0m\n\u001b[0;32m      1\u001b[0m sql \u001b[38;5;241m=\u001b[39m \u001b[38;5;124m\"\u001b[39m\u001b[38;5;124mINSERT INTO students (name, age, studentNum, programme) VALUES (\u001b[39m\u001b[38;5;132;01m%s\u001b[39;00m\u001b[38;5;124m, \u001b[39m\u001b[38;5;132;01m%s\u001b[39;00m\u001b[38;5;124m, \u001b[39m\u001b[38;5;132;01m%s\u001b[39;00m\u001b[38;5;124m, \u001b[39m\u001b[38;5;132;01m%s\u001b[39;00m\u001b[38;5;124m);\u001b[39m\u001b[38;5;124m\"\u001b[39m\n\u001b[0;32m      2\u001b[0m values \u001b[38;5;241m=\u001b[39m [\n\u001b[0;32m      3\u001b[0m     (\u001b[38;5;124m'\u001b[39m\u001b[38;5;124mAlice\u001b[39m\u001b[38;5;124m'\u001b[39m, \u001b[38;5;241m63\u001b[39m, \u001b[38;5;241m125\u001b[39m, \u001b[38;5;124m'\u001b[39m\u001b[38;5;124mMSc Data Analytics\u001b[39m\u001b[38;5;124m'\u001b[39m),\n\u001b[0;32m      4\u001b[0m     (\u001b[38;5;124m'\u001b[39m\u001b[38;5;124mBob\u001b[39m\u001b[38;5;124m'\u001b[39m, \u001b[38;5;241m47\u001b[39m, \u001b[38;5;241m126\u001b[39m, \u001b[38;5;124m'\u001b[39m\u001b[38;5;124mBSc Comupting and IT\u001b[39m\u001b[38;5;124m'\u001b[39m),\n\u001b[0;32m      5\u001b[0m ]\n\u001b[1;32m----> 7\u001b[0m \u001b[43mconn\u001b[49m\u001b[38;5;241;43m.\u001b[39;49m\u001b[43mexecutemany\u001b[49m\u001b[43m(\u001b[49m\u001b[43msql\u001b[49m\u001b[43m,\u001b[49m\u001b[43m \u001b[49m\u001b[43mvalues\u001b[49m\u001b[43m)\u001b[49m\n\u001b[0;32m      8\u001b[0m db\u001b[38;5;241m.\u001b[39mcommit()\n",
      "File \u001b[1;32m~\\AppData\\Roaming\\Python\\Python39\\site-packages\\mysql\\connector\\cursor.py:671\u001b[0m, in \u001b[0;36mMySQLCursor.executemany\u001b[1;34m(self, operation, seq_params)\u001b[0m\n\u001b[0;32m    669\u001b[0m \u001b[38;5;28;01mtry\u001b[39;00m:\n\u001b[0;32m    670\u001b[0m     \u001b[38;5;28;01mfor\u001b[39;00m params \u001b[38;5;129;01min\u001b[39;00m seq_params:\n\u001b[1;32m--> 671\u001b[0m         \u001b[38;5;28;43mself\u001b[39;49m\u001b[38;5;241;43m.\u001b[39;49m\u001b[43mexecute\u001b[49m\u001b[43m(\u001b[49m\u001b[43moperation\u001b[49m\u001b[43m,\u001b[49m\u001b[43m \u001b[49m\u001b[43mparams\u001b[49m\u001b[43m)\u001b[49m\n\u001b[0;32m    672\u001b[0m         \u001b[38;5;28;01mif\u001b[39;00m \u001b[38;5;28mself\u001b[39m\u001b[38;5;241m.\u001b[39mwith_rows \u001b[38;5;129;01mand\u001b[39;00m \u001b[38;5;28mself\u001b[39m\u001b[38;5;241m.\u001b[39m_have_unread_result():\n\u001b[0;32m    673\u001b[0m             \u001b[38;5;28mself\u001b[39m\u001b[38;5;241m.\u001b[39mfetchall()\n",
      "File \u001b[1;32m~\\AppData\\Roaming\\Python\\Python39\\site-packages\\mysql\\connector\\cursor.py:564\u001b[0m, in \u001b[0;36mMySQLCursor.execute\u001b[1;34m(self, operation, params, multi)\u001b[0m\n\u001b[0;32m    561\u001b[0m     \u001b[38;5;28;01mreturn\u001b[39;00m \u001b[38;5;28mself\u001b[39m\u001b[38;5;241m.\u001b[39m_execute_iter(\u001b[38;5;28mself\u001b[39m\u001b[38;5;241m.\u001b[39m_connection\u001b[38;5;241m.\u001b[39mcmd_query_iter(stmt))\n\u001b[0;32m    563\u001b[0m \u001b[38;5;28;01mtry\u001b[39;00m:\n\u001b[1;32m--> 564\u001b[0m     \u001b[38;5;28mself\u001b[39m\u001b[38;5;241m.\u001b[39m_handle_result(\u001b[38;5;28;43mself\u001b[39;49m\u001b[38;5;241;43m.\u001b[39;49m\u001b[43m_connection\u001b[49m\u001b[38;5;241;43m.\u001b[39;49m\u001b[43mcmd_query\u001b[49m\u001b[43m(\u001b[49m\u001b[43mstmt\u001b[49m\u001b[43m)\u001b[49m)\n\u001b[0;32m    565\u001b[0m \u001b[38;5;28;01mexcept\u001b[39;00m InterfaceError \u001b[38;5;28;01mas\u001b[39;00m err:\n\u001b[0;32m    566\u001b[0m     \u001b[38;5;28;01mif\u001b[39;00m \u001b[38;5;28mself\u001b[39m\u001b[38;5;241m.\u001b[39m_connection\u001b[38;5;241m.\u001b[39mhave_next_result:\n",
      "File \u001b[1;32m~\\AppData\\Roaming\\Python\\Python39\\site-packages\\mysql\\connector\\connection.py:990\u001b[0m, in \u001b[0;36mMySQLConnection.cmd_query\u001b[1;34m(self, query, raw, buffered, raw_as_string)\u001b[0m\n\u001b[0;32m    988\u001b[0m query \u001b[38;5;241m=\u001b[39m \u001b[38;5;28mbytes\u001b[39m(packet)\n\u001b[0;32m    989\u001b[0m \u001b[38;5;28;01mtry\u001b[39;00m:\n\u001b[1;32m--> 990\u001b[0m     result \u001b[38;5;241m=\u001b[39m \u001b[38;5;28;43mself\u001b[39;49m\u001b[38;5;241;43m.\u001b[39;49m\u001b[43m_handle_result\u001b[49m\u001b[43m(\u001b[49m\u001b[38;5;28;43mself\u001b[39;49m\u001b[38;5;241;43m.\u001b[39;49m\u001b[43m_send_cmd\u001b[49m\u001b[43m(\u001b[49m\u001b[43mServerCmd\u001b[49m\u001b[38;5;241;43m.\u001b[39;49m\u001b[43mQUERY\u001b[49m\u001b[43m,\u001b[49m\u001b[43m \u001b[49m\u001b[43mquery\u001b[49m\u001b[43m)\u001b[49m\u001b[43m)\u001b[49m\n\u001b[0;32m    991\u001b[0m \u001b[38;5;28;01mexcept\u001b[39;00m ProgrammingError \u001b[38;5;28;01mas\u001b[39;00m err:\n\u001b[0;32m    992\u001b[0m     \u001b[38;5;28;01mif\u001b[39;00m err\u001b[38;5;241m.\u001b[39merrno \u001b[38;5;241m==\u001b[39m \u001b[38;5;241m3948\u001b[39m \u001b[38;5;129;01mand\u001b[39;00m \u001b[38;5;124m\"\u001b[39m\u001b[38;5;124mLoading local data is disabled\u001b[39m\u001b[38;5;124m\"\u001b[39m \u001b[38;5;129;01min\u001b[39;00m err\u001b[38;5;241m.\u001b[39mmsg:\n",
      "File \u001b[1;32m~\\AppData\\Roaming\\Python\\Python39\\site-packages\\mysql\\connector\\connection.py:784\u001b[0m, in \u001b[0;36mMySQLConnection._handle_result\u001b[1;34m(self, packet)\u001b[0m\n\u001b[0;32m    782\u001b[0m     \u001b[38;5;28;01mreturn\u001b[39;00m \u001b[38;5;28mself\u001b[39m\u001b[38;5;241m.\u001b[39m_handle_eof(packet)\n\u001b[0;32m    783\u001b[0m \u001b[38;5;28;01mif\u001b[39;00m packet[\u001b[38;5;241m4\u001b[39m] \u001b[38;5;241m==\u001b[39m \u001b[38;5;241m255\u001b[39m:\n\u001b[1;32m--> 784\u001b[0m     \u001b[38;5;28;01mraise\u001b[39;00m get_exception(packet)\n\u001b[0;32m    786\u001b[0m \u001b[38;5;66;03m# We have a text result set\u001b[39;00m\n\u001b[0;32m    787\u001b[0m column_count \u001b[38;5;241m=\u001b[39m \u001b[38;5;28mself\u001b[39m\u001b[38;5;241m.\u001b[39m_protocol\u001b[38;5;241m.\u001b[39mparse_column_count(packet)\n",
      "\u001b[1;31mIntegrityError\u001b[0m: 1062 (23000): Duplicate entry '125' for key 'students.PRIMARY'"
     ]
    }
   ],
   "source": [
    "sql = \"INSERT INTO students (name, age, studentNum, programme) VALUES (%s, %s, %s, %s);\"\n",
    "values = [\n",
    "    ('Alice', 63, 125, 'MSc Data Analytics'),\n",
    "    ('Bob', 47, 126, 'BSc Comupting and IT'),\n",
    "]\n",
    "\n",
    "conn.executemany(sql, values)\n",
    "db.commit()"
   ]
  },
  {
   "cell_type": "code",
   "execution_count": 7,
   "id": "0730a2a1",
   "metadata": {
    "ExecuteTime": {
     "end_time": "2022-11-21T21:45:33.743488Z",
     "start_time": "2022-11-21T21:45:33.739483Z"
    }
   },
   "outputs": [
    {
     "name": "stdout",
     "output_type": "stream",
     "text": [
      "('Joe', 40, 123, 'MSc Data Analytics')\n",
      "('Alice', 63, 125, 'MSc Data Analytics')\n",
      "('Bob', 47, 126, 'BSc Comupting and IT')\n"
     ]
    }
   ],
   "source": [
    "conn.execute(\"SELECT * FROM students;\")\n",
    "for result in conn:\n",
    "    print(result)"
   ]
  },
  {
   "cell_type": "code",
   "execution_count": 12,
   "id": "6ec9b95f",
   "metadata": {
    "ExecuteTime": {
     "end_time": "2022-11-21T21:47:40.145560Z",
     "start_time": "2022-11-21T21:47:40.139555Z"
    }
   },
   "outputs": [
    {
     "name": "stdout",
     "output_type": "stream",
     "text": [
      "('Joe', 40, 123, 'MSc Data Analytics')\n",
      "('Alice', 63, 125, 'MSc Data Analytics')\n"
     ]
    }
   ],
   "source": [
    "conn.execute(\"SELECT * FROM students WHERE programme LIKE 'MSc %';\")\n",
    "for result in conn:\n",
    "    print(result)"
   ]
  },
  {
   "cell_type": "code",
   "execution_count": 13,
   "id": "41bd34aa",
   "metadata": {
    "ExecuteTime": {
     "end_time": "2022-11-21T21:48:18.810590Z",
     "start_time": "2022-11-21T21:48:18.795577Z"
    }
   },
   "outputs": [
    {
     "name": "stdout",
     "output_type": "stream",
     "text": [
      "('Joe',)\n",
      "('Alice',)\n"
     ]
    }
   ],
   "source": [
    "conn.execute(\"SELECT name FROM students WHERE programme LIKE 'MSc %';\")\n",
    "for result in conn:\n",
    "    print(result)"
   ]
  },
  {
   "cell_type": "code",
   "execution_count": 14,
   "id": "47f58b88",
   "metadata": {
    "ExecuteTime": {
     "end_time": "2022-11-21T21:48:32.468661Z",
     "start_time": "2022-11-21T21:48:32.459653Z"
    }
   },
   "outputs": [
    {
     "name": "stdout",
     "output_type": "stream",
     "text": [
      "('Joe', 123)\n",
      "('Alice', 125)\n"
     ]
    }
   ],
   "source": [
    "conn.execute(\"SELECT name, studentNum FROM students WHERE programme LIKE 'MSc %';\")\n",
    "for result in conn:\n",
    "    print(result)"
   ]
  },
  {
   "cell_type": "code",
   "execution_count": 16,
   "id": "e82db6f7",
   "metadata": {
    "ExecuteTime": {
     "end_time": "2022-11-21T21:50:48.797100Z",
     "start_time": "2022-11-21T21:50:48.781085Z"
    }
   },
   "outputs": [
    {
     "data": {
      "text/plain": [
       "True"
      ]
     },
     "execution_count": 16,
     "metadata": {},
     "output_type": "execute_result"
    }
   ],
   "source": [
    "conn.close()"
   ]
  },
  {
   "cell_type": "markdown",
   "id": "e794e8aa",
   "metadata": {},
   "source": [
    "# Exercise 1\n",
    "\n",
    "Create a new table called programmes\n",
    "\n",
    "The columns are the programme name (primary key), as well as up to 6 modules\n",
    "\n",
    "Insert the MSc Data Analytics with the modules for this semester\n"
   ]
  },
  {
   "cell_type": "markdown",
   "id": "53835228",
   "metadata": {},
   "source": [
    "# Exercise 2\n",
    "Read one of the company .csv files\n",
    "\n",
    "Store it in a table in a new database"
   ]
  },
  {
   "cell_type": "code",
   "execution_count": null,
   "id": "928ecbda",
   "metadata": {},
   "outputs": [],
   "source": []
  }
 ],
 "metadata": {
  "kernelspec": {
   "display_name": "Python 3 (ipykernel)",
   "language": "python",
   "name": "python3"
  },
  "language_info": {
   "codemirror_mode": {
    "name": "ipython",
    "version": 3
   },
   "file_extension": ".py",
   "mimetype": "text/x-python",
   "name": "python",
   "nbconvert_exporter": "python",
   "pygments_lexer": "ipython3",
   "version": "3.9.12"
  }
 },
 "nbformat": 4,
 "nbformat_minor": 5
}
